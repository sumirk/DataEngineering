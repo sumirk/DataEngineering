{
 "cells": [
  {
   "cell_type": "markdown",
   "id": "82ca5324",
   "metadata": {},
   "source": [
    "# Lets do simple operations on Cassandra. We are going to use Amazon Keyspaces here for this demo. "
   ]
  },
  {
   "cell_type": "code",
   "execution_count": 18,
   "id": "3966ebbf",
   "metadata": {},
   "outputs": [],
   "source": [
    "## I am using this plugin to connect using SSL - https://github.com/aws-samples/amazon-keyspaces-examples/tree/main/python/datastax-v3/connection-sigv4"
   ]
  },
  {
   "cell_type": "code",
   "execution_count": 2,
   "id": "54f140f1",
   "metadata": {},
   "outputs": [
    {
     "name": "stdout",
     "output_type": "stream",
     "text": [
      "Collecting cassandra-driver\n",
      "  Downloading cassandra_driver-3.25.0-cp36-cp36m-manylinux1_x86_64.whl (3.8 MB)\n",
      "\u001b[K     |████████████████████████████████| 3.8 MB 25.3 MB/s eta 0:00:01\n",
      "\u001b[?25hRequirement already satisfied: six>=1.9 in /home/ec2-user/anaconda3/envs/python3/lib/python3.6/site-packages (from cassandra-driver) (1.15.0)\n",
      "Collecting geomet<0.3,>=0.1\n",
      "  Downloading geomet-0.2.1.post1-py3-none-any.whl (18 kB)\n",
      "Requirement already satisfied: click in /home/ec2-user/anaconda3/envs/python3/lib/python3.6/site-packages (from geomet<0.3,>=0.1->cassandra-driver) (7.1.2)\n",
      "Installing collected packages: geomet, cassandra-driver\n",
      "Successfully installed cassandra-driver-3.25.0 geomet-0.2.1.post1\n",
      "\u001b[33mWARNING: You are using pip version 21.1.3; however, version 21.2.4 is available.\n",
      "You should consider upgrading via the '/home/ec2-user/anaconda3/envs/python3/bin/python -m pip install --upgrade pip' command.\u001b[0m\n"
     ]
    }
   ],
   "source": [
    "! pip install cassandra-driver"
   ]
  },
  {
   "cell_type": "code",
   "execution_count": 3,
   "id": "df369b7f",
   "metadata": {},
   "outputs": [],
   "source": []
  },
  {
   "cell_type": "code",
   "execution_count": 8,
   "id": "6f94c237",
   "metadata": {},
   "outputs": [
    {
     "name": "stdout",
     "output_type": "stream",
     "text": [
      "Processing /home/ec2-user/SageMaker/utils/datastax-v3/connection-sigv4\n",
      "\u001b[33m  DEPRECATION: A future pip version will change local packages to be built in-place without first copying to a temporary directory. We recommend you use --use-feature=in-tree-build to test your packages with this new behavior before it becomes the default.\n",
      "   pip 21.3 will remove support for this functionality. You can find discussion regarding this at https://github.com/pypa/pip/issues/7555.\u001b[0m\n",
      "Collecting cassandra-sigv4\n",
      "  Using cached cassandra_sigv4-4.0.2-py2.py3-none-any.whl (9.8 kB)\n",
      "Requirement already satisfied: boto3 in /home/ec2-user/anaconda3/envs/python3/lib/python3.6/site-packages (from cassandra-sigv4->sigv4-sample==1.0) (1.18.27)\n",
      "Requirement already satisfied: cassandra-driver in /home/ec2-user/anaconda3/envs/python3/lib/python3.6/site-packages (from cassandra-sigv4->sigv4-sample==1.0) (3.25.0)\n",
      "Requirement already satisfied: six in /home/ec2-user/anaconda3/envs/python3/lib/python3.6/site-packages (from cassandra-sigv4->sigv4-sample==1.0) (1.15.0)\n",
      "Requirement already satisfied: botocore<1.22.0,>=1.21.27 in /home/ec2-user/anaconda3/envs/python3/lib/python3.6/site-packages (from boto3->cassandra-sigv4->sigv4-sample==1.0) (1.21.27)\n",
      "Requirement already satisfied: jmespath<1.0.0,>=0.7.1 in /home/ec2-user/anaconda3/envs/python3/lib/python3.6/site-packages (from boto3->cassandra-sigv4->sigv4-sample==1.0) (0.10.0)\n",
      "Requirement already satisfied: s3transfer<0.6.0,>=0.5.0 in /home/ec2-user/anaconda3/envs/python3/lib/python3.6/site-packages (from boto3->cassandra-sigv4->sigv4-sample==1.0) (0.5.0)\n",
      "Requirement already satisfied: urllib3<1.27,>=1.25.4 in /home/ec2-user/anaconda3/envs/python3/lib/python3.6/site-packages (from botocore<1.22.0,>=1.21.27->boto3->cassandra-sigv4->sigv4-sample==1.0) (1.26.6)\n",
      "Requirement already satisfied: python-dateutil<3.0.0,>=2.1 in /home/ec2-user/anaconda3/envs/python3/lib/python3.6/site-packages (from botocore<1.22.0,>=1.21.27->boto3->cassandra-sigv4->sigv4-sample==1.0) (2.8.1)\n",
      "Requirement already satisfied: geomet<0.3,>=0.1 in /home/ec2-user/anaconda3/envs/python3/lib/python3.6/site-packages (from cassandra-driver->cassandra-sigv4->sigv4-sample==1.0) (0.2.1.post1)\n",
      "Requirement already satisfied: click in /home/ec2-user/anaconda3/envs/python3/lib/python3.6/site-packages (from geomet<0.3,>=0.1->cassandra-driver->cassandra-sigv4->sigv4-sample==1.0) (7.1.2)\n",
      "Building wheels for collected packages: sigv4-sample\n",
      "  Building wheel for sigv4-sample (setup.py) ... \u001b[?25ldone\n",
      "\u001b[?25h  Created wheel for sigv4-sample: filename=sigv4_sample-1.0-py3-none-any.whl size=4032 sha256=2fcf071bb0fc86ff60aeccdee3320868d89c435632395e32ff72574dcd22928b\n",
      "  Stored in directory: /home/ec2-user/.cache/pip/wheels/1d/eb/da/4c682c3570a87e40e9ac8cd38c0c3bcf47abaeab0c79da0d56\n",
      "Successfully built sigv4-sample\n",
      "Installing collected packages: cassandra-sigv4, sigv4-sample\n",
      "Successfully installed cassandra-sigv4-4.0.2 sigv4-sample-1.0\n",
      "\u001b[33mWARNING: You are using pip version 21.1.3; however, version 21.2.4 is available.\n",
      "You should consider upgrading via the '/home/ec2-user/anaconda3/envs/python3/bin/python -m pip install --upgrade pip' command.\u001b[0m\n"
     ]
    }
   ],
   "source": [
    "!pip install /home/ec2-user/SageMaker/utils/datastax-v3/connection-sigv4"
   ]
  },
  {
   "cell_type": "code",
   "execution_count": 9,
   "id": "16a310fe",
   "metadata": {},
   "outputs": [],
   "source": [
    "#\n",
    "# Copyright Amazon.com, Inc. or its affiliates. All Rights Reserved.\n",
    "# SPDX-License-Identifier: MIT-0\n",
    "#\n",
    "try:\n",
    "    import os\n",
    "    import boto3\n",
    "    import ssl\n",
    "    import sys\n",
    "    from boto3 import Session\n",
    "    from cassandra_sigv4.auth import AuthProvider, Authenticator, SigV4AuthProvider\n",
    "    from ssl import SSLContext, PROTOCOL_TLSv1_2, CERT_REQUIRED\n",
    "    from cassandra.cluster import Cluster\n",
    "    from cassandra import ConsistencyLevel\n",
    "    from cassandra.query import SimpleStatement\n",
    "except ImportError:\n",
    "    raise RuntimeError('Required packages Failed To install please run \"python Setup.py install\" command or install '\n",
    "                       'using pip')\n"
   ]
  },
  {
   "cell_type": "code",
   "execution_count": 19,
   "id": "61b78d82",
   "metadata": {},
   "outputs": [
    {
     "name": "stdout",
     "output_type": "stream",
     "text": [
      "CONNECTION TO KEYSPACES SUCCESSFUL2\n",
      "PRINTING SCHEMA INFORMATION2\n",
      "Found Keyspace: system_schema\n",
      "Found Keyspace: system_schema_mcs\n",
      "Found Keyspace: system\n",
      "Found Keyspace: my_demo_keyspace\n"
     ]
    }
   ],
   "source": [
    "ssl_context = SSLContext(PROTOCOL_TLSv1_2)\n",
    "cert_path = os.path.join(os.getcwd(), 'resources/sf-class2-root.crt')\n",
    "ssl_context.load_verify_locations(cert_path)\n",
    "ssl_context.verify_mode = CERT_REQUIRED\n",
    "\n",
    "# this will automatically pull the credentials from either the\n",
    "# ~/.aws/credentials file\n",
    "# ~/.aws/config \n",
    "# or from the boto environment variables.\n",
    "boto_session = boto3.Session()\n",
    "\n",
    "\n",
    "# verify that the session is set correctly\n",
    "credentials = boto_session.get_credentials()\n",
    "\n",
    "if not credentials or not credentials.access_key:\n",
    "    sys.exit(\"No access key found, please setup credentials (AWS_ACCESS_KEY_ID, AWS_SECRET_ACCESS_KEY) according to https://docs.aws.amazon.com/cli/latest/userguide/cli-configure-quickstart.html#cli-configure-quickstart-precedence\\n\")\n",
    "\n",
    "\n",
    "region = boto_session.region_name\n",
    "\n",
    "if not region:  \n",
    "    sys.exit(\"You do not have a region set.  Set environment variable AWS_REGION or provide a configuration see https://docs.aws.amazon.com/cli/latest/userguide/cli-configure-quickstart.html#cli-configure-quickstart-precedence\\n\")\n",
    "\n",
    "\n",
    "auth_provider = SigV4AuthProvider(boto_session)\n",
    "contact_point = \"cassandra.{}.amazonaws.com\".format(region)\n",
    "\n",
    "cluster = Cluster([contact_point], \n",
    "                 ssl_context=ssl_context, \n",
    "                 auth_provider=auth_provider,\n",
    "                 port=9142)\n",
    "\n",
    "session = cluster.connect()\n",
    "print(\"CONNECTION TO KEYSPACES SUCCESSFUL2\")\n",
    "\n",
    "rows = session.execute('select * from system_schema.keyspaces')\n",
    "print(\"PRINTING SCHEMA INFORMATION2\")\n",
    "for r in rows.current_rows:  \n",
    "    print(\"Found Keyspace: {}\".format(r.keyspace_name))\n",
    "\n",
    "\n"
   ]
  },
  {
   "cell_type": "markdown",
   "id": "0a188797",
   "metadata": {},
   "source": [
    "### Lets create a new keyspace"
   ]
  },
  {
   "cell_type": "code",
   "execution_count": 21,
   "id": "38dd2231",
   "metadata": {},
   "outputs": [],
   "source": [
    "try:\n",
    "    session.execute(\"\"\"CREATE KEYSPACE \"test\" \\\n",
    "                    WITH REPLICATION = {'class': 'SingleRegionStrategy'}\"\"\")\n",
    "except Exception as e:\n",
    "    print(e)"
   ]
  },
  {
   "cell_type": "markdown",
   "id": "c6687f59",
   "metadata": {},
   "source": [
    "# Set the specific Keyspaces, note that the connection is alread established above."
   ]
  },
  {
   "cell_type": "code",
   "execution_count": 22,
   "id": "54819b32",
   "metadata": {},
   "outputs": [],
   "source": [
    "try:\n",
    "    session.set_keyspace('test')\n",
    "except Exception as e:\n",
    "    print(e)  "
   ]
  },
  {
   "cell_type": "markdown",
   "id": "908857aa",
   "metadata": {},
   "source": [
    "### Begin with creating a Music Library of albums. Each album has a lot of information we could add to the music library table. We will  start with album name, artist name, year. "
   ]
  },
  {
   "cell_type": "markdown",
   "id": "77e1b0b2",
   "metadata": {},
   "source": [
    "### But ...Stop\n",
    "\n",
    "### We are working with Apache Cassandra a NoSQL database. We can't model our data and create our table without more information.\n",
    "\n",
    "### Think about what queries will you be performing on this data?"
   ]
  },
  {
   "cell_type": "markdown",
   "id": "9197273f",
   "metadata": {},
   "source": [
    "#### We want to be able to get every album that was released in a particular year. \n",
    "`select * from music_library WHERE YEAR=1970`\n",
    "\n",
    "*To do that:* <ol><li> We need to be able to do a WHERE on YEAR. <li>YEAR will become my partition key,<li>artist name will be my clustering column to make each Primary Key unique. <li>**Remember there are no duplicates in Apache Cassandra.**</ol>\n",
    "\n",
    "**Table Name:** music_library<br>\n",
    "**column 1:** Album Name<br>\n",
    "**column 2:** Artist Name<br>\n",
    "**column 3:** Year <br>\n",
    "PRIMARY KEY(year, artist name)\n",
    "\n",
    "\n",
    "### Now to translate this information into a Create Table Statement. \n",
    "More information on Data Types can be found here: https://datastax.github.io/python-driver/<br>\n"
   ]
  },
  {
   "cell_type": "code",
   "execution_count": 26,
   "id": "a1ee3f57",
   "metadata": {},
   "outputs": [],
   "source": [
    "query = \"CREATE TABLE IF NOT EXISTS music_library (year int, artist_name text, album_name text, PRIMARY KEY (year, artist_name))\""
   ]
  },
  {
   "cell_type": "code",
   "execution_count": 27,
   "id": "0b23849a",
   "metadata": {},
   "outputs": [],
   "source": [
    "try:\n",
    "    session.execute(query)\n",
    "except Exception as e:\n",
    "    print(e)  "
   ]
  },
  {
   "cell_type": "code",
   "execution_count": 30,
   "id": "807bd288",
   "metadata": {},
   "outputs": [
    {
     "name": "stdout",
     "output_type": "stream",
     "text": [
      "Error from server: code=2200 [Invalid query] message=\"countRows is not yet supported.\"\n"
     ]
    }
   ],
   "source": [
    "query = \"select count(*) from music_library\"\n",
    "try:\n",
    "    count = session.execute(query)\n",
    "except Exception as e:\n",
    "    print(e)  \n",
    "    \n"
   ]
  },
  {
   "cell_type": "code",
   "execution_count": 32,
   "id": "ef5b22f0",
   "metadata": {},
   "outputs": [
    {
     "name": "stdout",
     "output_type": "stream",
     "text": [
      "Error from server: code=2200 [Invalid query] message=\"Consistency level LOCAL_ONE is not supported for this operation. Supported consistency levels are: LOCAL_QUORUM\"\n",
      "Error from server: code=2200 [Invalid query] message=\"Consistency level LOCAL_ONE is not supported for this operation. Supported consistency levels are: LOCAL_QUORUM\"\n"
     ]
    }
   ],
   "source": [
    "query = \"INSERT INTO music_library (year , artist_name, album_name)\"\n",
    "query = query + \" VALUES (%s,%s,%s)\"\n",
    "\n",
    "try:\n",
    "    session.execute(query, (1970, \"The Beatles\", \"Let it be\"))\n",
    "except Exception as e:\n",
    "    print(e)  \n",
    "    \n",
    "try:\n",
    "    session.execute(query, (1965, \"The Beatles\", \"Rubber Soul\"))\n",
    "except Exception as e:\n",
    "    print(e)  \n",
    "    "
   ]
  },
  {
   "cell_type": "markdown",
   "id": "383a0847",
   "metadata": {},
   "source": [
    "\n",
    "#### Amazon KeySpaces currently Supports only Local_Quorum for writes and hence we need to specify this as the driver is using Local_one by default. We are trying a shortcut to define it as default.\n",
    "\n",
    "\n",
    "\n",
    "\n",
    "\n",
    "\n"
   ]
  },
  {
   "cell_type": "code",
   "execution_count": 47,
   "id": "637c34ff",
   "metadata": {},
   "outputs": [],
   "source": [
    "# https://docs.datastax.com/en/developer/python-driver/3.25/getting_started/#setting-a-consistency-level\n",
    "# Already imported in the beginning\n",
    "# from cassandra import ConsistencyLevel\n",
    "# from cassandra.query import SimpleStatement"
   ]
  },
  {
   "cell_type": "code",
   "execution_count": 46,
   "id": "6d4f0e0e",
   "metadata": {},
   "outputs": [],
   "source": [
    "query = SimpleStatement(\"INSERT INTO music_library (year , artist_name, album_name) VALUES (%s,%s,%s)\",\n",
    "    consistency_level=ConsistencyLevel.LOCAL_QUORUM)\n",
    "\n",
    "try:\n",
    "    session.execute(query, (1970, \"The Beatles\", \"Let it be\"))\n",
    "except Exception as e:\n",
    "    print(e)  \n",
    "    \n",
    "try:\n",
    "    session.execute(query, (1965, \"The Beatles\", \"Rubber Soul\"))\n",
    "except Exception as e:\n",
    "    print(e)  \n",
    "    \n"
   ]
  },
  {
   "cell_type": "markdown",
   "id": "b0eac9ab",
   "metadata": {},
   "source": [
    "### Lets check the data which we inserted"
   ]
  },
  {
   "cell_type": "code",
   "execution_count": 37,
   "id": "3248e212",
   "metadata": {},
   "outputs": [],
   "source": [
    "query = \"select * from music_library\"\n",
    "try:\n",
    "    count = session.execute(query)\n",
    "except Exception as e:\n",
    "    print(e)  \n",
    "    "
   ]
  },
  {
   "cell_type": "code",
   "execution_count": 41,
   "id": "93b4eb97",
   "metadata": {},
   "outputs": [
    {
     "data": {
      "text/plain": [
       "[Row(year=1970, artist_name='The Beatles', album_name='Let it be'),\n",
       " Row(year=1965, artist_name='The Beatles', album_name='Rubber Soul')]"
      ]
     },
     "execution_count": 41,
     "metadata": {},
     "output_type": "execute_result"
    }
   ],
   "source": [
    "count.all()"
   ]
  },
  {
   "cell_type": "code",
   "execution_count": 44,
   "id": "b9f9daec",
   "metadata": {},
   "outputs": [
    {
     "data": {
      "text/plain": [
       "[Row(year=1970, artist_name='The Beatles', album_name='Let it be')]"
      ]
     },
     "execution_count": 44,
     "metadata": {},
     "output_type": "execute_result"
    }
   ],
   "source": [
    "query = \"select * from music_library WHERE YEAR=1970\"\n",
    "try:\n",
    "    count = session.execute(query)\n",
    "except Exception as e:\n",
    "    print(e)  \n",
    "count.all()"
   ]
  },
  {
   "cell_type": "code",
   "execution_count": null,
   "id": "33c4cef6",
   "metadata": {},
   "outputs": [],
   "source": []
  }
 ],
 "metadata": {
  "kernelspec": {
   "display_name": "conda_python3",
   "language": "python",
   "name": "conda_python3"
  },
  "language_info": {
   "codemirror_mode": {
    "name": "ipython",
    "version": 3
   },
   "file_extension": ".py",
   "mimetype": "text/x-python",
   "name": "python",
   "nbconvert_exporter": "python",
   "pygments_lexer": "ipython3",
   "version": "3.6.13"
  }
 },
 "nbformat": 4,
 "nbformat_minor": 5
}
