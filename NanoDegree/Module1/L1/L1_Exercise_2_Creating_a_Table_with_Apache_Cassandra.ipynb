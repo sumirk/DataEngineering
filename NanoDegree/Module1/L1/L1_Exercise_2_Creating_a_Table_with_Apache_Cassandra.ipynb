{
 "cells": [
  {
   "cell_type": "markdown",
   "metadata": {},
   "source": [
    "# Lesson 1 Exercise 2: Creating a Table with Apache Cassandra\n",
    "<img src=\"images/cassandralogo.png\" width=\"250\" height=\"250\">"
   ]
  },
  {
   "cell_type": "markdown",
   "metadata": {},
   "source": [
    "### Walk through the basics of Apache Cassandra. Complete the following tasks:<li> Create a table in Apache Cassandra, <li> Insert rows of data,<li> Run a simple SQL query to validate the information. <br>\n",
    "`#####` denotes where the code needs to be completed.\n",
    "    \n",
    "Note: __Do not__ click the blue Preview button in the lower taskbar"
   ]
  },
  {
   "cell_type": "markdown",
   "metadata": {},
   "source": [
    "#### Import Apache Cassandra python package"
   ]
  },
  {
   "cell_type": "code",
   "execution_count": 6,
   "metadata": {},
   "outputs": [],
   "source": [
    "import cassandra"
   ]
  },
  {
   "cell_type": "code",
   "execution_count": 7,
   "metadata": {},
   "outputs": [],
   "source": [
    "#\n",
    "# Copyright Amazon.com, Inc. or its affiliates. All Rights Reserved.\n",
    "# SPDX-License-Identifier: MIT-0\n",
    "#\n",
    "try:\n",
    "    import os\n",
    "    import boto3\n",
    "    import ssl\n",
    "    import sys\n",
    "    from boto3 import Session\n",
    "    from cassandra_sigv4.auth import AuthProvider, Authenticator, SigV4AuthProvider\n",
    "    from ssl import SSLContext, PROTOCOL_TLSv1_2, CERT_REQUIRED\n",
    "    from cassandra.cluster import Cluster\n",
    "    from cassandra import ConsistencyLevel\n",
    "    from cassandra.query import SimpleStatement\n",
    "except ImportError:\n",
    "    raise RuntimeError('Required packages Failed To install please run \"python Setup.py install\" command or install '\n",
    "                       'using pip')\n"
   ]
  },
  {
   "cell_type": "markdown",
   "metadata": {},
   "source": [
    "### Create a connection to the database"
   ]
  },
  {
   "cell_type": "code",
   "execution_count": 8,
   "metadata": {},
   "outputs": [
    {
     "name": "stdout",
     "output_type": "stream",
     "text": [
      "CONNECTION TO KEYSPACES SUCCESSFUL2\n",
      "PRINTING SCHEMA INFORMATION2\n",
      "Found Keyspace: system_schema\n",
      "Found Keyspace: system_schema_mcs\n",
      "Found Keyspace: system\n",
      "Found Keyspace: my_demo_keyspace\n",
      "Found Keyspace: newkeyspace\n",
      "Found Keyspace: test\n"
     ]
    }
   ],
   "source": [
    "ssl_context = SSLContext(PROTOCOL_TLSv1_2)\n",
    "cert_path = os.path.join(os.getcwd(), 'resources/sf-class2-root.crt')\n",
    "ssl_context.load_verify_locations(cert_path)\n",
    "ssl_context.verify_mode = CERT_REQUIRED\n",
    "\n",
    "# this will automatically pull the credentials from either the\n",
    "# ~/.aws/credentials file\n",
    "# ~/.aws/config \n",
    "# or from the boto environment variables.\n",
    "boto_session = boto3.Session()\n",
    "\n",
    "\n",
    "# verify that the session is set correctly\n",
    "credentials = boto_session.get_credentials()\n",
    "\n",
    "if not credentials or not credentials.access_key:\n",
    "    sys.exit(\"No access key found, please setup credentials (AWS_ACCESS_KEY_ID, AWS_SECRET_ACCESS_KEY) according to https://docs.aws.amazon.com/cli/latest/userguide/cli-configure-quickstart.html#cli-configure-quickstart-precedence\\n\")\n",
    "\n",
    "\n",
    "region = boto_session.region_name\n",
    "\n",
    "if not region:  \n",
    "    sys.exit(\"You do not have a region set.  Set environment variable AWS_REGION or provide a configuration see https://docs.aws.amazon.com/cli/latest/userguide/cli-configure-quickstart.html#cli-configure-quickstart-precedence\\n\")\n",
    "\n",
    "\n",
    "auth_provider = SigV4AuthProvider(boto_session)\n",
    "contact_point = \"cassandra.{}.amazonaws.com\".format(region)\n",
    "\n",
    "cluster = Cluster([contact_point], \n",
    "                 ssl_context=ssl_context, \n",
    "                 auth_provider=auth_provider,\n",
    "                 port=9142)\n",
    "\n",
    "session = cluster.connect()\n",
    "print(\"CONNECTION TO KEYSPACES SUCCESSFUL2\")\n",
    "\n",
    "rows = session.execute('select * from system_schema.keyspaces')\n",
    "print(\"PRINTING SCHEMA INFORMATION2\")\n",
    "for r in rows.current_rows:  \n",
    "    print(\"Found Keyspace: {}\".format(r.keyspace_name))\n",
    "\n",
    "\n",
    " "
   ]
  },
  {
   "cell_type": "markdown",
   "metadata": {},
   "source": [
    "### TO-DO: Create a keyspace to do the work in "
   ]
  },
  {
   "cell_type": "code",
   "execution_count": 9,
   "metadata": {},
   "outputs": [],
   "source": [
    "## TO-DO: Create the keyspace\n",
    "try:\n",
    "    session.execute(\"\"\"\n",
    "    CREATE KEYSPACE IF NOT EXISTS song_library \n",
    "    WITH REPLICATION = \n",
    "    { 'class' : 'SimpleStrategy', 'replication_factor' : 1 }\"\"\"\n",
    ")\n",
    "\n",
    "except Exception as e:\n",
    "    print(e)"
   ]
  },
  {
   "cell_type": "markdown",
   "metadata": {},
   "source": [
    "### TO-DO: Connect to the Keyspace"
   ]
  },
  {
   "cell_type": "code",
   "execution_count": 10,
   "metadata": {},
   "outputs": [],
   "source": [
    "## To-Do: Add in the keyspace you created\n",
    "try:\n",
    "    session.set_keyspace('song_library')\n",
    "except Exception as e:\n",
    "    print(e)"
   ]
  },
  {
   "cell_type": "markdown",
   "metadata": {},
   "source": [
    "### Create a Song Library that contains a list of songs, including the song name, artist name, year, album it was from, and if it was a single. \n",
    "\n",
    "`song_title\n",
    "artist_name\n",
    "year\n",
    "album_name\n",
    "single`"
   ]
  },
  {
   "cell_type": "markdown",
   "metadata": {},
   "source": [
    "### TO-DO: You need to create a table to be able to run the following query: \n",
    "`select * from songs WHERE year=1970 AND artist_name=\"The Beatles\"`"
   ]
  },
  {
   "cell_type": "code",
   "execution_count": 26,
   "metadata": {},
   "outputs": [],
   "source": [
    "## TO-DO: Complete the query below\n",
    "query = \"\"\"CREATE TABLE IF NOT EXISTS song_library (song_title text, artist_name text, year int, album_name text, single boolean, PRIMARY KEY ((year, artist_name),album_name ) ) \"\"\"\n",
    "\n",
    "try:\n",
    "    session.execute(query)\n",
    "except Exception as e:\n",
    "    print(e)\n"
   ]
  },
  {
   "cell_type": "markdown",
   "metadata": {},
   "source": [
    "### TO-DO: Insert the following two rows in your table\n",
    "`First Row:  \"Across The Universe\", \"The Beatles\", \"1970\", \"False\", \"Let It Be\"`\n",
    "\n",
    "`Second Row: \"The Beatles\", \"Think For Yourself\", \"False\", \"1965\", \"Rubber Soul\"`"
   ]
  },
  {
   "cell_type": "code",
   "execution_count": 27,
   "metadata": {},
   "outputs": [],
   "source": [
    "## Add in query and then run the insert statement\n",
    "\n",
    "query = SimpleStatement(\"INSERT INTO song_library (song_title , artist_name , year , album_name , single ) VALUES (%s,%s,%s,%s,%s)\",\n",
    "    consistency_level=ConsistencyLevel.LOCAL_QUORUM)\n",
    "\n",
    "\n",
    "try:\n",
    "    session.execute(query, (\"Let It Be\", \"The Beatles\", 1970, \"Across The Universe\" , False))\n",
    "except Exception as e:\n",
    "    print(e)  \n",
    "    \n",
    "try:\n",
    "    session.execute(query, (\"Think For Yourself\", \"The Beatles\", 1965, \"Rubber Soul\", False))\n",
    "except Exception as e:\n",
    "    print(e)  \n",
    "    "
   ]
  },
  {
   "cell_type": "markdown",
   "metadata": {},
   "source": [
    "### TO-DO: Validate your data was inserted into the table."
   ]
  },
  {
   "cell_type": "code",
   "execution_count": 35,
   "metadata": {
    "scrolled": true
   },
   "outputs": [
    {
     "name": "stdout",
     "output_type": "stream",
     "text": [
      "Let It Be The Beatles 1970 Across The Universe False\n",
      "Think For Yourself The Beatles 1965 Rubber Soul False\n"
     ]
    }
   ],
   "source": [
    "## TO-DO: Complete and then run the select statement to validate the data was inserted into the table\n",
    "query = 'SELECT * FROM song_library'\n",
    "try:\n",
    "    rows = session.execute(query)\n",
    "except Exception as e:\n",
    "    print(e)\n",
    "    \n",
    "for row in rows:\n",
    "    print (row.song_title , row.artist_name , row.year , row.album_name , row.single)"
   ]
  },
  {
   "cell_type": "markdown",
   "metadata": {},
   "source": [
    "### TO-DO: Validate the Data Model with the original query.\n",
    "\n",
    "`select * from songs WHERE YEAR=1970 AND artist_name=\"The Beatles\"`"
   ]
  },
  {
   "cell_type": "code",
   "execution_count": 37,
   "metadata": {},
   "outputs": [
    {
     "name": "stdout",
     "output_type": "stream",
     "text": [
      "Let It Be The Beatles 1970 Across The Universe False\n"
     ]
    }
   ],
   "source": [
    "##TO-DO: Complete the select statement to run the query \n",
    "query = \"select * from song_library WHERE YEAR=1970 AND artist_name='The Beatles' \"\n",
    "try:\n",
    "    rows = session.execute(query)\n",
    "except Exception as e:\n",
    "    print(e)\n",
    "    \n",
    "for row in rows:\n",
    "    print (row.song_title , row.artist_name , row.year , row.album_name , row.single)"
   ]
  },
  {
   "cell_type": "markdown",
   "metadata": {},
   "source": [
    "### And Finally close the session and cluster connection"
   ]
  },
  {
   "cell_type": "code",
   "execution_count": 38,
   "metadata": {},
   "outputs": [],
   "source": [
    "session.shutdown()\n",
    "cluster.shutdown()"
   ]
  },
  {
   "cell_type": "code",
   "execution_count": null,
   "metadata": {},
   "outputs": [],
   "source": []
  }
 ],
 "metadata": {
  "kernelspec": {
   "display_name": "conda_python3",
   "language": "python",
   "name": "conda_python3"
  },
  "language_info": {
   "codemirror_mode": {
    "name": "ipython",
    "version": 3
   },
   "file_extension": ".py",
   "mimetype": "text/x-python",
   "name": "python",
   "nbconvert_exporter": "python",
   "pygments_lexer": "ipython3",
   "version": "3.6.13"
  }
 },
 "nbformat": 4,
 "nbformat_minor": 4
}
