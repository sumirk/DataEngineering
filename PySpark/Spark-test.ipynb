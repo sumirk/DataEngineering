{
 "cells": [
  {
   "cell_type": "code",
   "execution_count": 2,
   "id": "992e40dd",
   "metadata": {},
   "outputs": [],
   "source": [
    "import pyspark"
   ]
  },
  {
   "cell_type": "code",
   "execution_count": 3,
   "id": "3677aa43",
   "metadata": {},
   "outputs": [],
   "source": [
    "sc = pyspark.SparkContext('local[*]')"
   ]
  },
  {
   "cell_type": "code",
   "execution_count": 4,
   "id": "35b0e9a1",
   "metadata": {},
   "outputs": [],
   "source": [
    "big_list = range(1000)"
   ]
  },
  {
   "cell_type": "code",
   "execution_count": 5,
   "id": "162ec84c",
   "metadata": {},
   "outputs": [],
   "source": [
    "rdd = sc.parallelize(big_list, 2)"
   ]
  },
  {
   "cell_type": "code",
   "execution_count": 6,
   "id": "ed9b5d81",
   "metadata": {},
   "outputs": [
    {
     "data": {
      "text/plain": [
       "[1, 3, 5, 7, 9]"
      ]
     },
     "execution_count": 6,
     "metadata": {},
     "output_type": "execute_result"
    }
   ],
   "source": [
    "odds = rdd.filter(lambda x : x% 2 !=0)\n",
    "odds.take(5)"
   ]
  },
  {
   "cell_type": "code",
   "execution_count": 7,
   "id": "f2791842",
   "metadata": {},
   "outputs": [],
   "source": [
    "words = \"Spark is a great tool as it makes data processing so easy to perform and hence I like Spark\".split(\" \")"
   ]
  },
  {
   "cell_type": "code",
   "execution_count": 9,
   "id": "7543fc62",
   "metadata": {},
   "outputs": [],
   "source": [
    "words_rdd = sc.parallelize(words)"
   ]
  },
  {
   "cell_type": "code",
   "execution_count": 11,
   "id": "1f63713d",
   "metadata": {},
   "outputs": [
    {
     "data": {
      "text/plain": [
       "['perform',\n",
       " 'like',\n",
       " 'a',\n",
       " 'great',\n",
       " 'tool',\n",
       " 'makes',\n",
       " 'processing',\n",
       " 'to',\n",
       " 'and',\n",
       " 'Spark',\n",
       " 'is',\n",
       " 'as',\n",
       " 'it',\n",
       " 'data',\n",
       " 'so',\n",
       " 'easy',\n",
       " 'hence',\n",
       " 'I']"
      ]
     },
     "execution_count": 11,
     "metadata": {},
     "output_type": "execute_result"
    }
   ],
   "source": [
    "words_rdd.distinct().collect()"
   ]
  },
  {
   "cell_type": "code",
   "execution_count": 13,
   "id": "dca3c5a4",
   "metadata": {},
   "outputs": [
    {
     "data": {
      "text/plain": [
       "19"
      ]
     },
     "execution_count": 13,
     "metadata": {},
     "output_type": "execute_result"
    }
   ],
   "source": [
    "words_rdd.count()"
   ]
  },
  {
   "cell_type": "code",
   "execution_count": 15,
   "id": "b31adf63",
   "metadata": {},
   "outputs": [
    {
     "data": {
      "text/plain": [
       "18"
      ]
     },
     "execution_count": 15,
     "metadata": {},
     "output_type": "execute_result"
    }
   ],
   "source": [
    "words_rdd.distinct().count()"
   ]
  },
  {
   "cell_type": "code",
   "execution_count": 16,
   "id": "79f38788",
   "metadata": {},
   "outputs": [],
   "source": [
    "def wordStartsWithLetter(word,letter):\n",
    "    return word.startswith(letter)"
   ]
  },
  {
   "cell_type": "code",
   "execution_count": 22,
   "id": "38ea9470",
   "metadata": {},
   "outputs": [
    {
     "data": {
      "text/plain": [
       "['Spark', 'Spark']"
      ]
     },
     "execution_count": 22,
     "metadata": {},
     "output_type": "execute_result"
    }
   ],
   "source": [
    "words_rdd.filter(lambda word:  wordStartsWithLetter(word, \"S\") ).take(10)"
   ]
  },
  {
   "cell_type": "code",
   "execution_count": 23,
   "id": "c8684efc",
   "metadata": {},
   "outputs": [],
   "source": [
    "countries = [(\"India\", 91), (\"USA\", 4), (\"Greece\", 13)]"
   ]
  },
  {
   "cell_type": "code",
   "execution_count": 26,
   "id": "062310e1",
   "metadata": {},
   "outputs": [],
   "source": [
    "countries_rdd = sc.parallelize(countries)"
   ]
  },
  {
   "cell_type": "code",
   "execution_count": 27,
   "id": "e54c7d65",
   "metadata": {},
   "outputs": [
    {
     "data": {
      "text/plain": [
       "[('Greece', 13), ('India', 91), ('USA', 4)]"
      ]
     },
     "execution_count": 27,
     "metadata": {},
     "output_type": "execute_result"
    }
   ],
   "source": [
    "countries_rdd.sortByKey().collect()"
   ]
  },
  {
   "cell_type": "code",
   "execution_count": 33,
   "id": "6b7fc8c2",
   "metadata": {},
   "outputs": [],
   "source": [
    "countries_ordered = countries_rdd.map(lambda c : (c[1], c[0]))"
   ]
  },
  {
   "cell_type": "code",
   "execution_count": 35,
   "id": "5ada7384",
   "metadata": {},
   "outputs": [
    {
     "data": {
      "text/plain": [
       "[(91, 'India'), (13, 'Greece'), (4, 'USA')]"
      ]
     },
     "execution_count": 35,
     "metadata": {},
     "output_type": "execute_result"
    }
   ],
   "source": [
    "countries_ordered.sortByKey(False).collect()"
   ]
  },
  {
   "cell_type": "markdown",
   "id": "5709b373",
   "metadata": {},
   "source": [
    "## Task Fahrenheit to Celsius"
   ]
  },
  {
   "cell_type": "code",
   "execution_count": 36,
   "id": "4f198ff0",
   "metadata": {},
   "outputs": [],
   "source": [
    "temp = [59,57.2,53.6,55.4,51.8,53.6,55.4]"
   ]
  },
  {
   "cell_type": "code",
   "execution_count": 37,
   "id": "0734fdbd",
   "metadata": {},
   "outputs": [],
   "source": [
    "temp_rdd = sc.parallelize(temp)"
   ]
  },
  {
   "cell_type": "code",
   "execution_count": 38,
   "id": "e9405c39",
   "metadata": {},
   "outputs": [],
   "source": [
    "temp_rdd_celsius = temp_rdd.map(lambda f : (f-32)*5/9)"
   ]
  },
  {
   "cell_type": "code",
   "execution_count": 39,
   "id": "c1f392e6",
   "metadata": {},
   "outputs": [
    {
     "data": {
      "text/plain": [
       "[15.0, 14.000000000000002, 12.0, 13.0, 10.999999999999998, 12.0, 13.0]"
      ]
     },
     "execution_count": 39,
     "metadata": {},
     "output_type": "execute_result"
    }
   ],
   "source": [
    "temp_rdd_celsius.collect()"
   ]
  },
  {
   "cell_type": "code",
   "execution_count": 43,
   "id": "cd4c2182",
   "metadata": {},
   "outputs": [
    {
     "data": {
      "text/plain": [
       "[15.0, 14.000000000000002, 13.0, 13.0]"
      ]
     },
     "execution_count": 43,
     "metadata": {},
     "output_type": "execute_result"
    }
   ],
   "source": [
    "temp_rdd_celsius.filter(lambda x : x >= 13).take(10)"
   ]
  },
  {
   "cell_type": "code",
   "execution_count": null,
   "id": "84960f6f",
   "metadata": {},
   "outputs": [],
   "source": []
  }
 ],
 "metadata": {
  "kernelspec": {
   "display_name": "Python 3 (ipykernel)",
   "language": "python",
   "name": "python3"
  },
  "language_info": {
   "codemirror_mode": {
    "name": "ipython",
    "version": 3
   },
   "file_extension": ".py",
   "mimetype": "text/x-python",
   "name": "python",
   "nbconvert_exporter": "python",
   "pygments_lexer": "ipython3",
   "version": "3.9.7"
  }
 },
 "nbformat": 4,
 "nbformat_minor": 5
}
