{
 "cells": [
  {
   "cell_type": "code",
   "execution_count": 1,
   "id": "391c65a8-c648-46b8-b708-68a8ac869901",
   "metadata": {},
   "outputs": [],
   "source": [
    "from pyspark.sql import SparkSession\n",
    "from pyspark.sql.types import StructField, StructType, StringType, IntegerType"
   ]
  },
  {
   "cell_type": "code",
   "execution_count": 2,
   "id": "d9db38f5-153e-44ec-9693-53ed75527307",
   "metadata": {},
   "outputs": [],
   "source": [
    "spark = SparkSession.builder.appName(\"PysparkDataFrame\").getOrCreate()"
   ]
  },
  {
   "cell_type": "code",
   "execution_count": 3,
   "id": "14624e33-88d6-4352-8ac5-bc2c57e35b28",
   "metadata": {},
   "outputs": [],
   "source": [
    "data = [(\"James\",\"\",\"Smith\",\"36636\",\"M\",3000),\n",
    "    (\"Michael\",\"Rose\",\"\",\"40288\",\"M\",4000),\n",
    "    (\"Robert\",\"\",\"Williams\",\"42114\",\"M\",4000),\n",
    "    (\"Maria\",\"Anne\",\"Jones\",\"39192\",\"F\",4000),\n",
    "    (\"Jen\",\"Mary\",\"Brown\",\"\",\"F\",-1)\n",
    "  ]"
   ]
  },
  {
   "cell_type": "code",
   "execution_count": 4,
   "id": "e89838df-feeb-47e2-a6a4-4f9f03b18f30",
   "metadata": {},
   "outputs": [],
   "source": [
    "schema = StructType([StructField(\"firstname\",StringType(), True),\n",
    "                    StructField(\"middlename\",StringType(), True),\n",
    "                     StructField(\"lastname\",StringType(), True),\n",
    "                     StructField(\"id\",StringType(), True),\n",
    "                     StructField(\"sex\",StringType(), True),\n",
    "                    StructField(\"salary\",IntegerType(), True),\n",
    "\n",
    "                    ])"
   ]
  },
  {
   "cell_type": "code",
   "execution_count": 5,
   "id": "f007f91a-e49a-4467-9efe-a450481c36a2",
   "metadata": {},
   "outputs": [],
   "source": [
    "dataframe = spark.createDataFrame(data=data, schema=schema)"
   ]
  },
  {
   "cell_type": "code",
   "execution_count": 6,
   "id": "6dcc22eb-7103-4639-9d69-79ad59f165b0",
   "metadata": {},
   "outputs": [
    {
     "name": "stdout",
     "output_type": "stream",
     "text": [
      "+---------+----------+--------+-----+---+------+\n",
      "|firstname|middlename|lastname|id   |sex|salary|\n",
      "+---------+----------+--------+-----+---+------+\n",
      "|James    |          |Smith   |36636|M  |3000  |\n",
      "|Michael  |Rose      |        |40288|M  |4000  |\n",
      "|Robert   |          |Williams|42114|M  |4000  |\n",
      "|Maria    |Anne      |Jones   |39192|F  |4000  |\n",
      "|Jen      |Mary      |Brown   |     |F  |-1    |\n",
      "+---------+----------+--------+-----+---+------+\n",
      "\n"
     ]
    }
   ],
   "source": [
    "dataframe.show(truncate=False)"
   ]
  },
  {
   "cell_type": "code",
   "execution_count": 7,
   "id": "87f1ebf0-b78b-4119-92dd-0876b4783235",
   "metadata": {},
   "outputs": [
    {
     "name": "stdout",
     "output_type": "stream",
     "text": [
      "root\n",
      " |-- firstname: string (nullable = true)\n",
      " |-- middlename: string (nullable = true)\n",
      " |-- lastname: string (nullable = true)\n",
      " |-- id: string (nullable = true)\n",
      " |-- sex: string (nullable = true)\n",
      " |-- salary: integer (nullable = true)\n",
      "\n"
     ]
    }
   ],
   "source": [
    "dataframe.printSchema()"
   ]
  },
  {
   "cell_type": "code",
   "execution_count": 8,
   "id": "8a8dd4d8-209b-4fe0-a284-526521c46150",
   "metadata": {},
   "outputs": [
    {
     "name": "stdout",
     "output_type": "stream",
     "text": [
      " Volume in drive D is UserProfile\n",
      " Volume Serial Number is 882D-C2C4\n",
      "\n",
      " Directory of D:\\Spark-Projects\\spark-test\\sparkdf\\testdata\n",
      "\n",
      "09/11/2021  04:39 PM    <DIR>          .\n",
      "09/11/2021  04:39 PM    <DIR>          ..\n",
      "11/20/2020  10:36 PM       245,147,566 fire-incidents.csv\n",
      "               1 File(s)    245,147,566 bytes\n",
      "               2 Dir(s)  80,340,070,400 bytes free\n"
     ]
    }
   ],
   "source": [
    "!dir testdata"
   ]
  },
  {
   "cell_type": "markdown",
   "id": "07e9a6e8-7058-4d0b-af4a-1c592b801b25",
   "metadata": {},
   "source": [
    "# Fireincidents practice to load DataFrame"
   ]
  },
  {
   "cell_type": "code",
   "execution_count": 9,
   "id": "4de4a22b-289c-48e4-8a73-7de7c3f25656",
   "metadata": {},
   "outputs": [],
   "source": [
    "firedata = \"./testdata/fire-incidents.csv\""
   ]
  },
  {
   "cell_type": "code",
   "execution_count": 10,
   "id": "667e03d8-636c-4eca-86f0-2f25484e130a",
   "metadata": {},
   "outputs": [],
   "source": [
    "spark = SparkSession.builder.appName(\"PysparkDataFrameFireincidents\").getOrCreate()"
   ]
  },
  {
   "cell_type": "code",
   "execution_count": 11,
   "id": "11051e07-ce97-4152-8c11-ad795d996448",
   "metadata": {},
   "outputs": [],
   "source": [
    "fire_df = spark.read.format(\"csv\").option(\"header\", True).option(\"inferSchema\", True).load(firedata)"
   ]
  },
  {
   "cell_type": "code",
   "execution_count": 12,
   "id": "53107e72-2a2d-4bcc-a635-a8beb8d69d8d",
   "metadata": {},
   "outputs": [
    {
     "name": "stdout",
     "output_type": "stream",
     "text": [
      "root\n",
      " |-- IncidentNumber: integer (nullable = true)\n",
      " |-- ExposureNumber: integer (nullable = true)\n",
      " |-- ID: integer (nullable = true)\n",
      " |-- Address: string (nullable = true)\n",
      " |-- IncidentDate: timestamp (nullable = true)\n",
      " |-- CallNumber: integer (nullable = true)\n",
      " |-- AlarmDtTm: timestamp (nullable = true)\n",
      " |-- ArrivalDtTm: timestamp (nullable = true)\n",
      " |-- CloseDtTm: timestamp (nullable = true)\n",
      " |-- City: string (nullable = true)\n",
      " |-- ZIPCode: string (nullable = true)\n",
      " |-- Battalion: string (nullable = true)\n",
      " |-- StationArea: string (nullable = true)\n",
      " |-- Box: string (nullable = true)\n",
      " |-- SuppressionUnits: integer (nullable = true)\n",
      " |-- SuppressionPersonnel: integer (nullable = true)\n",
      " |-- EMSUnits: integer (nullable = true)\n",
      " |-- EMSPersonnel: integer (nullable = true)\n",
      " |-- OtherUnits: integer (nullable = true)\n",
      " |-- OtherPersonnel: integer (nullable = true)\n",
      " |-- FirstUnitOnScene: string (nullable = true)\n",
      " |-- EstimatedPropertyLoss: integer (nullable = true)\n",
      " |-- EstimatedContentsLoss: double (nullable = true)\n",
      " |-- FireFatalities: integer (nullable = true)\n",
      " |-- FireInjuries: integer (nullable = true)\n",
      " |-- CivilianFatalities: integer (nullable = true)\n",
      " |-- CivilianInjuries: integer (nullable = true)\n",
      " |-- NumberofAlarms: integer (nullable = true)\n",
      " |-- PrimarySituation: string (nullable = true)\n",
      " |-- MutualAid: string (nullable = true)\n",
      " |-- ActionTakenPrimary: string (nullable = true)\n",
      " |-- ActionTakenSecondary: string (nullable = true)\n",
      " |-- ActionTakenOther: string (nullable = true)\n",
      " |-- DetectorAlertedOccupants: string (nullable = true)\n",
      " |-- PropertyUse: string (nullable = true)\n",
      " |-- AreaofFireOrigin: string (nullable = true)\n",
      " |-- IgnitionCause: string (nullable = true)\n",
      " |-- IgnitionFactorPrimary: string (nullable = true)\n",
      " |-- IgnitionFactorSecondary: string (nullable = true)\n",
      " |-- HeatSource: string (nullable = true)\n",
      " |-- ItemFirstIgnited: string (nullable = true)\n",
      " |-- HumanFactorsAssociatedwithIgnition: string (nullable = true)\n",
      " |-- StructureType: string (nullable = true)\n",
      " |-- StructureStatus: string (nullable = true)\n",
      " |-- FloorofFireOrigin: integer (nullable = true)\n",
      " |-- FireSpread: string (nullable = true)\n",
      " |-- NoFlameSpead: string (nullable = true)\n",
      " |-- Numberoffloorswithminimumdamage: integer (nullable = true)\n",
      " |-- Numberoffloorswithsignificantdamage: integer (nullable = true)\n",
      " |-- Numberoffloorswithheavydamage: integer (nullable = true)\n",
      " |-- Numberoffloorswithextremedamage: integer (nullable = true)\n",
      " |-- DetectorsPresent: string (nullable = true)\n",
      " |-- DetectorType: string (nullable = true)\n",
      " |-- DetectorOperation: string (nullable = true)\n",
      " |-- DetectorEffectiveness: string (nullable = true)\n",
      " |-- DetectorFailureReason: string (nullable = true)\n",
      " |-- AutomaticExtinguishingSystemPresent: string (nullable = true)\n",
      " |-- AutomaticExtinguishingSytemType: string (nullable = true)\n",
      " |-- AutomaticExtinguishingSytemPerfomance: string (nullable = true)\n",
      " |-- AutomaticExtinguishingSytemFailureReason: string (nullable = true)\n",
      " |-- NumberofSprinklerHeadsOperating: integer (nullable = true)\n",
      " |-- SupervisorDistrict: integer (nullable = true)\n",
      " |-- AnalysisNeighborhood: string (nullable = true)\n",
      " |-- point: string (nullable = true)\n",
      " |-- NeighborhoodsOld: integer (nullable = true)\n",
      " |-- ZipCodes: integer (nullable = true)\n",
      " |-- FirePreventionDistricts: integer (nullable = true)\n",
      " |-- PoliceDistricts: integer (nullable = true)\n",
      " |-- SupervisorDistricts: integer (nullable = true)\n",
      " |-- CivicCenterHarmReductionProjectBoundary: integer (nullable = true)\n",
      " |-- 2017FixItZones: integer (nullable = true)\n",
      " |-- HSOCZones: integer (nullable = true)\n",
      " |-- CentralMarketTenderloinBoundary: integer (nullable = true)\n",
      " |-- CentralMarketTenderloinBoundaryPolygonUpdated: integer (nullable = true)\n",
      " |-- HSOCZonesasof20180605: integer (nullable = true)\n",
      " |-- Neighborhoods: integer (nullable = true)\n",
      " |-- SFFindNeighborhoods: integer (nullable = true)\n",
      " |-- CurrentPoliceDistricts: integer (nullable = true)\n",
      " |-- CurrentSupervisorDistricts: integer (nullable = true)\n",
      " |-- AnalysisNeighborhoods: integer (nullable = true)\n",
      "\n"
     ]
    }
   ],
   "source": [
    "fire_df.printSchema()"
   ]
  },
  {
   "cell_type": "code",
   "execution_count": 13,
   "id": "4c6d00f2-3b66-4639-b09d-ad03996eded0",
   "metadata": {},
   "outputs": [
    {
     "data": {
      "text/plain": [
       "['IncidentNumber',\n",
       " 'ExposureNumber',\n",
       " 'ID',\n",
       " 'Address',\n",
       " 'IncidentDate',\n",
       " 'CallNumber',\n",
       " 'AlarmDtTm',\n",
       " 'ArrivalDtTm',\n",
       " 'CloseDtTm',\n",
       " 'City',\n",
       " 'ZIPCode',\n",
       " 'Battalion',\n",
       " 'StationArea',\n",
       " 'Box',\n",
       " 'SuppressionUnits',\n",
       " 'SuppressionPersonnel',\n",
       " 'EMSUnits',\n",
       " 'EMSPersonnel',\n",
       " 'OtherUnits',\n",
       " 'OtherPersonnel',\n",
       " 'FirstUnitOnScene',\n",
       " 'EstimatedPropertyLoss',\n",
       " 'EstimatedContentsLoss',\n",
       " 'FireFatalities',\n",
       " 'FireInjuries',\n",
       " 'CivilianFatalities',\n",
       " 'CivilianInjuries',\n",
       " 'NumberofAlarms',\n",
       " 'PrimarySituation',\n",
       " 'MutualAid',\n",
       " 'ActionTakenPrimary',\n",
       " 'ActionTakenSecondary',\n",
       " 'ActionTakenOther',\n",
       " 'DetectorAlertedOccupants',\n",
       " 'PropertyUse',\n",
       " 'AreaofFireOrigin',\n",
       " 'IgnitionCause',\n",
       " 'IgnitionFactorPrimary',\n",
       " 'IgnitionFactorSecondary',\n",
       " 'HeatSource',\n",
       " 'ItemFirstIgnited',\n",
       " 'HumanFactorsAssociatedwithIgnition',\n",
       " 'StructureType',\n",
       " 'StructureStatus',\n",
       " 'FloorofFireOrigin',\n",
       " 'FireSpread',\n",
       " 'NoFlameSpead',\n",
       " 'Numberoffloorswithminimumdamage',\n",
       " 'Numberoffloorswithsignificantdamage',\n",
       " 'Numberoffloorswithheavydamage',\n",
       " 'Numberoffloorswithextremedamage',\n",
       " 'DetectorsPresent',\n",
       " 'DetectorType',\n",
       " 'DetectorOperation',\n",
       " 'DetectorEffectiveness',\n",
       " 'DetectorFailureReason',\n",
       " 'AutomaticExtinguishingSystemPresent',\n",
       " 'AutomaticExtinguishingSytemType',\n",
       " 'AutomaticExtinguishingSytemPerfomance',\n",
       " 'AutomaticExtinguishingSytemFailureReason',\n",
       " 'NumberofSprinklerHeadsOperating',\n",
       " 'SupervisorDistrict',\n",
       " 'AnalysisNeighborhood',\n",
       " 'point',\n",
       " 'NeighborhoodsOld',\n",
       " 'ZipCodes',\n",
       " 'FirePreventionDistricts',\n",
       " 'PoliceDistricts',\n",
       " 'SupervisorDistricts',\n",
       " 'CivicCenterHarmReductionProjectBoundary',\n",
       " '2017FixItZones',\n",
       " 'HSOCZones',\n",
       " 'CentralMarketTenderloinBoundary',\n",
       " 'CentralMarketTenderloinBoundaryPolygonUpdated',\n",
       " 'HSOCZonesasof20180605',\n",
       " 'Neighborhoods',\n",
       " 'SFFindNeighborhoods',\n",
       " 'CurrentPoliceDistricts',\n",
       " 'CurrentSupervisorDistricts',\n",
       " 'AnalysisNeighborhoods']"
      ]
     },
     "execution_count": 13,
     "metadata": {},
     "output_type": "execute_result"
    }
   ],
   "source": [
    "fire_df.columns"
   ]
  },
  {
   "cell_type": "code",
   "execution_count": 14,
   "id": "4235430e-34f2-4326-84c1-046a46067a6b",
   "metadata": {},
   "outputs": [
    {
     "name": "stdout",
     "output_type": "stream",
     "text": [
      "+--------------+-------------------+-------------+\n",
      "|IncidentNumber|       IncidentDate|         City|\n",
      "+--------------+-------------------+-------------+\n",
      "|      20104668|2020-09-11 00:00:00|San Francisco|\n",
      "|      20104708|2020-09-11 00:00:00|San Francisco|\n",
      "|      20104648|2020-09-10 00:00:00|San Francisco|\n",
      "|      20104598|2020-09-10 00:00:00|San Francisco|\n",
      "|      20104575|2020-09-10 00:00:00|San Francisco|\n",
      "|      20104477|2020-09-10 00:00:00|San Francisco|\n",
      "|      20104443|2020-09-10 00:00:00|San Francisco|\n",
      "|      20104605|2020-09-10 00:00:00|San Francisco|\n",
      "|      20104474|2020-09-10 00:00:00|San Francisco|\n",
      "|      20104652|2020-09-10 00:00:00|San Francisco|\n",
      "+--------------+-------------------+-------------+\n",
      "only showing top 10 rows\n",
      "\n"
     ]
    }
   ],
   "source": [
    "fire_df.select(\"IncidentNumber\",\"IncidentDate\", \"City\").show(10)"
   ]
  },
  {
   "cell_type": "code",
   "execution_count": 15,
   "id": "4b99447a-b81c-4aa2-a6d9-4cac17f7db47",
   "metadata": {},
   "outputs": [],
   "source": [
    "output_path = \"./data/output/fireincidents\""
   ]
  },
  {
   "cell_type": "code",
   "execution_count": 16,
   "id": "c56b92c5-7642-4271-bed7-7e4e8a4ba839",
   "metadata": {},
   "outputs": [],
   "source": [
    "fire_df.write.format(\"parquet\").mode(\"overwrite\").save(output_path)"
   ]
  },
  {
   "cell_type": "markdown",
   "id": "ee38bb98-08c6-4139-93e2-a85dcda4838b",
   "metadata": {},
   "source": [
    "# Working with Structured operations"
   ]
  },
  {
   "cell_type": "markdown",
   "id": "7af5be5a-f76e-4344-856e-67ed4dbcad32",
   "metadata": {},
   "source": [
    "## Reading Json"
   ]
  },
  {
   "cell_type": "code",
   "execution_count": 17,
   "id": "a4bc1824-be73-4f4e-a39f-e44573cd2f91",
   "metadata": {},
   "outputs": [],
   "source": [
    "from pyspark.sql.types import DateType, FloatType, ArrayType, BooleanType, StringType, StructType, StructField"
   ]
  },
  {
   "cell_type": "code",
   "execution_count": 18,
   "id": "b4bb8f9a-4366-4f3b-875c-cf1acc592a1f",
   "metadata": {},
   "outputs": [],
   "source": [
    "schema_person = StructType([StructField(\"id\", IntegerType(), True),\n",
    "                           StructField(\"first_name\", StringType(), True),\n",
    "                           StructField(\"last_name\", StringType(), True),\n",
    "                           StructField(\"fav_movies\", ArrayType(StringType()), True),\n",
    "                           StructField(\"salary\", FloatType(), True),\n",
    "                           StructField(\"image_url\", StringType(), True),\n",
    "                           StructField(\"date_of_birth\", DateType(), True),\n",
    "                            StructField(\"active\", BooleanType(), True)\n",
    "                           ])"
   ]
  },
  {
   "cell_type": "code",
   "execution_count": 19,
   "id": "1abd974e-fc1e-4a04-9e95-12251d7dbc2a",
   "metadata": {},
   "outputs": [],
   "source": [
    "person_data = './data/persons/persons.json'"
   ]
  },
  {
   "cell_type": "code",
   "execution_count": 20,
   "id": "e6b6cbaa-72c9-4ee1-8cb7-880b112b917d",
   "metadata": {},
   "outputs": [],
   "source": [
    "person_df = spark.read.json(person_data, schema_person, multiLine='True' )"
   ]
  },
  {
   "cell_type": "code",
   "execution_count": 21,
   "id": "fa5d6430-6a51-4b0d-a0ac-9b6ba8ef5239",
   "metadata": {},
   "outputs": [
    {
     "name": "stdout",
     "output_type": "stream",
     "text": [
      "+---+----------+---------+-------------------------------------------------------------+-------+-----------------------------------------------+-------------+------+\n",
      "|id |first_name|last_name|fav_movies                                                   |salary |image_url                                      |date_of_birth|active|\n",
      "+---+----------+---------+-------------------------------------------------------------+-------+-----------------------------------------------+-------------+------+\n",
      "|1  |Drucy     |Poppy    |[I giorni contati]                                           |1463.36|http://dummyimage.com/126x166.png/cc0000/ffffff|1991-02-16   |true  |\n",
      "|2  |Emelyne   |Blaza    |[Musketeer, The, Topralli]                                   |3006.04|http://dummyimage.com/158x106.bmp/cc0000/ffffff|1991-11-02   |false |\n",
      "|3  |Max       |Rettie   |[The Forgotten Space, Make It Happen]                        |1422.88|http://dummyimage.com/237x140.jpg/ff4444/ffffff|1990-03-03   |false |\n",
      "|4  |Ilario    |Kean     |[Up Close and Personal]                                      |3561.36|http://dummyimage.com/207x121.jpg/cc0000/ffffff|1987-06-09   |true  |\n",
      "|5  |Toddy     |Drexel   |[Walk in the Clouds, A]                                      |4934.87|http://dummyimage.com/116x202.png/cc0000/ffffff|1992-10-28   |true  |\n",
      "|6  |Oswald    |Petrolli |[Wing and the Thigh, The (L'aile ou la cuisse)]              |1153.23|http://dummyimage.com/137x172.jpg/5fa2dd/ffffff|1986-09-02   |false |\n",
      "|7  |Adrian    |Clarey   |[Walking Tall, Paradise, Hawaiian Style]                     |1044.73|http://dummyimage.com/244x218.bmp/cc0000/ffffff|1971-08-24   |false |\n",
      "|8  |Dominica  |Goodnow  |[Hearts Divided]                                             |1147.76|http://dummyimage.com/112x203.jpg/dddddd/000000|1973-08-27   |false |\n",
      "|9  |Emory     |Slocomb  |[Snake and Crane Arts of Shaolin (She hao ba bu), Mala Noche]|1082.11|http://dummyimage.com/138x226.jpg/cc0000/ffffff|1974-06-08   |true  |\n",
      "|10 |Jeremias  |Bode     |[Farewell to Arms, A]                                        |3472.63|http://dummyimage.com/243x108.bmp/dddddd/000000|1997-08-02   |true  |\n",
      "+---+----------+---------+-------------------------------------------------------------+-------+-----------------------------------------------+-------------+------+\n",
      "only showing top 10 rows\n",
      "\n"
     ]
    }
   ],
   "source": [
    "person_df.show(10, False)"
   ]
  },
  {
   "cell_type": "markdown",
   "id": "175dedb7-9e03-48dc-9d0a-7f145de129dc",
   "metadata": {},
   "source": [
    "## Columns and Expressions"
   ]
  },
  {
   "cell_type": "code",
   "execution_count": 22,
   "id": "a9d3d3a5-45e2-4c0f-99a3-2ed25e3d1732",
   "metadata": {},
   "outputs": [],
   "source": [
    "from pyspark.sql.functions import col, expr"
   ]
  },
  {
   "cell_type": "code",
   "execution_count": 23,
   "id": "3f8873a9-a436-4e98-a00a-32cea2ff4017",
   "metadata": {},
   "outputs": [
    {
     "name": "stdout",
     "output_type": "stream",
     "text": [
      "+----------+---------+-------------+\n",
      "|first_name|last_name|date_of_birth|\n",
      "+----------+---------+-------------+\n",
      "|Drucy     |Poppy    |1991-02-16   |\n",
      "|Emelyne   |Blaza    |1991-11-02   |\n",
      "|Max       |Rettie   |1990-03-03   |\n",
      "|Ilario    |Kean     |1987-06-09   |\n",
      "|Toddy     |Drexel   |1992-10-28   |\n",
      "|Oswald    |Petrolli |1986-09-02   |\n",
      "|Adrian    |Clarey   |1971-08-24   |\n",
      "|Dominica  |Goodnow  |1973-08-27   |\n",
      "|Emory     |Slocomb  |1974-06-08   |\n",
      "|Jeremias  |Bode     |1997-08-02   |\n",
      "+----------+---------+-------------+\n",
      "only showing top 10 rows\n",
      "\n"
     ]
    }
   ],
   "source": [
    "person_df.select(col(\"first_name\"), col(\"last_name\"), col(\"date_of_birth\")).show(10, False)"
   ]
  },
  {
   "cell_type": "code",
   "execution_count": 24,
   "id": "1ab6b337-7638-4e57-aefe-92bceaa74e2b",
   "metadata": {},
   "outputs": [
    {
     "name": "stdout",
     "output_type": "stream",
     "text": [
      "+----------+---------+-------------+\n",
      "|first_name|last_name|date_of_birth|\n",
      "+----------+---------+-------------+\n",
      "|Drucy     |Poppy    |1991-02-16   |\n",
      "|Emelyne   |Blaza    |1991-11-02   |\n",
      "|Max       |Rettie   |1990-03-03   |\n",
      "|Ilario    |Kean     |1987-06-09   |\n",
      "|Toddy     |Drexel   |1992-10-28   |\n",
      "|Oswald    |Petrolli |1986-09-02   |\n",
      "|Adrian    |Clarey   |1971-08-24   |\n",
      "|Dominica  |Goodnow  |1973-08-27   |\n",
      "|Emory     |Slocomb  |1974-06-08   |\n",
      "|Jeremias  |Bode     |1997-08-02   |\n",
      "+----------+---------+-------------+\n",
      "only showing top 10 rows\n",
      "\n"
     ]
    }
   ],
   "source": [
    "person_df.select(expr(\"first_name\"), expr(\"last_name\"), expr(\"date_of_birth\")).show(10, False)"
   ]
  },
  {
   "cell_type": "code",
   "execution_count": 25,
   "id": "a4bac326-0330-40e7-b813-96eed4cd5eb0",
   "metadata": {},
   "outputs": [],
   "source": [
    "from pyspark.sql.functions import concat_ws"
   ]
  },
  {
   "cell_type": "code",
   "execution_count": 26,
   "id": "a6481873-93ee-413a-9abf-a708a6e0c039",
   "metadata": {},
   "outputs": [
    {
     "name": "stdout",
     "output_type": "stream",
     "text": [
      "+------------------+-------+------------------+\n",
      "|full_name         |salary |Salary_increment  |\n",
      "+------------------+-------+------------------+\n",
      "|Drucy Poppy       |1463.36|1609.6959838867188|\n",
      "|Emelyne Blaza     |3006.04|3306.64404296875  |\n",
      "|Max Rettie        |1422.88|1565.1680053710938|\n",
      "|Ilario Kean       |3561.36|3917.4961181640624|\n",
      "|Toddy Drexel      |4934.87|5428.35712890625  |\n",
      "|Oswald Petrolli   |1153.23|1268.552978515625 |\n",
      "|Adrian Clarey     |1044.73|1149.202978515625 |\n",
      "|Dominica Goodnow  |1147.76|1262.5360107421875|\n",
      "|Emory Slocomb     |1082.11|1190.3209838867188|\n",
      "|Jeremias Bode     |3472.63|3819.89287109375  |\n",
      "|Timothy Ervine    |1147.61|1262.3709838867187|\n",
      "|Leanora Gooder    |1327.02|1459.722021484375 |\n",
      "|Claiborn Denham   |2623.33|2885.6630859375   |\n",
      "|Ambrosi Vidineev  |4550.88|5005.96787109375  |\n",
      "|Feodor Nancekivell|2218.46|2440.30595703125  |\n",
      "|Margaux Archbold  |1013.75|1115.125          |\n",
      "|Balduin Elstone   |2302.26|2532.4860107421873|\n",
      "|Alfie Hatliffe    |3893.1 |4282.410107421875 |\n",
      "|Lura Follis       |3331.26|3664.3860107421874|\n",
      "|Maxi Cluet        |4046.46|4451.10595703125  |\n",
      "+------------------+-------+------------------+\n",
      "only showing top 20 rows\n",
      "\n"
     ]
    }
   ],
   "source": [
    "person_df.select(concat_ws(\" \", col(\"first_name\"),  col(\"last_name\")).alias(\"full_name\"), col(\"salary\"), (col(\"salary\") * .10 + col(\"salary\")).alias(\"Salary_increment\")).show(20, False)"
   ]
  },
  {
   "cell_type": "code",
   "execution_count": 27,
   "id": "af93c3fe-d620-4242-af5d-349fecd2342b",
   "metadata": {},
   "outputs": [
    {
     "name": "stdout",
     "output_type": "stream",
     "text": [
      "+------------------+-------+------------------+\n",
      "|full_name         |salary |Salary_increment  |\n",
      "+------------------+-------+------------------+\n",
      "|Drucy Poppy       |1463.36|1609.6959838867188|\n",
      "|Emelyne Blaza     |3006.04|3306.64404296875  |\n",
      "|Max Rettie        |1422.88|1565.1680053710938|\n",
      "|Ilario Kean       |3561.36|3917.4961181640624|\n",
      "|Toddy Drexel      |4934.87|5428.35712890625  |\n",
      "|Oswald Petrolli   |1153.23|1268.552978515625 |\n",
      "|Adrian Clarey     |1044.73|1149.202978515625 |\n",
      "|Dominica Goodnow  |1147.76|1262.5360107421875|\n",
      "|Emory Slocomb     |1082.11|1190.3209838867188|\n",
      "|Jeremias Bode     |3472.63|3819.89287109375  |\n",
      "|Timothy Ervine    |1147.61|1262.3709838867187|\n",
      "|Leanora Gooder    |1327.02|1459.722021484375 |\n",
      "|Claiborn Denham   |2623.33|2885.6630859375   |\n",
      "|Ambrosi Vidineev  |4550.88|5005.96787109375  |\n",
      "|Feodor Nancekivell|2218.46|2440.30595703125  |\n",
      "|Margaux Archbold  |1013.75|1115.125          |\n",
      "|Balduin Elstone   |2302.26|2532.4860107421873|\n",
      "|Alfie Hatliffe    |3893.1 |4282.410107421875 |\n",
      "|Lura Follis       |3331.26|3664.3860107421874|\n",
      "|Maxi Cluet        |4046.46|4451.10595703125  |\n",
      "+------------------+-------+------------------+\n",
      "only showing top 20 rows\n",
      "\n"
     ]
    }
   ],
   "source": [
    "person_df.select(concat_ws(\" \", col(\"first_name\"),  col(\"last_name\")).alias(\"full_name\"), col(\"salary\"), (expr(\"salary * .10 + salary\").alias(\"Salary_increment\"))).show(20, False)"
   ]
  },
  {
   "cell_type": "code",
   "execution_count": 28,
   "id": "09994603-cb6b-4ef0-a70d-16425b12dfaa",
   "metadata": {},
   "outputs": [
    {
     "name": "stdout",
     "output_type": "stream",
     "text": [
      "+---+----------+-----------+----------------------------------------------------------------------------+-------+-----------------------------------------------+-------------+------+\n",
      "|id |first_name|last_name  |fav_movies                                                                  |salary |image_url                                      |date_of_birth|active|\n",
      "+---+----------+-----------+----------------------------------------------------------------------------+-------+-----------------------------------------------+-------------+------+\n",
      "|1  |Drucy     |Poppy      |[I giorni contati]                                                          |1463.36|http://dummyimage.com/126x166.png/cc0000/ffffff|1991-02-16   |true  |\n",
      "|3  |Max       |Rettie     |[The Forgotten Space, Make It Happen]                                       |1422.88|http://dummyimage.com/237x140.jpg/ff4444/ffffff|1990-03-03   |false |\n",
      "|6  |Oswald    |Petrolli   |[Wing and the Thigh, The (L'aile ou la cuisse)]                             |1153.23|http://dummyimage.com/137x172.jpg/5fa2dd/ffffff|1986-09-02   |false |\n",
      "|7  |Adrian    |Clarey     |[Walking Tall, Paradise, Hawaiian Style]                                    |1044.73|http://dummyimage.com/244x218.bmp/cc0000/ffffff|1971-08-24   |false |\n",
      "|8  |Dominica  |Goodnow    |[Hearts Divided]                                                            |1147.76|http://dummyimage.com/112x203.jpg/dddddd/000000|1973-08-27   |false |\n",
      "|9  |Emory     |Slocomb    |[Snake and Crane Arts of Shaolin (She hao ba bu), Mala Noche]               |1082.11|http://dummyimage.com/138x226.jpg/cc0000/ffffff|1974-06-08   |true  |\n",
      "|11 |Timothy   |Ervine     |[Land of the Lost, Save the Last Dance, Whispering Corridors (Yeogo Goedam)]|1147.61|http://dummyimage.com/162x184.bmp/5fa2dd/ffffff|1971-06-02   |false |\n",
      "|12 |Leanora   |Gooder     |[It's All About Love, Scooby-Doo! The Mystery Begins]                       |1327.02|http://dummyimage.com/108x237.png/5fa2dd/ffffff|1981-12-17   |false |\n",
      "|13 |Claiborn  |Denham     |[McCullin, Max Payne, Oath, The]                                            |2623.33|http://dummyimage.com/250x200.bmp/5fa2dd/ffffff|1996-03-07   |false |\n",
      "|15 |Feodor    |Nancekivell|[Monsoon Wedding]                                                           |2218.46|http://dummyimage.com/119x120.bmp/cc0000/ffffff|2000-10-07   |false |\n",
      "+---+----------+-----------+----------------------------------------------------------------------------+-------+-----------------------------------------------+-------------+------+\n",
      "only showing top 10 rows\n",
      "\n"
     ]
    }
   ],
   "source": [
    "person_df.filter(col(\"salary\") < 3000).show(10, False)"
   ]
  },
  {
   "cell_type": "code",
   "execution_count": 29,
   "id": "51203ee5-1566-437f-a34f-30f9a8b996c4",
   "metadata": {},
   "outputs": [
    {
     "name": "stdout",
     "output_type": "stream",
     "text": [
      "+---+----------+-----------+----------------------------------------------------------------------------+-------+-----------------------------------------------+-------------+------+\n",
      "|id |first_name|last_name  |fav_movies                                                                  |salary |image_url                                      |date_of_birth|active|\n",
      "+---+----------+-----------+----------------------------------------------------------------------------+-------+-----------------------------------------------+-------------+------+\n",
      "|1  |Drucy     |Poppy      |[I giorni contati]                                                          |1463.36|http://dummyimage.com/126x166.png/cc0000/ffffff|1991-02-16   |true  |\n",
      "|3  |Max       |Rettie     |[The Forgotten Space, Make It Happen]                                       |1422.88|http://dummyimage.com/237x140.jpg/ff4444/ffffff|1990-03-03   |false |\n",
      "|6  |Oswald    |Petrolli   |[Wing and the Thigh, The (L'aile ou la cuisse)]                             |1153.23|http://dummyimage.com/137x172.jpg/5fa2dd/ffffff|1986-09-02   |false |\n",
      "|7  |Adrian    |Clarey     |[Walking Tall, Paradise, Hawaiian Style]                                    |1044.73|http://dummyimage.com/244x218.bmp/cc0000/ffffff|1971-08-24   |false |\n",
      "|8  |Dominica  |Goodnow    |[Hearts Divided]                                                            |1147.76|http://dummyimage.com/112x203.jpg/dddddd/000000|1973-08-27   |false |\n",
      "|9  |Emory     |Slocomb    |[Snake and Crane Arts of Shaolin (She hao ba bu), Mala Noche]               |1082.11|http://dummyimage.com/138x226.jpg/cc0000/ffffff|1974-06-08   |true  |\n",
      "|11 |Timothy   |Ervine     |[Land of the Lost, Save the Last Dance, Whispering Corridors (Yeogo Goedam)]|1147.61|http://dummyimage.com/162x184.bmp/5fa2dd/ffffff|1971-06-02   |false |\n",
      "|12 |Leanora   |Gooder     |[It's All About Love, Scooby-Doo! The Mystery Begins]                       |1327.02|http://dummyimage.com/108x237.png/5fa2dd/ffffff|1981-12-17   |false |\n",
      "|13 |Claiborn  |Denham     |[McCullin, Max Payne, Oath, The]                                            |2623.33|http://dummyimage.com/250x200.bmp/5fa2dd/ffffff|1996-03-07   |false |\n",
      "|15 |Feodor    |Nancekivell|[Monsoon Wedding]                                                           |2218.46|http://dummyimage.com/119x120.bmp/cc0000/ffffff|2000-10-07   |false |\n",
      "+---+----------+-----------+----------------------------------------------------------------------------+-------+-----------------------------------------------+-------------+------+\n",
      "only showing top 10 rows\n",
      "\n"
     ]
    }
   ],
   "source": [
    "person_df.where(col(\"salary\") < 3000).show(10, False)"
   ]
  },
  {
   "cell_type": "code",
   "execution_count": 30,
   "id": "fb143208-7f01-49a2-9742-e4b9f708e696",
   "metadata": {},
   "outputs": [
    {
     "name": "stdout",
     "output_type": "stream",
     "text": [
      "+---+----------+---------+-----------------------------------------------------------------+-------+-----------------------------------------------+-------------+------+\n",
      "|id |first_name|last_name|fav_movies                                                       |salary |image_url                                      |date_of_birth|active|\n",
      "+---+----------+---------+-----------------------------------------------------------------+-------+-----------------------------------------------+-------------+------+\n",
      "|1  |Drucy     |Poppy    |[I giorni contati]                                               |1463.36|http://dummyimage.com/126x166.png/cc0000/ffffff|1991-02-16   |true  |\n",
      "|9  |Emory     |Slocomb  |[Snake and Crane Arts of Shaolin (She hao ba bu), Mala Noche]    |1082.11|http://dummyimage.com/138x226.jpg/cc0000/ffffff|1974-06-08   |true  |\n",
      "|16 |Margaux   |Archbold |[And Now a Word from Our Sponsor]                                |1013.75|http://dummyimage.com/229x133.png/5fa2dd/ffffff|1988-07-29   |true  |\n",
      "|26 |Clive     |Lax      |[Rabid]                                                          |2126.87|http://dummyimage.com/136x104.bmp/ff4444/ffffff|1981-10-26   |true  |\n",
      "|33 |Sherline  |Primett  |[Jungle Fighters]                                                |2309.39|http://dummyimage.com/230x221.jpg/5fa2dd/ffffff|1972-07-23   |true  |\n",
      "|34 |Davis     |Pinks    |[Hounddog]                                                       |1337.14|http://dummyimage.com/231x186.bmp/ff4444/ffffff|1989-07-27   |true  |\n",
      "|37 |Carlen    |Sharply  |[Dr. Jekyll and Mr. Hyde]                                        |2051.85|http://dummyimage.com/168x224.png/5fa2dd/ffffff|2002-06-01   |true  |\n",
      "|40 |Jordan    |Lorant   |[Shockproof, Bachelor, The, Changeling, The]                     |2183.91|http://dummyimage.com/206x177.png/ff4444/ffffff|1979-07-29   |true  |\n",
      "|49 |Kendricks |Kee      |[Flower & Garnet]                                                |2304.39|http://dummyimage.com/121x108.png/cc0000/ffffff|1999-11-14   |true  |\n",
      "|57 |Krystle   |Shovell  |[Doomsday, Flight of the Conchords: A Texan Odyssey, Exit Wounds]|2260.76|http://dummyimage.com/248x238.jpg/dddddd/000000|1987-09-01   |true  |\n",
      "+---+----------+---------+-----------------------------------------------------------------+-------+-----------------------------------------------+-------------+------+\n",
      "only showing top 10 rows\n",
      "\n"
     ]
    }
   ],
   "source": [
    "person_df.filter((col(\"salary\") < 3000) & (col(\"active\") == True)).show(10, False)"
   ]
  },
  {
   "cell_type": "code",
   "execution_count": 31,
   "id": "a54fa4eb-fa4b-4929-bdf2-924b1d1b612c",
   "metadata": {},
   "outputs": [],
   "source": [
    "from pyspark.sql.functions import array_contains"
   ]
  },
  {
   "cell_type": "code",
   "execution_count": 32,
   "id": "50357629-56b2-43e7-a6cd-d73d75fceeec",
   "metadata": {},
   "outputs": [
    {
     "name": "stdout",
     "output_type": "stream",
     "text": [
      "+---+----------+---------+--------------------+-------+--------------------+-------------+------+\n",
      "| id|first_name|last_name|          fav_movies| salary|           image_url|date_of_birth|active|\n",
      "+---+----------+---------+--------------------+-------+--------------------+-------------+------+\n",
      "| 11|   Timothy|   Ervine|[Land of the Lost...|1147.61|http://dummyimage...|   1971-06-02| false|\n",
      "+---+----------+---------+--------------------+-------+--------------------+-------------+------+\n",
      "\n"
     ]
    }
   ],
   "source": [
    "person_df.where(array_contains(col(\"fav_movies\"), \"Land of the Lost\") ).show()"
   ]
  },
  {
   "cell_type": "markdown",
   "id": "bc84b544-31c8-4a6f-9753-d59847af46b2",
   "metadata": {},
   "source": [
    "## Distinct Drop Duplicates and OrderBy"
   ]
  },
  {
   "cell_type": "code",
   "execution_count": 33,
   "id": "b7e6249d-7c40-4b61-a594-c111db157b1d",
   "metadata": {},
   "outputs": [],
   "source": [
    "from pyspark.sql.functions import count, desc"
   ]
  },
  {
   "cell_type": "code",
   "execution_count": 34,
   "id": "ef61e6f7-2d89-4285-9cb5-42e6162bb6e2",
   "metadata": {},
   "outputs": [
    {
     "name": "stdout",
     "output_type": "stream",
     "text": [
      "+------+\n",
      "|active|\n",
      "+------+\n",
      "|  true|\n",
      "| false|\n",
      "+------+\n",
      "\n"
     ]
    }
   ],
   "source": [
    "person_df.select(\"active\").distinct().show()"
   ]
  },
  {
   "cell_type": "code",
   "execution_count": 35,
   "id": "0e5d3104-24d9-4902-8a64-2f15960a1e17",
   "metadata": {},
   "outputs": [],
   "source": [
    "from pyspark.sql.functions import year"
   ]
  },
  {
   "cell_type": "code",
   "execution_count": 36,
   "id": "d1cacc6b-9f36-486f-b413-8f882ce71f33",
   "metadata": {},
   "outputs": [
    {
     "name": "stdout",
     "output_type": "stream",
     "text": [
      "+----------+-------------------+------+\n",
      "|first_name|year(date_of_birth)|active|\n",
      "+----------+-------------------+------+\n",
      "|     Drucy|               1991|  true|\n",
      "|   Emelyne|               1991| false|\n",
      "|       Max|               1990| false|\n",
      "|    Ilario|               1987|  true|\n",
      "|     Toddy|               1992|  true|\n",
      "|    Oswald|               1986| false|\n",
      "|    Adrian|               1971| false|\n",
      "|  Dominica|               1973| false|\n",
      "|     Emory|               1974|  true|\n",
      "|  Jeremias|               1997|  true|\n",
      "|   Timothy|               1971| false|\n",
      "|   Leanora|               1981| false|\n",
      "|  Claiborn|               1996| false|\n",
      "|   Ambrosi|               1989|  true|\n",
      "|    Feodor|               2000| false|\n",
      "|   Margaux|               1988|  true|\n",
      "|   Balduin|               1974| false|\n",
      "|     Alfie|               1989|  true|\n",
      "|      Lura|               1998| false|\n",
      "|      Maxi|               1979| false|\n",
      "+----------+-------------------+------+\n",
      "only showing top 20 rows\n",
      "\n"
     ]
    }
   ],
   "source": [
    "person_df.select(col(\"first_name\"), year(\"date_of_birth\"), col(\"active\")).show()"
   ]
  },
  {
   "cell_type": "code",
   "execution_count": 37,
   "id": "dab81c74-2adb-4f0e-bbba-7dd50e7f7a88",
   "metadata": {},
   "outputs": [
    {
     "name": "stdout",
     "output_type": "stream",
     "text": [
      "+----------+----+------+\n",
      "|first_name|year|active|\n",
      "+----------+----+------+\n",
      "|    Adrian|1971| false|\n",
      "|   Feodora|1971|  true|\n",
      "|       Sky|1971| false|\n",
      "|   Timothy|1971| false|\n",
      "|    Lucita|1972|  true|\n",
      "|      Rodi|1972| false|\n",
      "|  Sherline|1972|  true|\n",
      "|     Toddy|1972|  true|\n",
      "|  Dominica|1973| false|\n",
      "|    Kelila|1973|  true|\n",
      "|  Wolfgang|1973|  true|\n",
      "|   Balduin|1974| false|\n",
      "|     Emory|1974|  true|\n",
      "|    Norean|1974|  true|\n",
      "|    Janean|1975|  true|\n",
      "|       Bev|1976|  true|\n",
      "| Franciska|1976| false|\n",
      "|    Bennie|1977| false|\n",
      "|     Johny|1977| false|\n",
      "|    Daveta|1978| false|\n",
      "+----------+----+------+\n",
      "only showing top 20 rows\n",
      "\n"
     ]
    }
   ],
   "source": [
    "(person_df.select(col(\"first_name\"), year(col(\"date_of_birth\")).alias(\"year\"), col(\"active\")).orderBy(\"year\", \"first_name\")).show()"
   ]
  },
  {
   "cell_type": "code",
   "execution_count": 38,
   "id": "1d4d753b-f23c-416c-9bf4-b6b375c30321",
   "metadata": {},
   "outputs": [],
   "source": [
    "dropped_df = (person_df.select(col(\"first_name\"), year(\"date_of_birth\").alias(\"year\"), col(\"active\")).dropDuplicates([\"year\", \"active\"]).orderBy(\"year\", \"first_name\"))"
   ]
  },
  {
   "cell_type": "code",
   "execution_count": 39,
   "id": "5b5f893a-8434-42f3-ae11-e6dab3d06760",
   "metadata": {},
   "outputs": [
    {
     "name": "stdout",
     "output_type": "stream",
     "text": [
      "+----------+----+------+\n",
      "|first_name|year|active|\n",
      "+----------+----+------+\n",
      "|    Adrian|1971| false|\n",
      "|   Feodora|1971|  true|\n",
      "|      Rodi|1972| false|\n",
      "|  Sherline|1972|  true|\n",
      "|  Dominica|1973| false|\n",
      "|    Kelila|1973|  true|\n",
      "|   Balduin|1974| false|\n",
      "|     Emory|1974|  true|\n",
      "|    Janean|1975|  true|\n",
      "|       Bev|1976|  true|\n",
      "| Franciska|1976| false|\n",
      "|     Johny|1977| false|\n",
      "|    Daveta|1978| false|\n",
      "|   Guthrie|1978|  true|\n",
      "|      Maxi|1979| false|\n",
      "|   Melinda|1979|  true|\n",
      "|    Carter|1980| false|\n",
      "|   Loralyn|1980|  true|\n",
      "|     Clive|1981|  true|\n",
      "|   Leanora|1981| false|\n",
      "+----------+----+------+\n",
      "only showing top 20 rows\n",
      "\n"
     ]
    }
   ],
   "source": [
    "dropped_df.show()"
   ]
  },
  {
   "cell_type": "code",
   "execution_count": 40,
   "id": "896e0a07-8a54-41bf-b9a6-840dadf99158",
   "metadata": {},
   "outputs": [
    {
     "name": "stdout",
     "output_type": "stream",
     "text": [
      "+----------+----+------+\n",
      "|first_name|year|active|\n",
      "+----------+----+------+\n",
      "|   Lorilee|2002| false|\n",
      "|    Virgie|2002|  true|\n",
      "|    Carlen|2002|  true|\n",
      "|     Daron|2002|  true|\n",
      "|    Maxine|2001| false|\n",
      "|    Feodor|2000| false|\n",
      "|  Annabell|2000|  true|\n",
      "|     Kelcy|2000|  true|\n",
      "|     Jobie|2000| false|\n",
      "|      Redd|2000| false|\n",
      "|  Theodore|1999| false|\n",
      "| Kendricks|1999|  true|\n",
      "|    Cecily|1999|  true|\n",
      "|      Jere|1999| false|\n",
      "|  Elianora|1999| false|\n",
      "|     Deina|1999|  true|\n",
      "|      Jere|1998| false|\n",
      "|    Wilden|1998| false|\n",
      "|      Rudy|1998|  true|\n",
      "|    Eugine|1998| false|\n",
      "+----------+----+------+\n",
      "only showing top 20 rows\n",
      "\n"
     ]
    }
   ],
   "source": [
    "(person_df.select(col(\"first_name\"), year(col(\"date_of_birth\")).alias(\"year\"), col(\"active\")).orderBy(\"year\", ascending=False)).show()"
   ]
  },
  {
   "cell_type": "markdown",
   "id": "34f289ca-1794-4124-91bb-401d5aa576a4",
   "metadata": {},
   "source": [
    "## Rows and Union"
   ]
  },
  {
   "cell_type": "code",
   "execution_count": 41,
   "id": "e1c5c47c-64d2-4a69-9650-207561ee7f28",
   "metadata": {},
   "outputs": [],
   "source": [
    "from pyspark.sql import Row"
   ]
  },
  {
   "cell_type": "code",
   "execution_count": 42,
   "id": "98605cb5-23ea-4ca3-bda7-2d103b9f7dd4",
   "metadata": {},
   "outputs": [],
   "source": [
    "person_row = Row(101, \"Robert\", \"Ownes\", [\"Men in Black III\", \"Home Alone\"], 43001.64, \"http://someimage.com\", \"1964-08-18\", True)"
   ]
  },
  {
   "cell_type": "code",
   "execution_count": 43,
   "id": "ea4b50f8-eb8e-49af-bd69-339aef9661fd",
   "metadata": {},
   "outputs": [],
   "source": [
    "persons_rows_list = [Row(102, \"Kenny\", \"Bobien\", [\"Men in Black III\", \"Home Alone\"], 43001.64, \"http://someimage.com\", \"1964-08-18\", True), \n",
    "                    Row(103, \"Sara\", \"Devine\", [\"Men in Black III\", \"Home Alone\"], 43001.64, \"http://someimage.com\", \"1964-08-18\", True)]"
   ]
  },
  {
   "cell_type": "code",
   "execution_count": 44,
   "id": "72f35ede-4bdb-4668-ac13-b3d921f2fb1a",
   "metadata": {},
   "outputs": [],
   "source": [
    "persons_rows_list.append(person_row)"
   ]
  },
  {
   "cell_type": "code",
   "execution_count": 45,
   "id": "e8fbe8cd-22fc-4f67-aead-cd2a65d1a00d",
   "metadata": {},
   "outputs": [
    {
     "name": "stdout",
     "output_type": "stream",
     "text": [
      "[<Row(102, 'Kenny', 'Bobien', ['Men in Black III', 'Home Alone'], 43001.64, 'http://someimage.com', '1964-08-18', True)>, <Row(103, 'Sara', 'Devine', ['Men in Black III', 'Home Alone'], 43001.64, 'http://someimage.com', '1964-08-18', True)>, <Row(101, 'Robert', 'Ownes', ['Men in Black III', 'Home Alone'], 43001.64, 'http://someimage.com', '1964-08-18', True)>]\n"
     ]
    }
   ],
   "source": [
    "print(persons_rows_list)"
   ]
  },
  {
   "cell_type": "code",
   "execution_count": 46,
   "id": "e285d3ab-96a3-4d4b-8cac-acef4b60c62c",
   "metadata": {},
   "outputs": [
    {
     "data": {
      "text/plain": [
       "'Robert'"
      ]
     },
     "execution_count": 46,
     "metadata": {},
     "output_type": "execute_result"
    }
   ],
   "source": [
    "person_row[1]"
   ]
  },
  {
   "cell_type": "code",
   "execution_count": 47,
   "id": "ccaf890e-d077-4bd9-a3f6-988ff1a5afcf",
   "metadata": {},
   "outputs": [],
   "source": [
    "new_persons_df = spark.createDataFrame(persons_rows_list, [\"id\",\"first_name\",\"last_name\", \"fav_movies\", \"salary\", \"image_url\", \"date_of_birth\", \"active\"\n",
    "                                                          ])"
   ]
  },
  {
   "cell_type": "code",
   "execution_count": 48,
   "id": "42523fe9-5cb7-4c2f-bed1-26a2527748e1",
   "metadata": {},
   "outputs": [
    {
     "name": "stdout",
     "output_type": "stream",
     "text": [
      "+---+----------+---------+--------------------+--------+--------------------+-------------+------+\n",
      "| id|first_name|last_name|          fav_movies|  salary|           image_url|date_of_birth|active|\n",
      "+---+----------+---------+--------------------+--------+--------------------+-------------+------+\n",
      "|102|     Kenny|   Bobien|[Men in Black III...|43001.64|http://someimage.com|   1964-08-18|  true|\n",
      "|103|      Sara|   Devine|[Men in Black III...|43001.64|http://someimage.com|   1964-08-18|  true|\n",
      "|101|    Robert|    Ownes|[Men in Black III...|43001.64|http://someimage.com|   1964-08-18|  true|\n",
      "+---+----------+---------+--------------------+--------+--------------------+-------------+------+\n",
      "\n"
     ]
    }
   ],
   "source": [
    "new_persons_df.show()"
   ]
  },
  {
   "cell_type": "code",
   "execution_count": 49,
   "id": "4d74c29a-76f3-4195-b500-384f8187563e",
   "metadata": {},
   "outputs": [],
   "source": [
    "add_persons_df = person_df.union(new_persons_df)"
   ]
  },
  {
   "cell_type": "code",
   "execution_count": 50,
   "id": "6df4bd76-e842-4f22-837c-1f38c9e31e7b",
   "metadata": {},
   "outputs": [
    {
     "name": "stdout",
     "output_type": "stream",
     "text": [
      "+---+----------+-----------+--------------------+------------------+--------------------+-------------+------+\n",
      "| id|first_name|  last_name|          fav_movies|            salary|           image_url|date_of_birth|active|\n",
      "+---+----------+-----------+--------------------+------------------+--------------------+-------------+------+\n",
      "|  1|     Drucy|      Poppy|  [I giorni contati]|1463.3599853515625|http://dummyimage...|   1991-02-16|  true|\n",
      "|  2|   Emelyne|      Blaza|[Musketeer, The, ...|   3006.0400390625|http://dummyimage...|   1991-11-02| false|\n",
      "|  3|       Max|     Rettie|[The Forgotten Sp...|1422.8800048828125|http://dummyimage...|   1990-03-03| false|\n",
      "|  4|    Ilario|       Kean|[Up Close and Per...| 3561.360107421875|http://dummyimage...|   1987-06-09|  true|\n",
      "|  5|     Toddy|     Drexel|[Walk in the Clou...|   4934.8701171875|http://dummyimage...|   1992-10-28|  true|\n",
      "|  6|    Oswald|   Petrolli|[Wing and the Thi...|  1153.22998046875|http://dummyimage...|   1986-09-02| false|\n",
      "|  7|    Adrian|     Clarey|[Walking Tall, Pa...|  1044.72998046875|http://dummyimage...|   1971-08-24| false|\n",
      "|  8|  Dominica|    Goodnow|    [Hearts Divided]| 1147.760009765625|http://dummyimage...|   1973-08-27| false|\n",
      "|  9|     Emory|    Slocomb|[Snake and Crane ...|1082.1099853515625|http://dummyimage...|   1974-06-08|  true|\n",
      "| 10|  Jeremias|       Bode|[Farewell to Arms...|   3472.6298828125|http://dummyimage...|   1997-08-02|  true|\n",
      "| 11|   Timothy|     Ervine|[Land of the Lost...|1147.6099853515625|http://dummyimage...|   1971-06-02| false|\n",
      "| 12|   Leanora|     Gooder|[It's All About L...|  1327.02001953125|http://dummyimage...|   1981-12-17| false|\n",
      "| 13|  Claiborn|     Denham|[McCullin, Max Pa...|    2623.330078125|http://dummyimage...|   1996-03-07| false|\n",
      "| 14|   Ambrosi|   Vidineev|[Wall Street: Mon...|   4550.8798828125|http://dummyimage...|   1989-07-20|  true|\n",
      "| 15|    Feodor|Nancekivell|   [Monsoon Wedding]|   2218.4599609375|http://dummyimage...|   2000-10-07| false|\n",
      "| 16|   Margaux|   Archbold|[And Now a Word f...|           1013.75|http://dummyimage...|   1988-07-29|  true|\n",
      "| 17|   Balduin|    Elstone|      [Sisters, The]| 2302.260009765625|http://dummyimage...|   1974-07-20| false|\n",
      "| 18|     Alfie|   Hatliffe|     [Lord of Tears]|  3893.10009765625|http://dummyimage...|   1989-06-21|  true|\n",
      "| 19|      Lura|     Follis|[My Life in Pink ...| 3331.260009765625|http://dummyimage...|   1998-11-03| false|\n",
      "| 20|      Maxi|      Cluet|[All I Want for C...|   4046.4599609375|http://dummyimage...|   1979-05-06| false|\n",
      "+---+----------+-----------+--------------------+------------------+--------------------+-------------+------+\n",
      "only showing top 20 rows\n",
      "\n"
     ]
    }
   ],
   "source": [
    "add_persons_df.show()\n"
   ]
  },
  {
   "cell_type": "code",
   "execution_count": 51,
   "id": "8f963623-24cf-4f21-a71c-5d876d818252",
   "metadata": {},
   "outputs": [
    {
     "name": "stdout",
     "output_type": "stream",
     "text": [
      "+---+----------+---------+--------------------+------------------+--------------------+-------------+------+\n",
      "| id|first_name|last_name|          fav_movies|            salary|           image_url|date_of_birth|active|\n",
      "+---+----------+---------+--------------------+------------------+--------------------+-------------+------+\n",
      "|103|      Sara|   Devine|[Men in Black III...|          43001.64|http://someimage.com|   1964-08-18|  true|\n",
      "|102|     Kenny|   Bobien|[Men in Black III...|          43001.64|http://someimage.com|   1964-08-18|  true|\n",
      "|101|    Robert|    Ownes|[Men in Black III...|          43001.64|http://someimage.com|   1964-08-18|  true|\n",
      "|100|    Virgie| Domanski|[Horseman, The, S...| 2165.929931640625|http://dummyimage...|   2002-01-05|  true|\n",
      "| 99|   Rozalie|   Wannop|[Suddenly, The No...|1259.6400146484375|http://dummyimage...|   1997-03-25| false|\n",
      "| 98|     Davin|     Labb|[Viva Riva!, Kill...| 1452.739990234375|http://dummyimage...|   1988-01-27|  true|\n",
      "| 97|      Rodi|   Farnan|[Code, The (Menta...|   2325.8798828125|http://dummyimage...|   1972-01-04| false|\n",
      "| 96|       Dew| Coopland|              [Rush]|  2725.56005859375|http://dummyimage...|   1986-11-14| false|\n",
      "| 95|      Cobb|  MacLure|[Storage 24, His ...|1621.1700439453125|http://dummyimage...|   1994-06-28| false|\n",
      "| 94|    Bennie|   Knight|[House on Carroll...| 2370.239990234375|http://dummyimage...|   1977-08-27| false|\n",
      "| 93|    Janean|     Pelz|              [Once]|    4906.919921875|http://dummyimage...|   1975-09-23|  true|\n",
      "| 92|     Daron|  Briance|[Train on the Bra...|  4226.35009765625|http://dummyimage...|   2002-02-22|  true|\n",
      "| 91|   Stanley|Sargeaunt|[Blow Out, Ashes,...| 2958.639892578125|http://dummyimage...|   1986-09-12| false|\n",
      "| 90|      Josy|   Pellew|[Dominion: Preque...|   2791.5400390625|http://dummyimage...|   1981-01-14| false|\n",
      "| 89|      Tish|   Machon|  [Arrowhead, Simon]|  4830.06005859375|http://dummyimage...|   1995-06-08|  true|\n",
      "| 88|     Jobie|  Maughan|[Devils on the Do...| 3899.199951171875|http://dummyimage...|   2000-02-07| false|\n",
      "| 87| Margareta|  Marusik|[Eyjafjallajökull...| 3416.969970703125|http://dummyimage...|   1983-10-01| false|\n",
      "| 86|    Welbie|  Crackel|[All That Heaven ...| 2720.280029296875|http://dummyimage...|   1990-10-24|  true|\n",
      "| 85|    Maxine|  Ewenson|[Savior, Beaver T...|            3363.5|http://dummyimage...|   2001-01-24| false|\n",
      "| 84|     Ricca| Newgrosh|[Documentarian, D...|  3412.06005859375|http://dummyimage...|   1984-07-27| false|\n",
      "+---+----------+---------+--------------------+------------------+--------------------+-------------+------+\n",
      "only showing top 20 rows\n",
      "\n"
     ]
    }
   ],
   "source": [
    "add_persons_df.sort(desc(\"id\")).show()"
   ]
  },
  {
   "cell_type": "markdown",
   "id": "80d86cb6-c5f3-4a14-b3d0-a1d8d79c1b3d",
   "metadata": {},
   "source": [
    "## Adding renaming and droppiong Column"
   ]
  },
  {
   "cell_type": "code",
   "execution_count": 52,
   "id": "25c99a77-4278-464d-8b10-137943576f7e",
   "metadata": {},
   "outputs": [],
   "source": [
    "from pyspark.sql.functions import round"
   ]
  },
  {
   "cell_type": "code",
   "execution_count": 53,
   "id": "87bf5ef6-a23b-4485-aa22-ab32d139310d",
   "metadata": {},
   "outputs": [],
   "source": [
    "aug_persons_df1 = add_persons_df.withColumn(\"salary_increase\", expr(\"salary * 0.1 + salary\"))"
   ]
  },
  {
   "cell_type": "code",
   "execution_count": 54,
   "id": "0044031d-a1da-42fd-9a33-72c05d5dae20",
   "metadata": {},
   "outputs": [
    {
     "data": {
      "text/plain": [
       "['id',\n",
       " 'first_name',\n",
       " 'last_name',\n",
       " 'fav_movies',\n",
       " 'salary',\n",
       " 'image_url',\n",
       " 'date_of_birth',\n",
       " 'active',\n",
       " 'salary_increase']"
      ]
     },
     "execution_count": 54,
     "metadata": {},
     "output_type": "execute_result"
    }
   ],
   "source": [
    "aug_persons_df1.columns"
   ]
  },
  {
   "cell_type": "code",
   "execution_count": 55,
   "id": "15c2994c-fb8e-407f-9bea-bbd198f8526e",
   "metadata": {},
   "outputs": [],
   "source": [
    "aug_persons_df2 = (aug_persons_df1\n",
    "                   .withColumn(\"birth_year\", year(\"date_of_birth\"))\n",
    "                   .withColumnRenamed(\"fav_movies\", \"movies\")\n",
    "                   .withColumn(\"salary_x10\", round(col(\"salary_increase\"), 2))\n",
    "                   .drop(\"salary_increase\"))"
   ]
  },
  {
   "cell_type": "code",
   "execution_count": 56,
   "id": "080586e3-6632-4ad3-9182-b54992f4de34",
   "metadata": {},
   "outputs": [
    {
     "name": "stdout",
     "output_type": "stream",
     "text": [
      "+---+----------+-----------+--------------------+------------------+--------------------+-------------+------+----------+----------+\n",
      "| id|first_name|  last_name|              movies|            salary|           image_url|date_of_birth|active|birth_year|salary_x10|\n",
      "+---+----------+-----------+--------------------+------------------+--------------------+-------------+------+----------+----------+\n",
      "|  1|     Drucy|      Poppy|  [I giorni contati]|1463.3599853515625|http://dummyimage...|   1991-02-16|  true|      1991|    1609.7|\n",
      "|  2|   Emelyne|      Blaza|[Musketeer, The, ...|   3006.0400390625|http://dummyimage...|   1991-11-02| false|      1991|   3306.64|\n",
      "|  3|       Max|     Rettie|[The Forgotten Sp...|1422.8800048828125|http://dummyimage...|   1990-03-03| false|      1990|   1565.17|\n",
      "|  4|    Ilario|       Kean|[Up Close and Per...| 3561.360107421875|http://dummyimage...|   1987-06-09|  true|      1987|    3917.5|\n",
      "|  5|     Toddy|     Drexel|[Walk in the Clou...|   4934.8701171875|http://dummyimage...|   1992-10-28|  true|      1992|   5428.36|\n",
      "|  6|    Oswald|   Petrolli|[Wing and the Thi...|  1153.22998046875|http://dummyimage...|   1986-09-02| false|      1986|   1268.55|\n",
      "|  7|    Adrian|     Clarey|[Walking Tall, Pa...|  1044.72998046875|http://dummyimage...|   1971-08-24| false|      1971|    1149.2|\n",
      "|  8|  Dominica|    Goodnow|    [Hearts Divided]| 1147.760009765625|http://dummyimage...|   1973-08-27| false|      1973|   1262.54|\n",
      "|  9|     Emory|    Slocomb|[Snake and Crane ...|1082.1099853515625|http://dummyimage...|   1974-06-08|  true|      1974|   1190.32|\n",
      "| 10|  Jeremias|       Bode|[Farewell to Arms...|   3472.6298828125|http://dummyimage...|   1997-08-02|  true|      1997|   3819.89|\n",
      "| 11|   Timothy|     Ervine|[Land of the Lost...|1147.6099853515625|http://dummyimage...|   1971-06-02| false|      1971|   1262.37|\n",
      "| 12|   Leanora|     Gooder|[It's All About L...|  1327.02001953125|http://dummyimage...|   1981-12-17| false|      1981|   1459.72|\n",
      "| 13|  Claiborn|     Denham|[McCullin, Max Pa...|    2623.330078125|http://dummyimage...|   1996-03-07| false|      1996|   2885.66|\n",
      "| 14|   Ambrosi|   Vidineev|[Wall Street: Mon...|   4550.8798828125|http://dummyimage...|   1989-07-20|  true|      1989|   5005.97|\n",
      "| 15|    Feodor|Nancekivell|   [Monsoon Wedding]|   2218.4599609375|http://dummyimage...|   2000-10-07| false|      2000|   2440.31|\n",
      "| 16|   Margaux|   Archbold|[And Now a Word f...|           1013.75|http://dummyimage...|   1988-07-29|  true|      1988|   1115.13|\n",
      "| 17|   Balduin|    Elstone|      [Sisters, The]| 2302.260009765625|http://dummyimage...|   1974-07-20| false|      1974|   2532.49|\n",
      "| 18|     Alfie|   Hatliffe|     [Lord of Tears]|  3893.10009765625|http://dummyimage...|   1989-06-21|  true|      1989|   4282.41|\n",
      "| 19|      Lura|     Follis|[My Life in Pink ...| 3331.260009765625|http://dummyimage...|   1998-11-03| false|      1998|   3664.39|\n",
      "| 20|      Maxi|      Cluet|[All I Want for C...|   4046.4599609375|http://dummyimage...|   1979-05-06| false|      1979|   4451.11|\n",
      "+---+----------+-----------+--------------------+------------------+--------------------+-------------+------+----------+----------+\n",
      "only showing top 20 rows\n",
      "\n"
     ]
    }
   ],
   "source": [
    "aug_persons_df2.show()"
   ]
  },
  {
   "cell_type": "markdown",
   "id": "049d4d3a-43c4-4783-a207-fbf07885686a",
   "metadata": {},
   "source": [
    "## Working with missing or bad data"
   ]
  },
  {
   "cell_type": "code",
   "execution_count": 57,
   "id": "a0fa8a2b-8bd2-41eb-8234-b0f5a1a6db35",
   "metadata": {},
   "outputs": [],
   "source": [
    "bad_movies_list = [Row(None, None, None),\n",
    "                   Row(None, None, 2020),\n",
    "                   Row(\"John Doe\", \"Awesome Movie\", None),\n",
    "                   Row(None, \"Awesome Movie\", 2021),\n",
    "                   Row(\"Mary Jane\", None, 2019),\n",
    "                   Row(\"Vikter Duplaix\", \"Not another teen movie\", 2001)]"
   ]
  },
  {
   "cell_type": "code",
   "execution_count": 58,
   "id": "b9f5da23-41a6-49e4-b3a5-e8ef8f50741d",
   "metadata": {},
   "outputs": [],
   "source": [
    "bad_movies_columns = [\"actor_name\", \"movie_title\", \"produced_year\"]"
   ]
  },
  {
   "cell_type": "code",
   "execution_count": 59,
   "id": "a8ebd0b9-4d5b-4c59-a67f-8aea3ba0ebee",
   "metadata": {},
   "outputs": [],
   "source": [
    "bad_movies_df = spark.createDataFrame(bad_movies_list, schema=bad_movies_columns)"
   ]
  },
  {
   "cell_type": "code",
   "execution_count": 60,
   "id": "806e4648-6bb6-463d-8069-5a4327e5471d",
   "metadata": {},
   "outputs": [
    {
     "name": "stdout",
     "output_type": "stream",
     "text": [
      "+--------------+--------------------+-------------+\n",
      "|    actor_name|         movie_title|produced_year|\n",
      "+--------------+--------------------+-------------+\n",
      "|          null|                null|         null|\n",
      "|          null|                null|         2020|\n",
      "|      John Doe|       Awesome Movie|         null|\n",
      "|          null|       Awesome Movie|         2021|\n",
      "|     Mary Jane|                null|         2019|\n",
      "|Vikter Duplaix|Not another teen ...|         2001|\n",
      "+--------------+--------------------+-------------+\n",
      "\n"
     ]
    }
   ],
   "source": [
    "bad_movies_df.show()"
   ]
  },
  {
   "cell_type": "code",
   "execution_count": 61,
   "id": "626f9d1e-4cdb-4371-b8c9-710f6ff497c2",
   "metadata": {},
   "outputs": [
    {
     "name": "stdout",
     "output_type": "stream",
     "text": [
      "+--------------+--------------------+-------------+\n",
      "|    actor_name|         movie_title|produced_year|\n",
      "+--------------+--------------------+-------------+\n",
      "|Vikter Duplaix|Not another teen ...|         2001|\n",
      "+--------------+--------------------+-------------+\n",
      "\n"
     ]
    }
   ],
   "source": [
    "bad_movies_df.na.drop().show()"
   ]
  },
  {
   "cell_type": "code",
   "execution_count": 62,
   "id": "d303f3f5-9640-4140-bd4a-eb3743512250",
   "metadata": {},
   "outputs": [
    {
     "name": "stdout",
     "output_type": "stream",
     "text": [
      "+--------------+--------------------+-------------+\n",
      "|    actor_name|         movie_title|produced_year|\n",
      "+--------------+--------------------+-------------+\n",
      "|Vikter Duplaix|Not another teen ...|         2001|\n",
      "+--------------+--------------------+-------------+\n",
      "\n"
     ]
    }
   ],
   "source": [
    "bad_movies_df.na.drop(\"any\").show()"
   ]
  },
  {
   "cell_type": "code",
   "execution_count": 63,
   "id": "4b30c4c7-f24f-4fec-a610-bf27464f4eeb",
   "metadata": {},
   "outputs": [
    {
     "name": "stdout",
     "output_type": "stream",
     "text": [
      "+--------------+--------------------+-------------+\n",
      "|    actor_name|         movie_title|produced_year|\n",
      "+--------------+--------------------+-------------+\n",
      "|          null|                null|         2020|\n",
      "|      John Doe|       Awesome Movie|         null|\n",
      "|          null|       Awesome Movie|         2021|\n",
      "|     Mary Jane|                null|         2019|\n",
      "|Vikter Duplaix|Not another teen ...|         2001|\n",
      "+--------------+--------------------+-------------+\n",
      "\n"
     ]
    }
   ],
   "source": [
    "bad_movies_df.na.drop(\"all\").show()"
   ]
  },
  {
   "cell_type": "code",
   "execution_count": 64,
   "id": "55ac427b-0454-4512-ac55-1d4692a008fe",
   "metadata": {},
   "outputs": [
    {
     "name": "stdout",
     "output_type": "stream",
     "text": [
      "+--------------+--------------------+-------------+\n",
      "|    actor_name|         movie_title|produced_year|\n",
      "+--------------+--------------------+-------------+\n",
      "|      John Doe|       Awesome Movie|         null|\n",
      "|     Mary Jane|                null|         2019|\n",
      "|Vikter Duplaix|Not another teen ...|         2001|\n",
      "+--------------+--------------------+-------------+\n",
      "\n"
     ]
    }
   ],
   "source": [
    "bad_movies_df.filter(col(\"actor_name\").isNotNull() == True).show()"
   ]
  },
  {
   "cell_type": "code",
   "execution_count": 65,
   "id": "b5262eb1-dd93-4225-9d32-f98703206f35",
   "metadata": {},
   "outputs": [
    {
     "name": "stdout",
     "output_type": "stream",
     "text": [
      "+-------+--------------+\n",
      "|summary|    actor_name|\n",
      "+-------+--------------+\n",
      "|  count|             3|\n",
      "|   mean|          null|\n",
      "| stddev|          null|\n",
      "|    min|      John Doe|\n",
      "|    max|Vikter Duplaix|\n",
      "+-------+--------------+\n",
      "\n"
     ]
    }
   ],
   "source": [
    "bad_movies_df.describe(\"actor_name\").show()"
   ]
  },
  {
   "cell_type": "markdown",
   "id": "275a8a01-fbed-41d2-a588-f3a7c30e2be8",
   "metadata": {},
   "source": [
    "## User Defined Functions "
   ]
  },
  {
   "cell_type": "code",
   "execution_count": 66,
   "id": "f9124f23-aa8b-4ceb-82ce-3d83156e4fca",
   "metadata": {},
   "outputs": [],
   "source": [
    "from pyspark.sql.functions import udf"
   ]
  },
  {
   "cell_type": "code",
   "execution_count": 67,
   "id": "ada0d51f-2495-4de9-a2ff-471e44c3ff41",
   "metadata": {},
   "outputs": [],
   "source": [
    "students_list = [(\"joe\",85), (\"jane\",90), (\"mary\",55)]"
   ]
  },
  {
   "cell_type": "code",
   "execution_count": 68,
   "id": "77b06756-7035-4551-967f-acf988dfd85d",
   "metadata": {},
   "outputs": [],
   "source": [
    "students_columns = [\"name\", \"score\"]"
   ]
  },
  {
   "cell_type": "code",
   "execution_count": 69,
   "id": "92488d6e-ba15-409f-8f72-a85237728921",
   "metadata": {},
   "outputs": [],
   "source": [
    "students_df = spark.createDataFrame(students_list,students_columns )"
   ]
  },
  {
   "cell_type": "code",
   "execution_count": 70,
   "id": "ab17bbc4-ce28-4b3b-9cd0-5310f817beef",
   "metadata": {},
   "outputs": [
    {
     "name": "stdout",
     "output_type": "stream",
     "text": [
      "+----+-----+\n",
      "|name|score|\n",
      "+----+-----+\n",
      "| joe|   85|\n",
      "|jane|   90|\n",
      "|mary|   55|\n",
      "+----+-----+\n",
      "\n"
     ]
    }
   ],
   "source": [
    "students_df.show()"
   ]
  },
  {
   "cell_type": "code",
   "execution_count": 71,
   "id": "6eef5528-ad40-4299-a7aa-217195032466",
   "metadata": {},
   "outputs": [],
   "source": [
    "def letterGrade(score:int):\n",
    "    grade = ''\n",
    "    if score > 100:\n",
    "        grade = 'Cheating'\n",
    "    elif score >= 90:\n",
    "        grade = 'A'\n",
    "    elif score >= 80:\n",
    "        grade = 'B'\n",
    "    elif score >= 70:\n",
    "        grade = 'C'        \n",
    "    elif score < 70:\n",
    "        grade = 'D'\n",
    "    return grade\n"
   ]
  },
  {
   "cell_type": "code",
   "execution_count": 72,
   "id": "60a5561a-5e13-486e-beb5-5b85e8692604",
   "metadata": {},
   "outputs": [],
   "source": [
    "letterGrade_udf = udf(letterGrade)"
   ]
  },
  {
   "cell_type": "code",
   "execution_count": 73,
   "id": "024a9f95-0990-42aa-b34b-af002a4ac1de",
   "metadata": {},
   "outputs": [
    {
     "name": "stdout",
     "output_type": "stream",
     "text": [
      "+----+-----+-----+\n",
      "|name|score|grade|\n",
      "+----+-----+-----+\n",
      "| joe|   85|    B|\n",
      "|jane|   90|    A|\n",
      "|mary|   55|    D|\n",
      "+----+-----+-----+\n",
      "\n"
     ]
    }
   ],
   "source": [
    "students_df.select(\"name\", \"score\", letterGrade_udf(col(\"score\")).alias(\"grade\")).show()"
   ]
  },
  {
   "cell_type": "markdown",
   "id": "ca797b15-9b07-4178-945e-9b86991e958c",
   "metadata": {},
   "source": [
    "# Aggregations "
   ]
  },
  {
   "cell_type": "code",
   "execution_count": 74,
   "id": "e9b94731-5d99-4e10-aea1-146e7043bb9e",
   "metadata": {},
   "outputs": [],
   "source": [
    "flight_data = './data/flights/flight-summary.csv'\n",
    "\n",
    "flight_df = spark.read.format('csv').option('header', 'true').option('inferSchema', 'true').load(flight_data)"
   ]
  },
  {
   "cell_type": "code",
   "execution_count": 75,
   "id": "136e9448-670d-4f40-9946-0ee5db2d9146",
   "metadata": {},
   "outputs": [
    {
     "data": {
      "text/plain": [
       "4693"
      ]
     },
     "execution_count": 75,
     "metadata": {},
     "output_type": "execute_result"
    }
   ],
   "source": [
    "flight_df.count()"
   ]
  },
  {
   "cell_type": "code",
   "execution_count": 76,
   "id": "63ba87f9-fae1-47a7-abcb-e37e23d58185",
   "metadata": {},
   "outputs": [
    {
     "name": "stdout",
     "output_type": "stream",
     "text": [
      "+-----------+--------------------+---------------+------------+---------+--------------------+----------------+----------+-----+\n",
      "|origin_code|      origin_airport|    origin_city|origin_state|dest_code|        dest_airport|       dest_city|dest_state|count|\n",
      "+-----------+--------------------+---------------+------------+---------+--------------------+----------------+----------+-----+\n",
      "|        BQN|Rafael Hernández ...|      Aguadilla|          PR|      MCO|Orlando Internati...|         Orlando|        FL|  441|\n",
      "|        PHL|Philadelphia Inte...|   Philadelphia|          PA|      MCO|Orlando Internati...|         Orlando|        FL| 4869|\n",
      "|        MCI|Kansas City Inter...|    Kansas City|          MO|      IAH|George Bush Inter...|         Houston|        TX| 1698|\n",
      "|        SPI|Abraham Lincoln C...|    Springfield|          IL|      ORD|Chicago O'Hare In...|         Chicago|        IL|  998|\n",
      "|        SNA|John Wayne Airpor...|      Santa Ana|          CA|      PHX|Phoenix Sky Harbo...|         Phoenix|        AZ| 3846|\n",
      "|        LBB|Lubbock Preston S...|        Lubbock|          TX|      DEN|Denver Internatio...|          Denver|        CO|  618|\n",
      "|        ORD|Chicago O'Hare In...|        Chicago|          IL|      PDX|Portland Internat...|        Portland|        OR| 2149|\n",
      "|        EWR|Newark Liberty In...|         Newark|          NJ|      STT|Cyril E. King Air...|Charlotte Amalie|        VI|  239|\n",
      "|        ATL|Hartsfield-Jackso...|        Atlanta|          GA|      GSP|Greenville-Sparta...|           Greer|        SC| 2470|\n",
      "|        MCI|Kansas City Inter...|    Kansas City|          MO|      MKE|General Mitchell ...|       Milwaukee|        WI|  612|\n",
      "|        PBI|Palm Beach Intern...|West Palm Beach|          FL|      DCA|Ronald Reagan Was...|       Arlington|        VA|  978|\n",
      "|        SMF|Sacramento Intern...|     Sacramento|          CA|      BUR|Bob Hope Airport ...|         Burbank|        CA| 2092|\n",
      "|        MDW|Chicago Midway In...|        Chicago|          IL|      MEM|Memphis Internati...|         Memphis|        TN|  628|\n",
      "|        LAS|McCarran Internat...|      Las Vegas|          NV|      LIT|Bill and Hillary ...|     Little Rock|        AR|  334|\n",
      "|        TPA|Tampa Internation...|          Tampa|          FL|      ACY|Atlantic City Int...|   Atlantic City|        NJ|  335|\n",
      "|        DSM|Des Moines Intern...|     Des Moines|          IA|      EWR|Newark Liberty In...|          Newark|        NJ|  191|\n",
      "|        FSD|Sioux Falls Regio...|    Sioux Falls|          SD|      ATL|Hartsfield-Jackso...|         Atlanta|        GA|  329|\n",
      "|        SJC|Norman Y. Mineta ...|       San Jose|          CA|      LIH|       Lihue Airport|           Lihue|        HI|  190|\n",
      "|        CLE|Cleveland Hopkins...|      Cleveland|          OH|      SJU|Luis Muñoz Marín ...|        San Juan|        PR|   43|\n",
      "|        CPR|Natrona County In...|         Casper|          WY|      DEN|Denver Internatio...|          Denver|        CO|  956|\n",
      "+-----------+--------------------+---------------+------------+---------+--------------------+----------------+----------+-----+\n",
      "only showing top 20 rows\n",
      "\n"
     ]
    }
   ],
   "source": [
    "flight_df.show()"
   ]
  },
  {
   "cell_type": "code",
   "execution_count": 77,
   "id": "7a3db057-d139-47b8-b425-1e17923ccd03",
   "metadata": {},
   "outputs": [
    {
     "name": "stdout",
     "output_type": "stream",
     "text": [
      "root\n",
      " |-- origin_code: string (nullable = true)\n",
      " |-- origin_airport: string (nullable = true)\n",
      " |-- origin_city: string (nullable = true)\n",
      " |-- origin_state: string (nullable = true)\n",
      " |-- dest_code: string (nullable = true)\n",
      " |-- dest_airport: string (nullable = true)\n",
      " |-- dest_city: string (nullable = true)\n",
      " |-- dest_state: string (nullable = true)\n",
      " |-- count: integer (nullable = true)\n",
      "\n"
     ]
    }
   ],
   "source": [
    "flight_df.printSchema()"
   ]
  },
  {
   "cell_type": "code",
   "execution_count": 78,
   "id": "f6c7bd3c-6b0a-47e7-b329-70da278cc79c",
   "metadata": {},
   "outputs": [],
   "source": [
    "flight_df = flight_df.withColumnRenamed(\"count\", \"flight_count\")"
   ]
  },
  {
   "cell_type": "code",
   "execution_count": 79,
   "id": "e6274f1b-c3d1-4524-a447-1ce9383b3576",
   "metadata": {},
   "outputs": [
    {
     "name": "stdout",
     "output_type": "stream",
     "text": [
      "+-----------+--------------------+---------------+------------+---------+--------------------+----------------+----------+------------+\n",
      "|origin_code|      origin_airport|    origin_city|origin_state|dest_code|        dest_airport|       dest_city|dest_state|flight_count|\n",
      "+-----------+--------------------+---------------+------------+---------+--------------------+----------------+----------+------------+\n",
      "|        BQN|Rafael Hernández ...|      Aguadilla|          PR|      MCO|Orlando Internati...|         Orlando|        FL|         441|\n",
      "|        PHL|Philadelphia Inte...|   Philadelphia|          PA|      MCO|Orlando Internati...|         Orlando|        FL|        4869|\n",
      "|        MCI|Kansas City Inter...|    Kansas City|          MO|      IAH|George Bush Inter...|         Houston|        TX|        1698|\n",
      "|        SPI|Abraham Lincoln C...|    Springfield|          IL|      ORD|Chicago O'Hare In...|         Chicago|        IL|         998|\n",
      "|        SNA|John Wayne Airpor...|      Santa Ana|          CA|      PHX|Phoenix Sky Harbo...|         Phoenix|        AZ|        3846|\n",
      "|        LBB|Lubbock Preston S...|        Lubbock|          TX|      DEN|Denver Internatio...|          Denver|        CO|         618|\n",
      "|        ORD|Chicago O'Hare In...|        Chicago|          IL|      PDX|Portland Internat...|        Portland|        OR|        2149|\n",
      "|        EWR|Newark Liberty In...|         Newark|          NJ|      STT|Cyril E. King Air...|Charlotte Amalie|        VI|         239|\n",
      "|        ATL|Hartsfield-Jackso...|        Atlanta|          GA|      GSP|Greenville-Sparta...|           Greer|        SC|        2470|\n",
      "|        MCI|Kansas City Inter...|    Kansas City|          MO|      MKE|General Mitchell ...|       Milwaukee|        WI|         612|\n",
      "|        PBI|Palm Beach Intern...|West Palm Beach|          FL|      DCA|Ronald Reagan Was...|       Arlington|        VA|         978|\n",
      "|        SMF|Sacramento Intern...|     Sacramento|          CA|      BUR|Bob Hope Airport ...|         Burbank|        CA|        2092|\n",
      "|        MDW|Chicago Midway In...|        Chicago|          IL|      MEM|Memphis Internati...|         Memphis|        TN|         628|\n",
      "|        LAS|McCarran Internat...|      Las Vegas|          NV|      LIT|Bill and Hillary ...|     Little Rock|        AR|         334|\n",
      "|        TPA|Tampa Internation...|          Tampa|          FL|      ACY|Atlantic City Int...|   Atlantic City|        NJ|         335|\n",
      "|        DSM|Des Moines Intern...|     Des Moines|          IA|      EWR|Newark Liberty In...|          Newark|        NJ|         191|\n",
      "|        FSD|Sioux Falls Regio...|    Sioux Falls|          SD|      ATL|Hartsfield-Jackso...|         Atlanta|        GA|         329|\n",
      "|        SJC|Norman Y. Mineta ...|       San Jose|          CA|      LIH|       Lihue Airport|           Lihue|        HI|         190|\n",
      "|        CLE|Cleveland Hopkins...|      Cleveland|          OH|      SJU|Luis Muñoz Marín ...|        San Juan|        PR|          43|\n",
      "|        CPR|Natrona County In...|         Casper|          WY|      DEN|Denver Internatio...|          Denver|        CO|         956|\n",
      "+-----------+--------------------+---------------+------------+---------+--------------------+----------------+----------+------------+\n",
      "only showing top 20 rows\n",
      "\n"
     ]
    }
   ],
   "source": [
    "flight_df.show()"
   ]
  },
  {
   "cell_type": "markdown",
   "id": "b3590df3-4091-43db-9808-34f2856138ab",
   "metadata": {},
   "source": [
    "## cCount(col) and countDistinct"
   ]
  },
  {
   "cell_type": "code",
   "execution_count": 80,
   "id": "43548ebc-6ce6-4ef0-b495-e0cd90eed838",
   "metadata": {},
   "outputs": [],
   "source": [
    "from pyspark.sql.functions import count, countDistinct"
   ]
  },
  {
   "cell_type": "code",
   "execution_count": 81,
   "id": "cd7f3bfb-6752-415d-945f-df77950b128c",
   "metadata": {},
   "outputs": [],
   "source": [
    "# Remember aggregations do not include null values, in the bad movies exaples there are null values in actor name and other columns."
   ]
  },
  {
   "cell_type": "code",
   "execution_count": 82,
   "id": "ad76b592-1847-47d1-9cc4-dd282dd945e4",
   "metadata": {},
   "outputs": [
    {
     "name": "stdout",
     "output_type": "stream",
     "text": [
      "+---------------------+-------------------+\n",
      "|count(origin_airport)|count(dest_airport)|\n",
      "+---------------------+-------------------+\n",
      "|                 4693|               4693|\n",
      "+---------------------+-------------------+\n",
      "\n"
     ]
    }
   ],
   "source": [
    "flight_df.select(count(\"origin_airport\"), count(\"dest_airport\")).show()"
   ]
  },
  {
   "cell_type": "code",
   "execution_count": 83,
   "id": "f759d9f5-c103-49cc-bf96-2cb464a5dfcb",
   "metadata": {},
   "outputs": [
    {
     "name": "stdout",
     "output_type": "stream",
     "text": [
      "+-----------------+------------------+--------------------+--------+\n",
      "|count(actor_name)|count(movie_title)|count(produced_year)|count(1)|\n",
      "+-----------------+------------------+--------------------+--------+\n",
      "|                3|                 3|                   4|       6|\n",
      "+-----------------+------------------+--------------------+--------+\n",
      "\n"
     ]
    }
   ],
   "source": [
    "bad_movies_df.select(count(\"actor_name\"), count(\"movie_title\"), count(\"produced_year\"), count(\"*\")).show()"
   ]
  },
  {
   "cell_type": "code",
   "execution_count": 84,
   "id": "f904f65e-0ba0-4bae-9311-f22f59da3e47",
   "metadata": {},
   "outputs": [
    {
     "name": "stdout",
     "output_type": "stream",
     "text": [
      "+------------------------------+----------------------------+--------+\n",
      "|count(DISTINCT origin_airport)|count(DISTINCT dest_airport)|count(1)|\n",
      "+------------------------------+----------------------------+--------+\n",
      "|                           322|                         322|    4693|\n",
      "+------------------------------+----------------------------+--------+\n",
      "\n"
     ]
    }
   ],
   "source": [
    "flight_df.select(countDistinct(\"origin_airport\"), countDistinct(\"dest_airport\"), count(\"*\")).show()"
   ]
  },
  {
   "cell_type": "markdown",
   "id": "edeb6b15-6315-43d0-b41a-67a5f2af159e",
   "metadata": {},
   "source": [
    "### min(col), max(col), sum(col), sum distinct(col) and avg"
   ]
  },
  {
   "cell_type": "code",
   "execution_count": 85,
   "id": "57c07338-b5d6-443e-aa5e-5ba55f8389c5",
   "metadata": {},
   "outputs": [],
   "source": [
    "from pyspark.sql.functions import min, max, sum, sumDistinct, avg"
   ]
  },
  {
   "cell_type": "code",
   "execution_count": 86,
   "id": "4f8e4192-1e6f-4eb1-a81e-e84ed25eba9d",
   "metadata": {},
   "outputs": [
    {
     "name": "stdout",
     "output_type": "stream",
     "text": [
      "+-----------------+-----------------+\n",
      "|min(flight_count)|max(flight_count)|\n",
      "+-----------------+-----------------+\n",
      "|                1|            13744|\n",
      "+-----------------+-----------------+\n",
      "\n"
     ]
    }
   ],
   "source": [
    "flight_df.select(min(\"flight_count\"), max(\"flight_count\")).show()"
   ]
  },
  {
   "cell_type": "code",
   "execution_count": 87,
   "id": "5013a230-8f96-4124-833d-e94956db5312",
   "metadata": {},
   "outputs": [
    {
     "name": "stdout",
     "output_type": "stream",
     "text": [
      "+-----------------+\n",
      "|sum(flight_count)|\n",
      "+-----------------+\n",
      "|          5332914|\n",
      "+-----------------+\n",
      "\n"
     ]
    }
   ],
   "source": [
    "flight_df.select(sum(\"flight_count\")).show()"
   ]
  },
  {
   "cell_type": "code",
   "execution_count": 88,
   "id": "ce1e4ec6-98eb-4588-87cc-8531e6b5a443",
   "metadata": {},
   "outputs": [],
   "source": [
    "# Lets see how is sum different from sumDistinct"
   ]
  },
  {
   "cell_type": "code",
   "execution_count": 89,
   "id": "5289939d-1695-4f15-b7c5-b3d185fbac75",
   "metadata": {},
   "outputs": [
    {
     "name": "stdout",
     "output_type": "stream",
     "text": [
      "+----+-----+\n",
      "|name|score|\n",
      "+----+-----+\n",
      "| joe|   85|\n",
      "|jane|   90|\n",
      "|mary|   55|\n",
      "| joe|   85|\n",
      "|jane|   90|\n",
      "|mary|   55|\n",
      "+----+-----+\n",
      "\n"
     ]
    }
   ],
   "source": [
    "students_df_1 = students_df.union(students_df)\n",
    "students_df_1.show()"
   ]
  },
  {
   "cell_type": "code",
   "execution_count": 96,
   "id": "c5fc562b-3fd6-4b47-9ea1-8532290e3bd6",
   "metadata": {},
   "outputs": [
    {
     "name": "stdout",
     "output_type": "stream",
     "text": [
      "+----------+\n",
      "|sum(score)|\n",
      "+----------+\n",
      "|       230|\n",
      "+----------+\n",
      "\n"
     ]
    }
   ],
   "source": [
    "students_df.select(sum(\"score\")).show()\n"
   ]
  },
  {
   "cell_type": "code",
   "execution_count": 99,
   "id": "4d5b4160-901b-4950-8c0d-914714d078c8",
   "metadata": {},
   "outputs": [
    {
     "name": "stdout",
     "output_type": "stream",
     "text": [
      "+----------+\n",
      "|sum(score)|\n",
      "+----------+\n",
      "|       460|\n",
      "+----------+\n",
      "\n"
     ]
    }
   ],
   "source": [
    "students_df_1.select(sum(\"score\")).show()"
   ]
  },
  {
   "cell_type": "code",
   "execution_count": 100,
   "id": "ed0e41d2-b275-4433-a52a-078e2c84aa2d",
   "metadata": {},
   "outputs": [
    {
     "name": "stdout",
     "output_type": "stream",
     "text": [
      "+-------------------+\n",
      "|sum(DISTINCT score)|\n",
      "+-------------------+\n",
      "|                230|\n",
      "+-------------------+\n",
      "\n"
     ]
    }
   ],
   "source": [
    "students_df_1.select(sumDistinct(\"score\")).show()"
   ]
  },
  {
   "cell_type": "code",
   "execution_count": 101,
   "id": "0c3f9f5d-e10d-4302-ba4d-9f333bf8d1c2",
   "metadata": {},
   "outputs": [],
   "source": [
    "# Lets do for Flight data"
   ]
  },
  {
   "cell_type": "code",
   "execution_count": 102,
   "id": "baac7235-772c-4db8-a4da-0f0ea7891510",
   "metadata": {},
   "outputs": [
    {
     "name": "stdout",
     "output_type": "stream",
     "text": [
      "+-----------------+\n",
      "|sum(flight_count)|\n",
      "+-----------------+\n",
      "|          5332914|\n",
      "+-----------------+\n",
      "\n"
     ]
    }
   ],
   "source": [
    "flight_df.select(sum(\"flight_count\")).show()"
   ]
  },
  {
   "cell_type": "code",
   "execution_count": 103,
   "id": "f759a02a-55e4-4d54-af5f-11549e760187",
   "metadata": {},
   "outputs": [
    {
     "name": "stdout",
     "output_type": "stream",
     "text": [
      "+--------------------------+\n",
      "|sum(DISTINCT flight_count)|\n",
      "+--------------------------+\n",
      "|                   3612257|\n",
      "+--------------------------+\n",
      "\n"
     ]
    }
   ],
   "source": [
    "flight_df.select(sumDistinct(\"flight_count\")).show()"
   ]
  },
  {
   "cell_type": "code",
   "execution_count": 104,
   "id": "91a4a63c-2d48-4cf6-9301-0d8aceae7758",
   "metadata": {},
   "outputs": [
    {
     "name": "stdout",
     "output_type": "stream",
     "text": [
      "+------------------+-----------------------------------------+\n",
      "| avg(flight_count)|(sum(flight_count) / count(flight_count))|\n",
      "+------------------+-----------------------------------------+\n",
      "|1136.3549968037503|                       1136.3549968037503|\n",
      "+------------------+-----------------------------------------+\n",
      "\n"
     ]
    }
   ],
   "source": [
    "flight_df.select(avg(\"flight_count\"), sum(\"flight_count\")/count(\"flight_count\")).show()"
   ]
  },
  {
   "cell_type": "markdown",
   "id": "1866092f-7bc7-4d61-81f9-14e82a995e10",
   "metadata": {},
   "source": [
    "## Aggregation with grouping"
   ]
  },
  {
   "cell_type": "code",
   "execution_count": 106,
   "id": "d5be7ce0-a5d1-4693-ae0e-76fec0eb1d8f",
   "metadata": {},
   "outputs": [
    {
     "name": "stdout",
     "output_type": "stream",
     "text": [
      "+------------------------------------------------+-----+\n",
      "|origin_airport                                  |count|\n",
      "+------------------------------------------------+-----+\n",
      "|Hartsfield-Jackson Atlanta International Airport|169  |\n",
      "|Chicago O'Hare International Airport            |162  |\n",
      "|Dallas/Fort Worth International Airport         |148  |\n",
      "|Denver International Airport                    |139  |\n",
      "|Minneapolis-Saint Paul International Airport    |120  |\n",
      "+------------------------------------------------+-----+\n",
      "only showing top 5 rows\n",
      "\n"
     ]
    }
   ],
   "source": [
    "flight_df.groupBy(\"origin_airport\").count().orderBy(\"count\", ascending=False).show(5,False)"
   ]
  },
  {
   "cell_type": "code",
   "execution_count": 110,
   "id": "022ccd56-94d3-4813-b646-9247c9b80d16",
   "metadata": {},
   "outputs": [
    {
     "name": "stdout",
     "output_type": "stream",
     "text": [
      "+----------------------------------------------------------------------+-----------------+\n",
      "|origin_airport                                                        |max(flight_count)|\n",
      "+----------------------------------------------------------------------+-----------------+\n",
      "|San Francisco International Airport                                   |13744            |\n",
      "|Los Angeles International Airport                                     |13457            |\n",
      "|John F. Kennedy International Airport (New York International Airport)|12016            |\n",
      "|McCarran International Airport                                        |9715             |\n",
      "|LaGuardia Airport (Marine Air Terminal)                               |9639             |\n",
      "+----------------------------------------------------------------------+-----------------+\n",
      "only showing top 5 rows\n",
      "\n"
     ]
    }
   ],
   "source": [
    "flight_df.groupBy(\"origin_airport\").agg(max(\"flight_count\")).orderBy(max(\"flight_count\"), ascending=False).show(5,False)"
   ]
  },
  {
   "cell_type": "code",
   "execution_count": 113,
   "id": "400d5e89-5952-426f-b956-b2b1c2990df5",
   "metadata": {},
   "outputs": [
    {
     "name": "stdout",
     "output_type": "stream",
     "text": [
      "+----------------------------------------------------------------------+----------------+\n",
      "|origin_airport                                                        |max_flight_count|\n",
      "+----------------------------------------------------------------------+----------------+\n",
      "|San Francisco International Airport                                   |13744           |\n",
      "|Los Angeles International Airport                                     |13457           |\n",
      "|John F. Kennedy International Airport (New York International Airport)|12016           |\n",
      "|McCarran International Airport                                        |9715            |\n",
      "|LaGuardia Airport (Marine Air Terminal)                               |9639            |\n",
      "+----------------------------------------------------------------------+----------------+\n",
      "only showing top 5 rows\n",
      "\n"
     ]
    }
   ],
   "source": [
    "# re-writing above with alias\n",
    "\n",
    "flight_df.groupBy(\"origin_airport\").agg(max(\"flight_count\").alias(\"max_flight_count\")).orderBy(\"max_flight_count\", ascending=False).show(5,False)"
   ]
  },
  {
   "cell_type": "code",
   "execution_count": 118,
   "id": "672e170e-1573-4499-a401-88f86b9876e3",
   "metadata": {},
   "outputs": [
    {
     "name": "stdout",
     "output_type": "stream",
     "text": [
      "+------------+-------------+-----+\n",
      "|origin_state|  origin_city|count|\n",
      "+------------+-------------+-----+\n",
      "|          CA|San Francisco|   80|\n",
      "|          CA|  Los Angeles|   80|\n",
      "|          CA|    San Diego|   47|\n",
      "|          CA|      Oakland|   35|\n",
      "|          CA|   Sacramento|   27|\n",
      "+------------+-------------+-----+\n",
      "only showing top 5 rows\n",
      "\n"
     ]
    }
   ],
   "source": [
    "flight_df.groupBy(\"origin_state\", \"origin_city\").count().where(col(\"origin_state\") ==\"CA\").orderBy(\"count\", ascending=False).show(5)"
   ]
  },
  {
   "cell_type": "code",
   "execution_count": 119,
   "id": "d2366514-a09d-4e88-8528-0147bbb9be0e",
   "metadata": {},
   "outputs": [
    {
     "name": "stdout",
     "output_type": "stream",
     "text": [
      "+--------------------+-----------------+-----------------+-----------------+-------------------+\n",
      "|      origin_airport|max(flight_count)|min(flight_count)|sum(flight_count)|count(flight_count)|\n",
      "+--------------------+-----------------+-----------------+-----------------+-------------------+\n",
      "|Melbourne Interna...|             1332|             1332|             1332|                  1|\n",
      "|San Diego Interna...|             6942|                4|            70207|                 46|\n",
      "|     Eppley Airfield|             2083|                1|            16753|                 21|\n",
      "|     Kahului Airport|             8313|               67|            20627|                 18|\n",
      "|Austin-Bergstrom ...|             4674|                8|            42067|                 41|\n",
      "+--------------------+-----------------+-----------------+-----------------+-------------------+\n",
      "only showing top 5 rows\n",
      "\n"
     ]
    }
   ],
   "source": [
    "flight_df.groupBy(\"origin_airport\").agg(max(\"flight_count\"), min(\"flight_count\"), sum(\"flight_count\"), count(\"flight_count\")).show(5)"
   ]
  },
  {
   "cell_type": "code",
   "execution_count": null,
   "id": "646e675a-dd8a-46fb-ae91-538cbfc1acdf",
   "metadata": {},
   "outputs": [],
   "source": []
  }
 ],
 "metadata": {
  "kernelspec": {
   "display_name": "Python 3 (ipykernel)",
   "language": "python",
   "name": "python3"
  },
  "language_info": {
   "codemirror_mode": {
    "name": "ipython",
    "version": 3
   },
   "file_extension": ".py",
   "mimetype": "text/x-python",
   "name": "python",
   "nbconvert_exporter": "python",
   "pygments_lexer": "ipython3",
   "version": "3.9.7"
  }
 },
 "nbformat": 4,
 "nbformat_minor": 5
}
