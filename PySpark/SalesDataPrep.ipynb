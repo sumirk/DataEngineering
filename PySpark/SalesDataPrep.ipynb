{
 "cells": [
  {
   "cell_type": "code",
   "execution_count": 1,
   "id": "c6caa102-8cef-4181-b148-9d63e8d1b98f",
   "metadata": {},
   "outputs": [],
   "source": [
    "from pyspark.sql import SparkSession"
   ]
  },
  {
   "cell_type": "code",
   "execution_count": 2,
   "id": "88fb55cc-b686-46be-995d-69f5a6576c48",
   "metadata": {},
   "outputs": [],
   "source": [
    "from pyspark.sql.types import StructType, StructField, StringType, IntegerType, FloatType"
   ]
  },
  {
   "cell_type": "code",
   "execution_count": 37,
   "id": "c14ede62-6879-4e21-a24b-45eacbf3bb81",
   "metadata": {},
   "outputs": [],
   "source": [
    "spark = SparkSession.builder.appName(\"SparkSalesDataprep\").getOrCreate()"
   ]
  },
  {
   "cell_type": "markdown",
   "id": "d7b8deaa-7566-43e5-844a-741cf0e25339",
   "metadata": {},
   "source": [
    "# Data Preparation"
   ]
  },
  {
   "cell_type": "code",
   "execution_count": 4,
   "id": "2a998c4d-582f-4371-ad66-626ca4ba485c",
   "metadata": {},
   "outputs": [],
   "source": [
    "schema = StructType([StructField(\"Order ID\", StringType(), True),\n",
    "                    StructField(\"Product\", StringType(), True),\n",
    "                    StructField(\"Quantity Ordered\", StringType(), True),\n",
    "                    StructField(\"Price Each\", StringType(), True),\n",
    "                    StructField(\"Order Date\", StringType(), True),\n",
    "                    StructField(\"Purchase Address\", StringType(), True)\n",
    "                    ])"
   ]
  },
  {
   "cell_type": "code",
   "execution_count": 5,
   "id": "06dd38f8-7ce5-468c-b1ef-9439d9e18251",
   "metadata": {},
   "outputs": [],
   "source": [
    "data = \"./data/salesdata/*.csv\""
   ]
  },
  {
   "cell_type": "code",
   "execution_count": 6,
   "id": "3e60f909-70f3-40b9-84d4-670d2073e51e",
   "metadata": {},
   "outputs": [],
   "source": [
    "order_df = spark.read.format(\"csv\").option(\"header\", True).schema(schema).load(data)"
   ]
  },
  {
   "cell_type": "code",
   "execution_count": 7,
   "id": "b21f8c8c-f74c-4422-8c71-633c34a233e7",
   "metadata": {},
   "outputs": [
    {
     "name": "stdout",
     "output_type": "stream",
     "text": [
      "root\n",
      " |-- Order ID: string (nullable = true)\n",
      " |-- Product: string (nullable = true)\n",
      " |-- Quantity Ordered: string (nullable = true)\n",
      " |-- Price Each: string (nullable = true)\n",
      " |-- Order Date: string (nullable = true)\n",
      " |-- Purchase Address: string (nullable = true)\n",
      "\n"
     ]
    }
   ],
   "source": [
    "order_df.printSchema()"
   ]
  },
  {
   "cell_type": "code",
   "execution_count": 8,
   "id": "4901593d-a5c5-45fc-a627-3b487ef77c6f",
   "metadata": {},
   "outputs": [
    {
     "name": "stdout",
     "output_type": "stream",
     "text": [
      "+--------+--------------------------+----------------+----------+--------------+-----------------------------------------+\n",
      "|Order ID|Product                   |Quantity Ordered|Price Each|Order Date    |Purchase Address                         |\n",
      "+--------+--------------------------+----------------+----------+--------------+-----------------------------------------+\n",
      "|295665  |Macbook Pro Laptop        |1               |1700      |12/30/19 00:01|136 Church St, New York City, NY 10001   |\n",
      "|295666  |LG Washing Machine        |1               |600.0     |12/29/19 07:03|562 2nd St, New York City, NY 10001      |\n",
      "|295667  |USB-C Charging Cable      |1               |11.95     |12/12/19 18:21|277 Main St, New York City, NY 10001     |\n",
      "|295668  |27in FHD Monitor          |1               |149.99    |12/22/19 15:13|410 6th St, San Francisco, CA 94016      |\n",
      "|295669  |USB-C Charging Cable      |1               |11.95     |12/18/19 12:38|43 Hill St, Atlanta, GA 30301            |\n",
      "|295670  |AA Batteries (4-pack)     |1               |3.84      |12/31/19 22:58|200 Jefferson St, New York City, NY 10001|\n",
      "|295671  |USB-C Charging Cable      |1               |11.95     |12/16/19 15:10|928 12th St, Portland, OR 97035          |\n",
      "|295672  |USB-C Charging Cable      |2               |11.95     |12/13/19 09:29|813 Hickory St, Dallas, TX 75001         |\n",
      "|295673  |Bose SoundSport Headphones|1               |99.99     |12/15/19 23:26|718 Wilson St, Dallas, TX 75001          |\n",
      "|295674  |AAA Batteries (4-pack)    |4               |2.99      |12/28/19 11:51|77 7th St, Dallas, TX 75001              |\n",
      "+--------+--------------------------+----------------+----------+--------------+-----------------------------------------+\n",
      "only showing top 10 rows\n",
      "\n"
     ]
    }
   ],
   "source": [
    "order_df.show(10, False)"
   ]
  },
  {
   "cell_type": "markdown",
   "id": "88ba8179-f1bf-4a62-98ab-4d5c4893a82c",
   "metadata": {},
   "source": [
    "# Project - Cleaning Data on Sales Dataset "
   ]
  },
  {
   "cell_type": "code",
   "execution_count": 9,
   "id": "a6f0dd47-8e05-4b12-b495-86bc4e91fb82",
   "metadata": {},
   "outputs": [],
   "source": [
    "from pyspark.sql.functions import col"
   ]
  },
  {
   "cell_type": "code",
   "execution_count": 10,
   "id": "82902ab5-80f7-4557-93f8-989535198b93",
   "metadata": {},
   "outputs": [
    {
     "name": "stdout",
     "output_type": "stream",
     "text": [
      "+--------+-------+----------------+----------+----------+----------------+\n",
      "|Order ID|Product|Quantity Ordered|Price Each|Order Date|Purchase Address|\n",
      "+--------+-------+----------------+----------+----------+----------------+\n",
      "|    null|   null|            null|      null|      null|            null|\n",
      "|    null|   null|            null|      null|      null|            null|\n",
      "|    null|   null|            null|      null|      null|            null|\n",
      "|    null|   null|            null|      null|      null|            null|\n",
      "|    null|   null|            null|      null|      null|            null|\n",
      "|    null|   null|            null|      null|      null|            null|\n",
      "|    null|   null|            null|      null|      null|            null|\n",
      "|    null|   null|            null|      null|      null|            null|\n",
      "|    null|   null|            null|      null|      null|            null|\n",
      "|    null|   null|            null|      null|      null|            null|\n",
      "|    null|   null|            null|      null|      null|            null|\n",
      "|    null|   null|            null|      null|      null|            null|\n",
      "|    null|   null|            null|      null|      null|            null|\n",
      "|    null|   null|            null|      null|      null|            null|\n",
      "|    null|   null|            null|      null|      null|            null|\n",
      "|    null|   null|            null|      null|      null|            null|\n",
      "|    null|   null|            null|      null|      null|            null|\n",
      "|    null|   null|            null|      null|      null|            null|\n",
      "|    null|   null|            null|      null|      null|            null|\n",
      "|    null|   null|            null|      null|      null|            null|\n",
      "+--------+-------+----------------+----------+----------+----------------+\n",
      "only showing top 20 rows\n",
      "\n"
     ]
    }
   ],
   "source": [
    "order_df.filter(col(\"Order ID\").isNull() == True).show()"
   ]
  },
  {
   "cell_type": "code",
   "execution_count": 11,
   "id": "110f0ce9-db32-4113-9778-2c84f6aac589",
   "metadata": {},
   "outputs": [],
   "source": [
    "order_df = order_df.na.drop('any')"
   ]
  },
  {
   "cell_type": "code",
   "execution_count": 12,
   "id": "7707ce67-3266-4d50-930d-1031f0dc1005",
   "metadata": {},
   "outputs": [
    {
     "name": "stdout",
     "output_type": "stream",
     "text": [
      "+-------+------------------+------------+------------------+------------------+--------------+--------------------+\n",
      "|summary|          Order ID|     Product|  Quantity Ordered|        Price Each|    Order Date|    Purchase Address|\n",
      "+-------+------------------+------------+------------------+------------------+--------------+--------------------+\n",
      "|  count|            186305|      186305|            186305|            186305|        186305|              186305|\n",
      "|   mean| 230417.5693788653|        null|1.1243828986286637|184.39973476747707|          null|                null|\n",
      "| stddev|51512.737109995265|        null|0.4427926240286704| 332.7313298843439|          null|                null|\n",
      "|    min|            141234|20in Monitor|                 1|            109.99|01/01/19 03:07|1 11th St, Atlant...|\n",
      "|    max|          Order ID|      iPhone|  Quantity Ordered|        Price Each|    Order Date|    Purchase Address|\n",
      "+-------+------------------+------------+------------------+------------------+--------------+--------------------+\n",
      "\n"
     ]
    }
   ],
   "source": [
    "order_df.describe(\"Order ID\", \"Product\", \"Quantity Ordered\", \"Price Each\", \"Order Date\", \"Purchase Address\").show()"
   ]
  },
  {
   "cell_type": "code",
   "execution_count": 13,
   "id": "6b0a0e48-ef30-4dd9-94e8-a75bfe963fed",
   "metadata": {},
   "outputs": [
    {
     "name": "stdout",
     "output_type": "stream",
     "text": [
      "+--------+-------+----------------+----------+----------+----------------+\n",
      "|Order ID|Product|Quantity Ordered|Price Each|Order Date|Purchase Address|\n",
      "+--------+-------+----------------+----------+----------+----------------+\n",
      "|Order ID|Product|Quantity Ordered|Price Each|Order Date|Purchase Address|\n",
      "|Order ID|Product|Quantity Ordered|Price Each|Order Date|Purchase Address|\n",
      "|Order ID|Product|Quantity Ordered|Price Each|Order Date|Purchase Address|\n",
      "|Order ID|Product|Quantity Ordered|Price Each|Order Date|Purchase Address|\n",
      "|Order ID|Product|Quantity Ordered|Price Each|Order Date|Purchase Address|\n",
      "|Order ID|Product|Quantity Ordered|Price Each|Order Date|Purchase Address|\n",
      "|Order ID|Product|Quantity Ordered|Price Each|Order Date|Purchase Address|\n",
      "|Order ID|Product|Quantity Ordered|Price Each|Order Date|Purchase Address|\n",
      "|Order ID|Product|Quantity Ordered|Price Each|Order Date|Purchase Address|\n",
      "|Order ID|Product|Quantity Ordered|Price Each|Order Date|Purchase Address|\n",
      "|Order ID|Product|Quantity Ordered|Price Each|Order Date|Purchase Address|\n",
      "|Order ID|Product|Quantity Ordered|Price Each|Order Date|Purchase Address|\n",
      "|Order ID|Product|Quantity Ordered|Price Each|Order Date|Purchase Address|\n",
      "|Order ID|Product|Quantity Ordered|Price Each|Order Date|Purchase Address|\n",
      "|Order ID|Product|Quantity Ordered|Price Each|Order Date|Purchase Address|\n",
      "|Order ID|Product|Quantity Ordered|Price Each|Order Date|Purchase Address|\n",
      "|Order ID|Product|Quantity Ordered|Price Each|Order Date|Purchase Address|\n",
      "|Order ID|Product|Quantity Ordered|Price Each|Order Date|Purchase Address|\n",
      "|Order ID|Product|Quantity Ordered|Price Each|Order Date|Purchase Address|\n",
      "|Order ID|Product|Quantity Ordered|Price Each|Order Date|Purchase Address|\n",
      "+--------+-------+----------------+----------+----------+----------------+\n",
      "only showing top 20 rows\n",
      "\n"
     ]
    }
   ],
   "source": [
    "order_df.filter(col(\"Order ID\")==\"Order ID\").show()"
   ]
  },
  {
   "cell_type": "code",
   "execution_count": 14,
   "id": "79001ea2-9f81-4e5b-a6c8-dd719ea5130d",
   "metadata": {},
   "outputs": [],
   "source": [
    "order_df_filter = order_df.filter(col(\"Order ID\")!=\"Order ID\")"
   ]
  },
  {
   "cell_type": "code",
   "execution_count": 15,
   "id": "642a32b7-4bbc-4963-a2aa-ddfb7a7610a0",
   "metadata": {},
   "outputs": [
    {
     "name": "stdout",
     "output_type": "stream",
     "text": [
      "+--------+--------------------------+----------------+----------+--------------+-----------------------------------------+\n",
      "|Order ID|Product                   |Quantity Ordered|Price Each|Order Date    |Purchase Address                         |\n",
      "+--------+--------------------------+----------------+----------+--------------+-----------------------------------------+\n",
      "|295665  |Macbook Pro Laptop        |1               |1700      |12/30/19 00:01|136 Church St, New York City, NY 10001   |\n",
      "|295666  |LG Washing Machine        |1               |600.0     |12/29/19 07:03|562 2nd St, New York City, NY 10001      |\n",
      "|295667  |USB-C Charging Cable      |1               |11.95     |12/12/19 18:21|277 Main St, New York City, NY 10001     |\n",
      "|295668  |27in FHD Monitor          |1               |149.99    |12/22/19 15:13|410 6th St, San Francisco, CA 94016      |\n",
      "|295669  |USB-C Charging Cable      |1               |11.95     |12/18/19 12:38|43 Hill St, Atlanta, GA 30301            |\n",
      "|295670  |AA Batteries (4-pack)     |1               |3.84      |12/31/19 22:58|200 Jefferson St, New York City, NY 10001|\n",
      "|295671  |USB-C Charging Cable      |1               |11.95     |12/16/19 15:10|928 12th St, Portland, OR 97035          |\n",
      "|295672  |USB-C Charging Cable      |2               |11.95     |12/13/19 09:29|813 Hickory St, Dallas, TX 75001         |\n",
      "|295673  |Bose SoundSport Headphones|1               |99.99     |12/15/19 23:26|718 Wilson St, Dallas, TX 75001          |\n",
      "|295674  |AAA Batteries (4-pack)    |4               |2.99      |12/28/19 11:51|77 7th St, Dallas, TX 75001              |\n",
      "|295675  |USB-C Charging Cable      |2               |11.95     |12/13/19 13:52|594 1st St, San Francisco, CA 94016      |\n",
      "|295676  |ThinkPad Laptop           |1               |999.99    |12/28/19 17:19|410 Lincoln St, Los Angeles, CA 90001    |\n",
      "|295677  |AA Batteries (4-pack)     |2               |3.84      |12/20/19 19:19|866 Pine St, Boston, MA 02215            |\n",
      "|295678  |AAA Batteries (4-pack)    |2               |2.99      |12/06/19 09:38|187 Lincoln St, Dallas, TX 75001         |\n",
      "|295679  |USB-C Charging Cable      |1               |11.95     |12/25/19 09:39|902 2nd St, Dallas, TX 75001             |\n",
      "|295680  |Lightning Charging Cable  |1               |14.95     |12/01/19 14:30|338 Main St, Austin, TX 73301            |\n",
      "|295681  |Google Phone              |1               |600       |12/25/19 12:37|79 Elm St, Boston, MA 02215              |\n",
      "|295681  |USB-C Charging Cable      |1               |11.95     |12/25/19 12:37|79 Elm St, Boston, MA 02215              |\n",
      "|295681  |Bose SoundSport Headphones|1               |99.99     |12/25/19 12:37|79 Elm St, Boston, MA 02215              |\n",
      "|295681  |Wired Headphones          |1               |11.99     |12/25/19 12:37|79 Elm St, Boston, MA 02215              |\n",
      "+--------+--------------------------+----------------+----------+--------------+-----------------------------------------+\n",
      "only showing top 20 rows\n",
      "\n"
     ]
    }
   ],
   "source": [
    "order_df_filter.show(truncate=False)"
   ]
  },
  {
   "cell_type": "code",
   "execution_count": 16,
   "id": "e0fd9123-a0a8-4238-a670-4713fd928d2c",
   "metadata": {},
   "outputs": [],
   "source": [
    "from pyspark.sql.functions import split"
   ]
  },
  {
   "cell_type": "code",
   "execution_count": 17,
   "id": "5bcb567d-81de-4235-a2db-15009f89f44f",
   "metadata": {},
   "outputs": [
    {
     "name": "stdout",
     "output_type": "stream",
     "text": [
      "+--------+--------------------------+----------------+----------+--------------+-----------------------------------------+--------------+\n",
      "|Order ID|Product                   |Quantity Ordered|Price Each|Order Date    |Purchase Address                         |city          |\n",
      "+--------+--------------------------+----------------+----------+--------------+-----------------------------------------+--------------+\n",
      "|295665  |Macbook Pro Laptop        |1               |1700      |12/30/19 00:01|136 Church St, New York City, NY 10001   | New York City|\n",
      "|295666  |LG Washing Machine        |1               |600.0     |12/29/19 07:03|562 2nd St, New York City, NY 10001      | New York City|\n",
      "|295667  |USB-C Charging Cable      |1               |11.95     |12/12/19 18:21|277 Main St, New York City, NY 10001     | New York City|\n",
      "|295668  |27in FHD Monitor          |1               |149.99    |12/22/19 15:13|410 6th St, San Francisco, CA 94016      | San Francisco|\n",
      "|295669  |USB-C Charging Cable      |1               |11.95     |12/18/19 12:38|43 Hill St, Atlanta, GA 30301            | Atlanta      |\n",
      "|295670  |AA Batteries (4-pack)     |1               |3.84      |12/31/19 22:58|200 Jefferson St, New York City, NY 10001| New York City|\n",
      "|295671  |USB-C Charging Cable      |1               |11.95     |12/16/19 15:10|928 12th St, Portland, OR 97035          | Portland     |\n",
      "|295672  |USB-C Charging Cable      |2               |11.95     |12/13/19 09:29|813 Hickory St, Dallas, TX 75001         | Dallas       |\n",
      "|295673  |Bose SoundSport Headphones|1               |99.99     |12/15/19 23:26|718 Wilson St, Dallas, TX 75001          | Dallas       |\n",
      "|295674  |AAA Batteries (4-pack)    |4               |2.99      |12/28/19 11:51|77 7th St, Dallas, TX 75001              | Dallas       |\n",
      "|295675  |USB-C Charging Cable      |2               |11.95     |12/13/19 13:52|594 1st St, San Francisco, CA 94016      | San Francisco|\n",
      "|295676  |ThinkPad Laptop           |1               |999.99    |12/28/19 17:19|410 Lincoln St, Los Angeles, CA 90001    | Los Angeles  |\n",
      "|295677  |AA Batteries (4-pack)     |2               |3.84      |12/20/19 19:19|866 Pine St, Boston, MA 02215            | Boston       |\n",
      "|295678  |AAA Batteries (4-pack)    |2               |2.99      |12/06/19 09:38|187 Lincoln St, Dallas, TX 75001         | Dallas       |\n",
      "|295679  |USB-C Charging Cable      |1               |11.95     |12/25/19 09:39|902 2nd St, Dallas, TX 75001             | Dallas       |\n",
      "|295680  |Lightning Charging Cable  |1               |14.95     |12/01/19 14:30|338 Main St, Austin, TX 73301            | Austin       |\n",
      "|295681  |Google Phone              |1               |600       |12/25/19 12:37|79 Elm St, Boston, MA 02215              | Boston       |\n",
      "|295681  |USB-C Charging Cable      |1               |11.95     |12/25/19 12:37|79 Elm St, Boston, MA 02215              | Boston       |\n",
      "|295681  |Bose SoundSport Headphones|1               |99.99     |12/25/19 12:37|79 Elm St, Boston, MA 02215              | Boston       |\n",
      "|295681  |Wired Headphones          |1               |11.99     |12/25/19 12:37|79 Elm St, Boston, MA 02215              | Boston       |\n",
      "+--------+--------------------------+----------------+----------+--------------+-----------------------------------------+--------------+\n",
      "only showing top 20 rows\n",
      "\n"
     ]
    }
   ],
   "source": [
    "order_df_new_city = order_df_filter.select('*', split(col(\"Purchase Address\"), ',').getItem(1).alias(\"city\") )\n",
    "\n",
    "order_df_new_city.show(truncate=False)"
   ]
  },
  {
   "cell_type": "code",
   "execution_count": 18,
   "id": "abaf847f-1f82-4f5d-921d-607554a4dec5",
   "metadata": {},
   "outputs": [
    {
     "name": "stdout",
     "output_type": "stream",
     "text": [
      "+--------+--------------------+----------------+----------+--------------+--------------------+--------------+-----+\n",
      "|Order ID|             Product|Quantity Ordered|Price Each|    Order Date|    Purchase Address|          city|state|\n",
      "+--------+--------------------+----------------+----------+--------------+--------------------+--------------+-----+\n",
      "|  295665|  Macbook Pro Laptop|               1|      1700|12/30/19 00:01|136 Church St, Ne...| New York City|   NY|\n",
      "|  295666|  LG Washing Machine|               1|     600.0|12/29/19 07:03|562 2nd St, New Y...| New York City|   NY|\n",
      "|  295667|USB-C Charging Cable|               1|     11.95|12/12/19 18:21|277 Main St, New ...| New York City|   NY|\n",
      "|  295668|    27in FHD Monitor|               1|    149.99|12/22/19 15:13|410 6th St, San F...| San Francisco|   CA|\n",
      "|  295669|USB-C Charging Cable|               1|     11.95|12/18/19 12:38|43 Hill St, Atlan...|       Atlanta|   GA|\n",
      "|  295670|AA Batteries (4-p...|               1|      3.84|12/31/19 22:58|200 Jefferson St,...| New York City|   NY|\n",
      "|  295671|USB-C Charging Cable|               1|     11.95|12/16/19 15:10|928 12th St, Port...|      Portland|   OR|\n",
      "|  295672|USB-C Charging Cable|               2|     11.95|12/13/19 09:29|813 Hickory St, D...|        Dallas|   TX|\n",
      "|  295673|Bose SoundSport H...|               1|     99.99|12/15/19 23:26|718 Wilson St, Da...|        Dallas|   TX|\n",
      "|  295674|AAA Batteries (4-...|               4|      2.99|12/28/19 11:51|77 7th St, Dallas...|        Dallas|   TX|\n",
      "|  295675|USB-C Charging Cable|               2|     11.95|12/13/19 13:52|594 1st St, San F...| San Francisco|   CA|\n",
      "|  295676|     ThinkPad Laptop|               1|    999.99|12/28/19 17:19|410 Lincoln St, L...|   Los Angeles|   CA|\n",
      "|  295677|AA Batteries (4-p...|               2|      3.84|12/20/19 19:19|866 Pine St, Bost...|        Boston|   MA|\n",
      "|  295678|AAA Batteries (4-...|               2|      2.99|12/06/19 09:38|187 Lincoln St, D...|        Dallas|   TX|\n",
      "|  295679|USB-C Charging Cable|               1|     11.95|12/25/19 09:39|902 2nd St, Dalla...|        Dallas|   TX|\n",
      "|  295680|Lightning Chargin...|               1|     14.95|12/01/19 14:30|338 Main St, Aust...|        Austin|   TX|\n",
      "|  295681|        Google Phone|               1|       600|12/25/19 12:37|79 Elm St, Boston...|        Boston|   MA|\n",
      "|  295681|USB-C Charging Cable|               1|     11.95|12/25/19 12:37|79 Elm St, Boston...|        Boston|   MA|\n",
      "|  295681|Bose SoundSport H...|               1|     99.99|12/25/19 12:37|79 Elm St, Boston...|        Boston|   MA|\n",
      "|  295681|    Wired Headphones|               1|     11.99|12/25/19 12:37|79 Elm St, Boston...|        Boston|   MA|\n",
      "+--------+--------------------+----------------+----------+--------------+--------------------+--------------+-----+\n",
      "only showing top 20 rows\n",
      "\n"
     ]
    }
   ],
   "source": [
    "order_df_new_city_state = order_df_new_city.select('*', split(split(col(\"Purchase Address\"), ',').getItem(2) , ' ').getItem(1).alias(\"state\"))\n",
    "\n",
    "order_df_new_city_state.show()"
   ]
  },
  {
   "cell_type": "markdown",
   "id": "fd1154c6-7790-4a90-995f-a43f29889c15",
   "metadata": {},
   "source": [
    "## Applying cast for OrderID Quantity and Price column"
   ]
  },
  {
   "cell_type": "code",
   "execution_count": 19,
   "id": "5dfd0c78-6214-46d6-a126-09a5d8e3febc",
   "metadata": {},
   "outputs": [
    {
     "name": "stdout",
     "output_type": "stream",
     "text": [
      "+--------+--------------------------+----------------+----------+--------------+-----------------------------------------+--------------+-----+-------+--------+------+\n",
      "|Order ID|Product                   |Quantity Ordered|Price Each|Order Date    |Purchase Address                         |city          |state|OrderID|Quantity|Price |\n",
      "+--------+--------------------------+----------------+----------+--------------+-----------------------------------------+--------------+-----+-------+--------+------+\n",
      "|295665  |Macbook Pro Laptop        |1               |1700      |12/30/19 00:01|136 Church St, New York City, NY 10001   | New York City|NY   |295665 |1       |1700.0|\n",
      "|295666  |LG Washing Machine        |1               |600.0     |12/29/19 07:03|562 2nd St, New York City, NY 10001      | New York City|NY   |295666 |1       |600.0 |\n",
      "|295667  |USB-C Charging Cable      |1               |11.95     |12/12/19 18:21|277 Main St, New York City, NY 10001     | New York City|NY   |295667 |1       |11.95 |\n",
      "|295668  |27in FHD Monitor          |1               |149.99    |12/22/19 15:13|410 6th St, San Francisco, CA 94016      | San Francisco|CA   |295668 |1       |149.99|\n",
      "|295669  |USB-C Charging Cable      |1               |11.95     |12/18/19 12:38|43 Hill St, Atlanta, GA 30301            | Atlanta      |GA   |295669 |1       |11.95 |\n",
      "|295670  |AA Batteries (4-pack)     |1               |3.84      |12/31/19 22:58|200 Jefferson St, New York City, NY 10001| New York City|NY   |295670 |1       |3.84  |\n",
      "|295671  |USB-C Charging Cable      |1               |11.95     |12/16/19 15:10|928 12th St, Portland, OR 97035          | Portland     |OR   |295671 |1       |11.95 |\n",
      "|295672  |USB-C Charging Cable      |2               |11.95     |12/13/19 09:29|813 Hickory St, Dallas, TX 75001         | Dallas       |TX   |295672 |2       |11.95 |\n",
      "|295673  |Bose SoundSport Headphones|1               |99.99     |12/15/19 23:26|718 Wilson St, Dallas, TX 75001          | Dallas       |TX   |295673 |1       |99.99 |\n",
      "|295674  |AAA Batteries (4-pack)    |4               |2.99      |12/28/19 11:51|77 7th St, Dallas, TX 75001              | Dallas       |TX   |295674 |4       |2.99  |\n",
      "|295675  |USB-C Charging Cable      |2               |11.95     |12/13/19 13:52|594 1st St, San Francisco, CA 94016      | San Francisco|CA   |295675 |2       |11.95 |\n",
      "|295676  |ThinkPad Laptop           |1               |999.99    |12/28/19 17:19|410 Lincoln St, Los Angeles, CA 90001    | Los Angeles  |CA   |295676 |1       |999.99|\n",
      "|295677  |AA Batteries (4-pack)     |2               |3.84      |12/20/19 19:19|866 Pine St, Boston, MA 02215            | Boston       |MA   |295677 |2       |3.84  |\n",
      "|295678  |AAA Batteries (4-pack)    |2               |2.99      |12/06/19 09:38|187 Lincoln St, Dallas, TX 75001         | Dallas       |TX   |295678 |2       |2.99  |\n",
      "|295679  |USB-C Charging Cable      |1               |11.95     |12/25/19 09:39|902 2nd St, Dallas, TX 75001             | Dallas       |TX   |295679 |1       |11.95 |\n",
      "|295680  |Lightning Charging Cable  |1               |14.95     |12/01/19 14:30|338 Main St, Austin, TX 73301            | Austin       |TX   |295680 |1       |14.95 |\n",
      "|295681  |Google Phone              |1               |600       |12/25/19 12:37|79 Elm St, Boston, MA 02215              | Boston       |MA   |295681 |1       |600.0 |\n",
      "|295681  |USB-C Charging Cable      |1               |11.95     |12/25/19 12:37|79 Elm St, Boston, MA 02215              | Boston       |MA   |295681 |1       |11.95 |\n",
      "|295681  |Bose SoundSport Headphones|1               |99.99     |12/25/19 12:37|79 Elm St, Boston, MA 02215              | Boston       |MA   |295681 |1       |99.99 |\n",
      "|295681  |Wired Headphones          |1               |11.99     |12/25/19 12:37|79 Elm St, Boston, MA 02215              | Boston       |MA   |295681 |1       |11.99 |\n",
      "+--------+--------------------------+----------------+----------+--------------+-----------------------------------------+--------------+-----+-------+--------+------+\n",
      "only showing top 20 rows\n",
      "\n"
     ]
    }
   ],
   "source": [
    "order_df_new_city_state_cast_1 = (order_df_new_city_state\n",
    "                                  .select('*', col(\"Order ID\").cast('int')\n",
    "                                  .alias(\"OrderID\"), col(\"Quantity Ordered\").cast('int').alias(\"Quantity\"), col(\"Price Each\").cast('float').alias(\"Price\")))\n",
    "order_df_new_city_state_cast_1.show(truncate=False)\n"
   ]
  },
  {
   "cell_type": "code",
   "execution_count": 20,
   "id": "8ae845e4-a4f1-4ace-add6-230f7c572138",
   "metadata": {},
   "outputs": [
    {
     "name": "stdout",
     "output_type": "stream",
     "text": [
      "+-------+------------------+------------+------------------+------------------+--------------+--------------------+--------+------+------------------+------------------+------------------+\n",
      "|summary|          Order ID|     Product|  Quantity Ordered|        Price Each|    Order Date|    Purchase Address|    city| state|           OrderID|          Quantity|             Price|\n",
      "+-------+------------------+------------+------------------+------------------+--------------+--------------------+--------+------+------------------+------------------+------------------+\n",
      "|  count|            185950|      185950|            185950|            185950|        185950|              185950|  185950|185950|            185950|            185950|            185950|\n",
      "|   mean| 230417.5693788653|        null|1.1243828986286637|184.39973476747707|          null|                null|    null|  null| 230417.5693788653|1.1243828986286637| 184.3997338440329|\n",
      "| stddev|51512.737109995265|        null|0.4427926240286704| 332.7313298843439|          null|                null|    null|  null|51512.737109995265|0.4427926240286704|332.73132902597365|\n",
      "|    min|            141234|20in Monitor|                 1|            109.99|01/01/19 03:07|1 11th St, Atlant...| Atlanta|    CA|            141234|                 1|              2.99|\n",
      "|    max|            319670|      iPhone|                 9|            999.99|12/31/19 23:53|999 Wilson St, Sa...| Seattle|    WA|            319670|                 9|            1700.0|\n",
      "+-------+------------------+------------+------------------+------------------+--------------+--------------------+--------+------+------------------+------------------+------------------+\n",
      "\n"
     ]
    }
   ],
   "source": [
    "order_df_new_city_state_cast_1.describe().show()\n"
   ]
  },
  {
   "cell_type": "code",
   "execution_count": 21,
   "id": "5e434196-b83e-4a16-ae2e-33940531967f",
   "metadata": {},
   "outputs": [
    {
     "data": {
      "text/plain": [
       "DataFrame[Order ID: string, Product: string, Quantity Ordered: string, Price Each: string, Order Date: string, Purchase Address: string, city: string, state: string, OrderID: int, Quantity: int, Price: float]"
      ]
     },
     "execution_count": 21,
     "metadata": {},
     "output_type": "execute_result"
    }
   ],
   "source": [
    "order_df_new_city_state_cast_1"
   ]
  },
  {
   "cell_type": "markdown",
   "id": "3eb58a06-3d2c-499b-af2c-60e97f56b28f",
   "metadata": {},
   "source": [
    "## To Timestamp "
   ]
  },
  {
   "cell_type": "code",
   "execution_count": 22,
   "id": "f74ceeb8-409a-4cf5-a822-a4b8b548c844",
   "metadata": {},
   "outputs": [],
   "source": [
    "from pyspark.sql.functions import unix_timestamp, to_timestamp\n",
    "from pyspark.sql.types import TimestampType"
   ]
  },
  {
   "cell_type": "code",
   "execution_count": 23,
   "id": "d6fa689d-3079-4f73-83b6-1cd1b7a749ff",
   "metadata": {},
   "outputs": [
    {
     "name": "stdout",
     "output_type": "stream",
     "text": [
      "+--------+--------------------+----------------+----------+--------------+--------------------+--------------+-----+-------+--------+------+----+\n",
      "|Order ID|             Product|Quantity Ordered|Price Each|    Order Date|    Purchase Address|          city|state|OrderID|Quantity| Price|Date|\n",
      "+--------+--------------------+----------------+----------+--------------+--------------------+--------------+-----+-------+--------+------+----+\n",
      "|  295665|  Macbook Pro Laptop|               1|      1700|12/30/19 00:01|136 Church St, Ne...| New York City|   NY| 295665|       1|1700.0|null|\n",
      "|  295666|  LG Washing Machine|               1|     600.0|12/29/19 07:03|562 2nd St, New Y...| New York City|   NY| 295666|       1| 600.0|null|\n",
      "|  295667|USB-C Charging Cable|               1|     11.95|12/12/19 18:21|277 Main St, New ...| New York City|   NY| 295667|       1| 11.95|null|\n",
      "|  295668|    27in FHD Monitor|               1|    149.99|12/22/19 15:13|410 6th St, San F...| San Francisco|   CA| 295668|       1|149.99|null|\n",
      "|  295669|USB-C Charging Cable|               1|     11.95|12/18/19 12:38|43 Hill St, Atlan...|       Atlanta|   GA| 295669|       1| 11.95|null|\n",
      "|  295670|AA Batteries (4-p...|               1|      3.84|12/31/19 22:58|200 Jefferson St,...| New York City|   NY| 295670|       1|  3.84|null|\n",
      "|  295671|USB-C Charging Cable|               1|     11.95|12/16/19 15:10|928 12th St, Port...|      Portland|   OR| 295671|       1| 11.95|null|\n",
      "|  295672|USB-C Charging Cable|               2|     11.95|12/13/19 09:29|813 Hickory St, D...|        Dallas|   TX| 295672|       2| 11.95|null|\n",
      "|  295673|Bose SoundSport H...|               1|     99.99|12/15/19 23:26|718 Wilson St, Da...|        Dallas|   TX| 295673|       1| 99.99|null|\n",
      "|  295674|AAA Batteries (4-...|               4|      2.99|12/28/19 11:51|77 7th St, Dallas...|        Dallas|   TX| 295674|       4|  2.99|null|\n",
      "|  295675|USB-C Charging Cable|               2|     11.95|12/13/19 13:52|594 1st St, San F...| San Francisco|   CA| 295675|       2| 11.95|null|\n",
      "|  295676|     ThinkPad Laptop|               1|    999.99|12/28/19 17:19|410 Lincoln St, L...|   Los Angeles|   CA| 295676|       1|999.99|null|\n",
      "|  295677|AA Batteries (4-p...|               2|      3.84|12/20/19 19:19|866 Pine St, Bost...|        Boston|   MA| 295677|       2|  3.84|null|\n",
      "|  295678|AAA Batteries (4-...|               2|      2.99|12/06/19 09:38|187 Lincoln St, D...|        Dallas|   TX| 295678|       2|  2.99|null|\n",
      "|  295679|USB-C Charging Cable|               1|     11.95|12/25/19 09:39|902 2nd St, Dalla...|        Dallas|   TX| 295679|       1| 11.95|null|\n",
      "|  295680|Lightning Chargin...|               1|     14.95|12/01/19 14:30|338 Main St, Aust...|        Austin|   TX| 295680|       1| 14.95|null|\n",
      "|  295681|        Google Phone|               1|       600|12/25/19 12:37|79 Elm St, Boston...|        Boston|   MA| 295681|       1| 600.0|null|\n",
      "|  295681|USB-C Charging Cable|               1|     11.95|12/25/19 12:37|79 Elm St, Boston...|        Boston|   MA| 295681|       1| 11.95|null|\n",
      "|  295681|Bose SoundSport H...|               1|     99.99|12/25/19 12:37|79 Elm St, Boston...|        Boston|   MA| 295681|       1| 99.99|null|\n",
      "|  295681|    Wired Headphones|               1|     11.99|12/25/19 12:37|79 Elm St, Boston...|        Boston|   MA| 295681|       1| 11.99|null|\n",
      "+--------+--------------------+----------------+----------+--------------+--------------------+--------------+-----+-------+--------+------+----+\n",
      "only showing top 20 rows\n",
      "\n"
     ]
    }
   ],
   "source": [
    "order_df_new_city_state_cast_1_time_test = order_df_new_city_state_cast_1.withColumn(\"Date\", unix_timestamp(\"Order Date\", \"MM/dd/yy HH:mm:ss\").cast(TimestampType()))\n",
    "order_df_new_city_state_cast_1_time_test.show()"
   ]
  },
  {
   "cell_type": "markdown",
   "id": "341319b2-84ef-48c4-8fed-2413af41f377",
   "metadata": {},
   "source": [
    "## trying diff method"
   ]
  },
  {
   "cell_type": "code",
   "execution_count": 25,
   "id": "b53b256d-8bdf-4758-8d98-518739cfcc30",
   "metadata": {},
   "outputs": [],
   "source": [
    "order_df_new_city_state_cast_1_time1 = order_df_new_city_state_cast_1.withColumn(\"Date\", to_timestamp(col(\"Order Date\"), 'MM/dd/yy HH:mm'))"
   ]
  },
  {
   "cell_type": "code",
   "execution_count": 26,
   "id": "a2c66d79-69e2-4114-966c-5ca8088cc455",
   "metadata": {},
   "outputs": [
    {
     "name": "stdout",
     "output_type": "stream",
     "text": [
      "+--------+--------------------+----------------+----------+--------------+--------------------+--------------+-----+-------+--------+------+-------------------+\n",
      "|Order ID|             Product|Quantity Ordered|Price Each|    Order Date|    Purchase Address|          city|state|OrderID|Quantity| Price|               Date|\n",
      "+--------+--------------------+----------------+----------+--------------+--------------------+--------------+-----+-------+--------+------+-------------------+\n",
      "|  295665|  Macbook Pro Laptop|               1|      1700|12/30/19 00:01|136 Church St, Ne...| New York City|   NY| 295665|       1|1700.0|2019-12-30 00:01:00|\n",
      "|  295666|  LG Washing Machine|               1|     600.0|12/29/19 07:03|562 2nd St, New Y...| New York City|   NY| 295666|       1| 600.0|2019-12-29 07:03:00|\n",
      "|  295667|USB-C Charging Cable|               1|     11.95|12/12/19 18:21|277 Main St, New ...| New York City|   NY| 295667|       1| 11.95|2019-12-12 18:21:00|\n",
      "|  295668|    27in FHD Monitor|               1|    149.99|12/22/19 15:13|410 6th St, San F...| San Francisco|   CA| 295668|       1|149.99|2019-12-22 15:13:00|\n",
      "|  295669|USB-C Charging Cable|               1|     11.95|12/18/19 12:38|43 Hill St, Atlan...|       Atlanta|   GA| 295669|       1| 11.95|2019-12-18 12:38:00|\n",
      "|  295670|AA Batteries (4-p...|               1|      3.84|12/31/19 22:58|200 Jefferson St,...| New York City|   NY| 295670|       1|  3.84|2019-12-31 22:58:00|\n",
      "|  295671|USB-C Charging Cable|               1|     11.95|12/16/19 15:10|928 12th St, Port...|      Portland|   OR| 295671|       1| 11.95|2019-12-16 15:10:00|\n",
      "|  295672|USB-C Charging Cable|               2|     11.95|12/13/19 09:29|813 Hickory St, D...|        Dallas|   TX| 295672|       2| 11.95|2019-12-13 09:29:00|\n",
      "|  295673|Bose SoundSport H...|               1|     99.99|12/15/19 23:26|718 Wilson St, Da...|        Dallas|   TX| 295673|       1| 99.99|2019-12-15 23:26:00|\n",
      "|  295674|AAA Batteries (4-...|               4|      2.99|12/28/19 11:51|77 7th St, Dallas...|        Dallas|   TX| 295674|       4|  2.99|2019-12-28 11:51:00|\n",
      "|  295675|USB-C Charging Cable|               2|     11.95|12/13/19 13:52|594 1st St, San F...| San Francisco|   CA| 295675|       2| 11.95|2019-12-13 13:52:00|\n",
      "|  295676|     ThinkPad Laptop|               1|    999.99|12/28/19 17:19|410 Lincoln St, L...|   Los Angeles|   CA| 295676|       1|999.99|2019-12-28 17:19:00|\n",
      "|  295677|AA Batteries (4-p...|               2|      3.84|12/20/19 19:19|866 Pine St, Bost...|        Boston|   MA| 295677|       2|  3.84|2019-12-20 19:19:00|\n",
      "|  295678|AAA Batteries (4-...|               2|      2.99|12/06/19 09:38|187 Lincoln St, D...|        Dallas|   TX| 295678|       2|  2.99|2019-12-06 09:38:00|\n",
      "|  295679|USB-C Charging Cable|               1|     11.95|12/25/19 09:39|902 2nd St, Dalla...|        Dallas|   TX| 295679|       1| 11.95|2019-12-25 09:39:00|\n",
      "|  295680|Lightning Chargin...|               1|     14.95|12/01/19 14:30|338 Main St, Aust...|        Austin|   TX| 295680|       1| 14.95|2019-12-01 14:30:00|\n",
      "|  295681|        Google Phone|               1|       600|12/25/19 12:37|79 Elm St, Boston...|        Boston|   MA| 295681|       1| 600.0|2019-12-25 12:37:00|\n",
      "|  295681|USB-C Charging Cable|               1|     11.95|12/25/19 12:37|79 Elm St, Boston...|        Boston|   MA| 295681|       1| 11.95|2019-12-25 12:37:00|\n",
      "|  295681|Bose SoundSport H...|               1|     99.99|12/25/19 12:37|79 Elm St, Boston...|        Boston|   MA| 295681|       1| 99.99|2019-12-25 12:37:00|\n",
      "|  295681|    Wired Headphones|               1|     11.99|12/25/19 12:37|79 Elm St, Boston...|        Boston|   MA| 295681|       1| 11.99|2019-12-25 12:37:00|\n",
      "+--------+--------------------+----------------+----------+--------------+--------------------+--------------+-----+-------+--------+------+-------------------+\n",
      "only showing top 20 rows\n",
      "\n"
     ]
    }
   ],
   "source": [
    "order_df_new_city_state_cast_1_time1.show()"
   ]
  },
  {
   "cell_type": "code",
   "execution_count": 27,
   "id": "c1b48266-b849-4423-a256-390006727494",
   "metadata": {},
   "outputs": [
    {
     "name": "stdout",
     "output_type": "stream",
     "text": [
      "root\n",
      " |-- Order ID: string (nullable = true)\n",
      " |-- Product: string (nullable = true)\n",
      " |-- Quantity Ordered: string (nullable = true)\n",
      " |-- Price Each: string (nullable = true)\n",
      " |-- Order Date: string (nullable = true)\n",
      " |-- Purchase Address: string (nullable = true)\n",
      " |-- city: string (nullable = true)\n",
      " |-- state: string (nullable = true)\n",
      " |-- OrderID: integer (nullable = true)\n",
      " |-- Quantity: integer (nullable = true)\n",
      " |-- Price: float (nullable = true)\n",
      " |-- Date: timestamp (nullable = true)\n",
      "\n"
     ]
    }
   ],
   "source": [
    "order_df_new_city_state_cast_1_time1.printSchema()"
   ]
  },
  {
   "cell_type": "code",
   "execution_count": 28,
   "id": "61f7b8ae-a7fe-419a-a3ff-e2f16fbc30d9",
   "metadata": {},
   "outputs": [],
   "source": [
    "order_df_new_city_state_cast_1_time1 = order_df_new_city_state_cast_1_time1.withColumnRenamed(\"Purchase Address\", \"StoreAddress\").drop(\"Order ID\").drop(\"Quantity Ordered\").drop(\"Price Each\").drop(\"Order Date\")"
   ]
  },
  {
   "cell_type": "code",
   "execution_count": 29,
   "id": "48e83061-a4ca-41ff-abac-9aea2dfc77cb",
   "metadata": {},
   "outputs": [
    {
     "name": "stdout",
     "output_type": "stream",
     "text": [
      "+--------------------+--------------------+--------------+-----+-------+--------+------+-------------------+\n",
      "|             Product|        StoreAddress|          city|state|OrderID|Quantity| Price|               Date|\n",
      "+--------------------+--------------------+--------------+-----+-------+--------+------+-------------------+\n",
      "|  Macbook Pro Laptop|136 Church St, Ne...| New York City|   NY| 295665|       1|1700.0|2019-12-30 00:01:00|\n",
      "|  LG Washing Machine|562 2nd St, New Y...| New York City|   NY| 295666|       1| 600.0|2019-12-29 07:03:00|\n",
      "|USB-C Charging Cable|277 Main St, New ...| New York City|   NY| 295667|       1| 11.95|2019-12-12 18:21:00|\n",
      "|    27in FHD Monitor|410 6th St, San F...| San Francisco|   CA| 295668|       1|149.99|2019-12-22 15:13:00|\n",
      "|USB-C Charging Cable|43 Hill St, Atlan...|       Atlanta|   GA| 295669|       1| 11.95|2019-12-18 12:38:00|\n",
      "|AA Batteries (4-p...|200 Jefferson St,...| New York City|   NY| 295670|       1|  3.84|2019-12-31 22:58:00|\n",
      "|USB-C Charging Cable|928 12th St, Port...|      Portland|   OR| 295671|       1| 11.95|2019-12-16 15:10:00|\n",
      "|USB-C Charging Cable|813 Hickory St, D...|        Dallas|   TX| 295672|       2| 11.95|2019-12-13 09:29:00|\n",
      "|Bose SoundSport H...|718 Wilson St, Da...|        Dallas|   TX| 295673|       1| 99.99|2019-12-15 23:26:00|\n",
      "|AAA Batteries (4-...|77 7th St, Dallas...|        Dallas|   TX| 295674|       4|  2.99|2019-12-28 11:51:00|\n",
      "|USB-C Charging Cable|594 1st St, San F...| San Francisco|   CA| 295675|       2| 11.95|2019-12-13 13:52:00|\n",
      "|     ThinkPad Laptop|410 Lincoln St, L...|   Los Angeles|   CA| 295676|       1|999.99|2019-12-28 17:19:00|\n",
      "|AA Batteries (4-p...|866 Pine St, Bost...|        Boston|   MA| 295677|       2|  3.84|2019-12-20 19:19:00|\n",
      "|AAA Batteries (4-...|187 Lincoln St, D...|        Dallas|   TX| 295678|       2|  2.99|2019-12-06 09:38:00|\n",
      "|USB-C Charging Cable|902 2nd St, Dalla...|        Dallas|   TX| 295679|       1| 11.95|2019-12-25 09:39:00|\n",
      "|Lightning Chargin...|338 Main St, Aust...|        Austin|   TX| 295680|       1| 14.95|2019-12-01 14:30:00|\n",
      "|        Google Phone|79 Elm St, Boston...|        Boston|   MA| 295681|       1| 600.0|2019-12-25 12:37:00|\n",
      "|USB-C Charging Cable|79 Elm St, Boston...|        Boston|   MA| 295681|       1| 11.95|2019-12-25 12:37:00|\n",
      "|Bose SoundSport H...|79 Elm St, Boston...|        Boston|   MA| 295681|       1| 99.99|2019-12-25 12:37:00|\n",
      "|    Wired Headphones|79 Elm St, Boston...|        Boston|   MA| 295681|       1| 11.99|2019-12-25 12:37:00|\n",
      "+--------------------+--------------------+--------------+-----+-------+--------+------+-------------------+\n",
      "only showing top 20 rows\n",
      "\n"
     ]
    }
   ],
   "source": [
    "order_df_new_city_state_cast_1_time1.show()"
   ]
  },
  {
   "cell_type": "code",
   "execution_count": 30,
   "id": "ee2bdb61-b1ea-462c-9125-120832ff100a",
   "metadata": {},
   "outputs": [],
   "source": [
    "from pyspark.sql.functions import year, month, col"
   ]
  },
  {
   "cell_type": "code",
   "execution_count": 31,
   "id": "15957a66-b6c0-4ca6-b4b7-2e7fa1be4133",
   "metadata": {},
   "outputs": [],
   "source": [
    "order_df_new_city_state_cast_1_time1 = order_df_new_city_state_cast_1_time1.withColumn(\"ReportYear\", year(col(\"Date\"))).withColumn(\"Month\", month(col(\"Date\")) )"
   ]
  },
  {
   "cell_type": "code",
   "execution_count": 32,
   "id": "b8f7a81b-44b8-4d6e-82bf-44f11186d7bd",
   "metadata": {},
   "outputs": [
    {
     "name": "stdout",
     "output_type": "stream",
     "text": [
      "+--------------------+--------------------+--------------+-----+-------+--------+------+-------------------+----------+-----+\n",
      "|             Product|        StoreAddress|          city|state|OrderID|Quantity| Price|               Date|ReportYear|Month|\n",
      "+--------------------+--------------------+--------------+-----+-------+--------+------+-------------------+----------+-----+\n",
      "|  Macbook Pro Laptop|136 Church St, Ne...| New York City|   NY| 295665|       1|1700.0|2019-12-30 00:01:00|      2019|   12|\n",
      "|  LG Washing Machine|562 2nd St, New Y...| New York City|   NY| 295666|       1| 600.0|2019-12-29 07:03:00|      2019|   12|\n",
      "|USB-C Charging Cable|277 Main St, New ...| New York City|   NY| 295667|       1| 11.95|2019-12-12 18:21:00|      2019|   12|\n",
      "|    27in FHD Monitor|410 6th St, San F...| San Francisco|   CA| 295668|       1|149.99|2019-12-22 15:13:00|      2019|   12|\n",
      "|USB-C Charging Cable|43 Hill St, Atlan...|       Atlanta|   GA| 295669|       1| 11.95|2019-12-18 12:38:00|      2019|   12|\n",
      "|AA Batteries (4-p...|200 Jefferson St,...| New York City|   NY| 295670|       1|  3.84|2019-12-31 22:58:00|      2019|   12|\n",
      "|USB-C Charging Cable|928 12th St, Port...|      Portland|   OR| 295671|       1| 11.95|2019-12-16 15:10:00|      2019|   12|\n",
      "|USB-C Charging Cable|813 Hickory St, D...|        Dallas|   TX| 295672|       2| 11.95|2019-12-13 09:29:00|      2019|   12|\n",
      "|Bose SoundSport H...|718 Wilson St, Da...|        Dallas|   TX| 295673|       1| 99.99|2019-12-15 23:26:00|      2019|   12|\n",
      "|AAA Batteries (4-...|77 7th St, Dallas...|        Dallas|   TX| 295674|       4|  2.99|2019-12-28 11:51:00|      2019|   12|\n",
      "|USB-C Charging Cable|594 1st St, San F...| San Francisco|   CA| 295675|       2| 11.95|2019-12-13 13:52:00|      2019|   12|\n",
      "|     ThinkPad Laptop|410 Lincoln St, L...|   Los Angeles|   CA| 295676|       1|999.99|2019-12-28 17:19:00|      2019|   12|\n",
      "|AA Batteries (4-p...|866 Pine St, Bost...|        Boston|   MA| 295677|       2|  3.84|2019-12-20 19:19:00|      2019|   12|\n",
      "|AAA Batteries (4-...|187 Lincoln St, D...|        Dallas|   TX| 295678|       2|  2.99|2019-12-06 09:38:00|      2019|   12|\n",
      "|USB-C Charging Cable|902 2nd St, Dalla...|        Dallas|   TX| 295679|       1| 11.95|2019-12-25 09:39:00|      2019|   12|\n",
      "|Lightning Chargin...|338 Main St, Aust...|        Austin|   TX| 295680|       1| 14.95|2019-12-01 14:30:00|      2019|   12|\n",
      "|        Google Phone|79 Elm St, Boston...|        Boston|   MA| 295681|       1| 600.0|2019-12-25 12:37:00|      2019|   12|\n",
      "|USB-C Charging Cable|79 Elm St, Boston...|        Boston|   MA| 295681|       1| 11.95|2019-12-25 12:37:00|      2019|   12|\n",
      "|Bose SoundSport H...|79 Elm St, Boston...|        Boston|   MA| 295681|       1| 99.99|2019-12-25 12:37:00|      2019|   12|\n",
      "|    Wired Headphones|79 Elm St, Boston...|        Boston|   MA| 295681|       1| 11.99|2019-12-25 12:37:00|      2019|   12|\n",
      "+--------------------+--------------------+--------------+-----+-------+--------+------+-------------------+----------+-----+\n",
      "only showing top 20 rows\n",
      "\n"
     ]
    }
   ],
   "source": [
    "order_df_new_city_state_cast_1_time1.show()"
   ]
  },
  {
   "cell_type": "markdown",
   "id": "dbd6930c-47a3-4f48-b018-10b73158b87f",
   "metadata": {},
   "source": [
    "### Write final dataframe to Parquet"
   ]
  },
  {
   "cell_type": "markdown",
   "id": "96c3fbe9-90f8-427e-b4d2-ef7a6b84831e",
   "metadata": {},
   "source": [
    "Rearrange data into order"
   ]
  },
  {
   "cell_type": "code",
   "execution_count": 34,
   "id": "fb8687be-13fc-4de8-be8e-e7467e3b276b",
   "metadata": {},
   "outputs": [],
   "source": [
    "order_df_final = order_df_new_city_state_cast_1_time1.select(\"OrderID\", \"Product\", \"Quantity\", \"Price\", \"Date\", \"StoreAddress\", \"city\", \"ReportYear\", \"Month\")\n"
   ]
  },
  {
   "cell_type": "code",
   "execution_count": 35,
   "id": "8ee0b757-242a-4db6-9c4e-da0a80823fd8",
   "metadata": {},
   "outputs": [
    {
     "name": "stdout",
     "output_type": "stream",
     "text": [
      "root\n",
      " |-- OrderID: integer (nullable = true)\n",
      " |-- Product: string (nullable = true)\n",
      " |-- Quantity: integer (nullable = true)\n",
      " |-- Price: float (nullable = true)\n",
      " |-- Date: timestamp (nullable = true)\n",
      " |-- StoreAddress: string (nullable = true)\n",
      " |-- city: string (nullable = true)\n",
      " |-- ReportYear: integer (nullable = true)\n",
      " |-- Month: integer (nullable = true)\n",
      "\n"
     ]
    }
   ],
   "source": [
    "order_df_final.printSchema()"
   ]
  },
  {
   "cell_type": "code",
   "execution_count": 36,
   "id": "e02be87b-e2a3-4311-91e2-2a7c9f06359c",
   "metadata": {},
   "outputs": [],
   "source": [
    "output_path = './data/output/sales'\n",
    "order_df_final.write.mode(\"overwrite\").partitionBy(\"ReportYear\", \"Month\").parquet(output_path)"
   ]
  },
  {
   "cell_type": "code",
   "execution_count": null,
   "id": "0b7aa15e-58fe-460d-9712-be3b4daa19be",
   "metadata": {},
   "outputs": [],
   "source": []
  }
 ],
 "metadata": {
  "kernelspec": {
   "display_name": "Python 3 (ipykernel)",
   "language": "python",
   "name": "python3"
  },
  "language_info": {
   "codemirror_mode": {
    "name": "ipython",
    "version": 3
   },
   "file_extension": ".py",
   "mimetype": "text/x-python",
   "name": "python",
   "nbconvert_exporter": "python",
   "pygments_lexer": "ipython3",
   "version": "3.9.7"
  }
 },
 "nbformat": 4,
 "nbformat_minor": 5
}
