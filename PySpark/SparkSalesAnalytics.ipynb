{
 "cells": [
  {
   "cell_type": "code",
   "execution_count": 3,
   "id": "d9290b57-abbb-422a-a94d-f9297b90f92b",
   "metadata": {},
   "outputs": [],
   "source": [
    "from pyspark.sql import SparkSession"
   ]
  },
  {
   "cell_type": "code",
   "execution_count": 16,
   "id": "3a93a97b-4bcc-4455-b775-2edf43a5d3d1",
   "metadata": {},
   "outputs": [],
   "source": [
    "from pyspark.sql.functions import sum, col, expr, round, avg, min, max"
   ]
  },
  {
   "cell_type": "code",
   "execution_count": 4,
   "id": "7f80db86-886c-452f-9527-a8998d5976fb",
   "metadata": {},
   "outputs": [],
   "source": [
    "spark = SparkSession.builder.appName(\"SparkSalesAnalytics\").getOrCreate()"
   ]
  },
  {
   "cell_type": "code",
   "execution_count": 17,
   "id": "3b293a35-1e0e-4f10-84ed-1827594e3a8b",
   "metadata": {},
   "outputs": [],
   "source": [
    "sales_data = './data/output/sales/'\n",
    "partition = \"ReportYear=2019\"\n",
    "full_path = f\"{sales_data}{partition}\""
   ]
  },
  {
   "cell_type": "code",
   "execution_count": 18,
   "id": "6c351a74-6ea7-40d7-9c8c-933d77dcb66e",
   "metadata": {},
   "outputs": [],
   "source": [
    "sales_df = spark.read.parquet(full_path)"
   ]
  },
  {
   "cell_type": "code",
   "execution_count": 19,
   "id": "85ddb958-3a0f-4634-9bc6-2f7e64a40d55",
   "metadata": {},
   "outputs": [
    {
     "name": "stdout",
     "output_type": "stream",
     "text": [
      "+-------+--------------------+--------+------+-------------------+--------------------+--------------+-----+\n",
      "|OrderID|             Product|Quantity| Price|               Date|        StoreAddress|          city|Month|\n",
      "+-------+--------------------+--------+------+-------------------+--------------------+--------------+-----+\n",
      "| 295665|  Macbook Pro Laptop|       1|1700.0|2019-12-30 00:01:00|136 Church St, Ne...| New York City|   12|\n",
      "| 295666|  LG Washing Machine|       1| 600.0|2019-12-29 07:03:00|562 2nd St, New Y...| New York City|   12|\n",
      "| 295667|USB-C Charging Cable|       1| 11.95|2019-12-12 18:21:00|277 Main St, New ...| New York City|   12|\n",
      "| 295668|    27in FHD Monitor|       1|149.99|2019-12-22 15:13:00|410 6th St, San F...| San Francisco|   12|\n",
      "| 295669|USB-C Charging Cable|       1| 11.95|2019-12-18 12:38:00|43 Hill St, Atlan...|       Atlanta|   12|\n",
      "+-------+--------------------+--------+------+-------------------+--------------------+--------------+-----+\n",
      "only showing top 5 rows\n",
      "\n"
     ]
    }
   ],
   "source": [
    "sales_df.show(5)"
   ]
  },
  {
   "cell_type": "code",
   "execution_count": 33,
   "id": "c5713534-5a87-461f-abfa-6cc160f3755e",
   "metadata": {},
   "outputs": [
    {
     "name": "stdout",
     "output_type": "stream",
     "text": [
      "+-------+------------------+------------+------------------+-----------------+--------------------+--------+-----------------+\n",
      "|summary|           OrderID|     Product|          Quantity|            Price|        StoreAddress|    city|            Month|\n",
      "+-------+------------------+------------+------------------+-----------------+--------------------+--------+-----------------+\n",
      "|  count|            185916|      185916|            185916|           185916|              185916|  185916|           185916|\n",
      "|   mean|230403.54652638827|        null|1.1243679941478948|184.3877186919003|                null|    null|7.060247638718561|\n",
      "| stddev|51506.924899000325|        null|0.4427493862337555|332.7224254127542|                null|    null|3.502357746207615|\n",
      "|    min|            141234|20in Monitor|                 1|             2.99|1 11th St, Atlant...| Atlanta|                1|\n",
      "|    max|            319670|      iPhone|                 9|           1700.0|999 Wilson St, Sa...| Seattle|               12|\n",
      "+-------+------------------+------------+------------------+-----------------+--------------------+--------+-----------------+\n",
      "\n"
     ]
    }
   ],
   "source": [
    "sales_df.describe().show()"
   ]
  },
  {
   "cell_type": "code",
   "execution_count": null,
   "id": "711bfd04-e241-4681-8ce8-5c92dc05ec43",
   "metadata": {},
   "outputs": [],
   "source": [
    "sales_df.filter()"
   ]
  },
  {
   "cell_type": "code",
   "execution_count": 30,
   "id": "6f49876d-ebd2-4db2-9fc0-87cdd752e743",
   "metadata": {},
   "outputs": [
    {
     "name": "stdout",
     "output_type": "stream",
     "text": [
      "+-----+-------------------+\n",
      "|Month|Total_quantity_sold|\n",
      "+-----+-------------------+\n",
      "|   12|   4613443.31607008|\n",
      "|   10|  3736726.860444069|\n",
      "|    4| 3390670.2231714725|\n",
      "|   11|  3199603.184257984|\n",
      "|    5| 3152606.7349271774|\n",
      "+-----+-------------------+\n",
      "only showing top 5 rows\n",
      "\n"
     ]
    }
   ],
   "source": [
    "sales_df.groupBy(\"Month\").agg(sum((col(\"Quantity\") * col(\"Price\"))).alias(\"Total_quantity_sold\")).orderBy(\"Total_quantity_sold\", ascending=False).show(5)"
   ]
  },
  {
   "cell_type": "code",
   "execution_count": 9,
   "id": "9e370643-dc0d-4608-bda3-8b03afe94095",
   "metadata": {},
   "outputs": [
    {
     "name": "stdout",
     "output_type": "stream",
     "text": [
      "root\n",
      " |-- OrderID: integer (nullable = true)\n",
      " |-- Product: string (nullable = true)\n",
      " |-- Quantity: integer (nullable = true)\n",
      " |-- Price: float (nullable = true)\n",
      " |-- Date: timestamp (nullable = true)\n",
      " |-- StoreAddress: string (nullable = true)\n",
      " |-- city: string (nullable = true)\n",
      " |-- Month: integer (nullable = true)\n",
      "\n"
     ]
    }
   ],
   "source": [
    "sales_df.printSchema()"
   ]
  },
  {
   "cell_type": "code",
   "execution_count": 32,
   "id": "59324be5-316f-4962-87c4-de763c2330c1",
   "metadata": {},
   "outputs": [
    {
     "name": "stdout",
     "output_type": "stream",
     "text": [
      "+--------------+--------------+\n",
      "|          city|total_quantity|\n",
      "+--------------+--------------+\n",
      "| San Francisco|         50226|\n",
      "|   Los Angeles|         33288|\n",
      "| New York City|         27916|\n",
      "|        Boston|         22524|\n",
      "|        Dallas|         16728|\n",
      "+--------------+--------------+\n",
      "only showing top 5 rows\n",
      "\n"
     ]
    }
   ],
   "source": [
    "sales_df.groupBy(\"city\").agg(sum(\"Quantity\").alias(\"total_quantity\")).orderBy(\"total_quantity\", ascending=False).show(5)"
   ]
  },
  {
   "cell_type": "code",
   "execution_count": null,
   "id": "238ceb6b-d408-452f-bbe5-e1a0d14da6f6",
   "metadata": {},
   "outputs": [],
   "source": []
  }
 ],
 "metadata": {
  "kernelspec": {
   "display_name": "Python 3 (ipykernel)",
   "language": "python",
   "name": "python3"
  },
  "language_info": {
   "codemirror_mode": {
    "name": "ipython",
    "version": 3
   },
   "file_extension": ".py",
   "mimetype": "text/x-python",
   "name": "python",
   "nbconvert_exporter": "python",
   "pygments_lexer": "ipython3",
   "version": "3.9.7"
  }
 },
 "nbformat": 4,
 "nbformat_minor": 5
}
