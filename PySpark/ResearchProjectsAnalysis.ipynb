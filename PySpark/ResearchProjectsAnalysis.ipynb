{
 "cells": [
  {
   "cell_type": "code",
   "execution_count": 2,
   "id": "e3e4e499",
   "metadata": {},
   "outputs": [],
   "source": [
    "from pyspark.sql import SparkSession"
   ]
  },
  {
   "cell_type": "code",
   "execution_count": 11,
   "id": "507ca8d3",
   "metadata": {},
   "outputs": [],
   "source": [
    "spark = (SparkSession.builder.appName(\"ResearchProjectsAnalysis\").getOrCreate())"
   ]
  },
  {
   "cell_type": "code",
   "execution_count": 6,
   "id": "ff2300d6",
   "metadata": {},
   "outputs": [
    {
     "name": "stdout",
     "output_type": "stream",
     "text": [
      " Volume in drive D is UserProfile\n",
      " Volume Serial Number is 882D-C2C4\n",
      "\n",
      " Directory of D:\\Spark-Projects\\spark-test\n",
      "\n",
      "09/11/2021  01:53 PM    <DIR>          .\n",
      "09/11/2021  01:53 PM    <DIR>          ..\n",
      "09/11/2021  01:48 PM    <DIR>          .ipynb_checkpoints\n",
      "09/11/2021  03:35 AM               188 4.8+XYZ+Data.txt\n",
      "09/11/2021  01:52 PM             1,839 ResearchProjectsAnalysis.ipynb\n",
      "09/11/2021  03:33 AM             6,952 Spark-test.ipynb\n",
      "               3 File(s)          8,979 bytes\n",
      "               3 Dir(s)  81,458,028,544 bytes free\n"
     ]
    }
   ],
   "source": [
    "!dir"
   ]
  },
  {
   "cell_type": "code",
   "execution_count": 12,
   "id": "2e69de33",
   "metadata": {},
   "outputs": [],
   "source": [
    "data2001List = ['RIN1', 'RIN2', 'RIN3', 'RIN4', 'RIN5', 'RIN6', 'RIN7']\n",
    "data2002List = ['RIN3', 'RIN4', 'RIN7', 'RIN8', 'RIN9']\n",
    "data2003List = ['RIN4', 'RIN8', 'RIN10', 'RIN11', 'RIN12']\n",
    "\n"
   ]
  },
  {
   "cell_type": "code",
   "execution_count": 19,
   "id": "a758c058",
   "metadata": {},
   "outputs": [],
   "source": [
    "rdd = spark.sparkContext.parallelize(data2001List + data2002List + data2003List )"
   ]
  },
  {
   "cell_type": "code",
   "execution_count": 20,
   "id": "c63b6596",
   "metadata": {},
   "outputs": [
    {
     "data": {
      "text/plain": [
       "['RIN1',\n",
       " 'RIN2',\n",
       " 'RIN3',\n",
       " 'RIN4',\n",
       " 'RIN5',\n",
       " 'RIN6',\n",
       " 'RIN7',\n",
       " 'RIN3',\n",
       " 'RIN4',\n",
       " 'RIN7',\n",
       " 'RIN8',\n",
       " 'RIN9',\n",
       " 'RIN4',\n",
       " 'RIN8',\n",
       " 'RIN10',\n",
       " 'RIN11',\n",
       " 'RIN12']"
      ]
     },
     "execution_count": 20,
     "metadata": {},
     "output_type": "execute_result"
    }
   ],
   "source": [
    "rdd.collect()"
   ]
  },
  {
   "cell_type": "code",
   "execution_count": 22,
   "id": "126b2dd2",
   "metadata": {},
   "outputs": [],
   "source": [
    "rdd1 = rdd.distinct().collect()"
   ]
  },
  {
   "cell_type": "code",
   "execution_count": 23,
   "id": "867f4fed",
   "metadata": {},
   "outputs": [
    {
     "data": {
      "text/plain": [
       "list"
      ]
     },
     "execution_count": 23,
     "metadata": {},
     "output_type": "execute_result"
    }
   ],
   "source": [
    "type(rdd1)"
   ]
  },
  {
   "cell_type": "code",
   "execution_count": 30,
   "id": "38b1a9c8",
   "metadata": {},
   "outputs": [],
   "source": [
    "rdd1 = rdd.distinct().count()"
   ]
  },
  {
   "cell_type": "code",
   "execution_count": 31,
   "id": "2d896ce9",
   "metadata": {},
   "outputs": [
    {
     "data": {
      "text/plain": [
       "12"
      ]
     },
     "execution_count": 31,
     "metadata": {},
     "output_type": "execute_result"
    }
   ],
   "source": [
    "rdd1 # this is the total number of projects started"
   ]
  },
  {
   "cell_type": "markdown",
   "id": "7149896c",
   "metadata": {},
   "source": [
    "2. How many projects were completed in the first year?"
   ]
  },
  {
   "cell_type": "code",
   "execution_count": 32,
   "id": "4de37143",
   "metadata": {},
   "outputs": [],
   "source": [
    "data2001List = ['RIN1', 'RIN2', 'RIN3', 'RIN4', 'RIN5', 'RIN6', 'RIN7']\n",
    "data2002List = ['RIN3', 'RIN4', 'RIN7', 'RIN8', 'RIN9']\n",
    "data2003List = ['RIN4', 'RIN8', 'RIN10', 'RIN11', 'RIN12']"
   ]
  },
  {
   "cell_type": "code",
   "execution_count": 33,
   "id": "e5b6cf42",
   "metadata": {},
   "outputs": [],
   "source": [
    "rdd2001 = spark.sparkContext.parallelize(data2001List)\n",
    "rdd2002 = spark.sparkContext.parallelize(data2002List)\n",
    "rdd2003 = spark.sparkContext.parallelize(data2003List)"
   ]
  },
  {
   "cell_type": "code",
   "execution_count": null,
   "id": "332fd938",
   "metadata": {},
   "outputs": [],
   "source": []
  },
  {
   "cell_type": "code",
   "execution_count": 37,
   "id": "43b27f68",
   "metadata": {},
   "outputs": [],
   "source": [
    "rddunion = spark.sparkContext.union([rdd2001, rdd2002, rdd2003])"
   ]
  },
  {
   "cell_type": "code",
   "execution_count": 38,
   "id": "8afed986",
   "metadata": {},
   "outputs": [
    {
     "data": {
      "text/plain": [
       "['RIN1',\n",
       " 'RIN2',\n",
       " 'RIN3',\n",
       " 'RIN4',\n",
       " 'RIN5',\n",
       " 'RIN6',\n",
       " 'RIN7',\n",
       " 'RIN3',\n",
       " 'RIN4',\n",
       " 'RIN7',\n",
       " 'RIN8',\n",
       " 'RIN9',\n",
       " 'RIN4',\n",
       " 'RIN8',\n",
       " 'RIN10',\n",
       " 'RIN11',\n",
       " 'RIN12']"
      ]
     },
     "execution_count": 38,
     "metadata": {},
     "output_type": "execute_result"
    }
   ],
   "source": [
    "rddunion.collect()"
   ]
  },
  {
   "cell_type": "code",
   "execution_count": 39,
   "id": "267312c8",
   "metadata": {},
   "outputs": [
    {
     "data": {
      "text/plain": [
       "['RIN2', 'RIN5', 'RIN6', 'RIN1']"
      ]
     },
     "execution_count": 39,
     "metadata": {},
     "output_type": "execute_result"
    }
   ],
   "source": [
    "rdd2001.subtract(rdd2002).collect()"
   ]
  },
  {
   "cell_type": "code",
   "execution_count": 40,
   "id": "b59ab11c",
   "metadata": {},
   "outputs": [
    {
     "ename": "AttributeError",
     "evalue": "'SparkContext' object has no attribute 'subtract'",
     "output_type": "error",
     "traceback": [
      "\u001b[1;31m---------------------------------------------------------------------------\u001b[0m",
      "\u001b[1;31mAttributeError\u001b[0m                            Traceback (most recent call last)",
      "\u001b[1;32m~\\AppData\\Local\\Temp/ipykernel_9660/407069516.py\u001b[0m in \u001b[0;36m<module>\u001b[1;34m\u001b[0m\n\u001b[1;32m----> 1\u001b[1;33m \u001b[0mspark\u001b[0m\u001b[1;33m.\u001b[0m\u001b[0msparkContext\u001b[0m\u001b[1;33m.\u001b[0m\u001b[0msubtract\u001b[0m\u001b[1;33m(\u001b[0m\u001b[1;33m[\u001b[0m\u001b[0mrdd2001\u001b[0m\u001b[1;33m,\u001b[0m \u001b[0mrdd2002\u001b[0m\u001b[1;33m,\u001b[0m \u001b[0mrdd2003\u001b[0m\u001b[1;33m]\u001b[0m\u001b[1;33m)\u001b[0m\u001b[1;33m\u001b[0m\u001b[1;33m\u001b[0m\u001b[0m\n\u001b[0m",
      "\u001b[1;31mAttributeError\u001b[0m: 'SparkContext' object has no attribute 'subtract'"
     ]
    }
   ],
   "source": [
    "spark.sparkContext.subtract([rdd2001, rdd2002, rdd2003])"
   ]
  },
  {
   "cell_type": "code",
   "execution_count": 41,
   "id": "137aabf9",
   "metadata": {},
   "outputs": [],
   "source": [
    "rddunion20012002 = spark.sparkContext.union([rdd2001, rdd2002])"
   ]
  },
  {
   "cell_type": "code",
   "execution_count": 43,
   "id": "21e0d009",
   "metadata": {},
   "outputs": [
    {
     "data": {
      "text/plain": [
       "9"
      ]
     },
     "execution_count": 43,
     "metadata": {},
     "output_type": "execute_result"
    }
   ],
   "source": [
    "rddunion20012002.subtract(rdd2003).count()"
   ]
  },
  {
   "cell_type": "code",
   "execution_count": 44,
   "id": "ce768018",
   "metadata": {},
   "outputs": [
    {
     "data": {
      "text/plain": [
       "['RIN1', 'RIN9', 'RIN2', 'RIN3', 'RIN3', 'RIN5', 'RIN6', 'RIN7', 'RIN7']"
      ]
     },
     "execution_count": 44,
     "metadata": {},
     "output_type": "execute_result"
    }
   ],
   "source": [
    "rddunion20012002.subtract(rdd2003).collect()"
   ]
  },
  {
   "cell_type": "code",
   "execution_count": 45,
   "id": "39bbb17d",
   "metadata": {},
   "outputs": [
    {
     "data": {
      "text/plain": [
       "['RIN1', 'RIN9', 'RIN2', 'RIN3', 'RIN5', 'RIN6', 'RIN7']"
      ]
     },
     "execution_count": 45,
     "metadata": {},
     "output_type": "execute_result"
    }
   ],
   "source": [
    "rddunion20012002.subtract(rdd2003).distinct().collect()"
   ]
  },
  {
   "cell_type": "code",
   "execution_count": null,
   "id": "4a68563b",
   "metadata": {},
   "outputs": [],
   "source": []
  }
 ],
 "metadata": {
  "kernelspec": {
   "display_name": "Python 3 (ipykernel)",
   "language": "python",
   "name": "python3"
  },
  "language_info": {
   "codemirror_mode": {
    "name": "ipython",
    "version": 3
   },
   "file_extension": ".py",
   "mimetype": "text/x-python",
   "name": "python",
   "nbconvert_exporter": "python",
   "pygments_lexer": "ipython3",
   "version": "3.9.7"
  }
 },
 "nbformat": 4,
 "nbformat_minor": 5
}
